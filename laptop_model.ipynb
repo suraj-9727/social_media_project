{
 "cells": [
  {
   "cell_type": "markdown",
   "id": "2d764bae",
   "metadata": {},
   "source": [
    "# Laptop Device Machine Learning Model 📱"
   ]
  },
  {
   "cell_type": "code",
   "execution_count": 1,
   "id": "b8d2fb8f",
   "metadata": {},
   "outputs": [],
   "source": [
    "## importing necessary libraries\n",
    "import pandas as pd\n",
    "import numpy as np\n",
    "import seaborn as sns\n",
    "\n",
    "from sklearn.ensemble import RandomForestClassifier\n",
    "from sklearn.linear_model import LogisticRegression\n",
    "from sklearn.svm import SVC\n",
    "from sklearn.tree import DecisionTreeClassifier\n",
    "from sklearn.neighbors import KNeighborsClassifier\n",
    "from sklearn.ensemble import GradientBoostingClassifier\n",
    "import xgboost as xgb\n",
    "from catboost import CatBoostClassifier\n",
    "\n",
    "from sklearn.preprocessing import StandardScaler\n",
    "\n",
    "import matplotlib.pyplot as plt\n",
    "from colorama import Fore, Back, Style \n",
    "from sklearn.metrics import accuracy_score,confusion_matrix,classification_report\n",
    "from mlxtend.plotting import plot_confusion_matrix"
   ]
  },
  {
   "cell_type": "code",
   "execution_count": 2,
   "id": "8d50041f",
   "metadata": {},
   "outputs": [
    {
     "data": {
      "text/html": [
       "<div>\n",
       "<style scoped>\n",
       "    .dataframe tbody tr th:only-of-type {\n",
       "        vertical-align: middle;\n",
       "    }\n",
       "\n",
       "    .dataframe tbody tr th {\n",
       "        vertical-align: top;\n",
       "    }\n",
       "\n",
       "    .dataframe thead th {\n",
       "        text-align: right;\n",
       "    }\n",
       "</style>\n",
       "<table border=\"1\" class=\"dataframe\">\n",
       "  <thead>\n",
       "    <tr style=\"text-align: right;\">\n",
       "      <th></th>\n",
       "      <th>Unnamed: 0</th>\n",
       "      <th>Yearly_avg_view_on_travel_page</th>\n",
       "      <th>preferred_device</th>\n",
       "      <th>total_likes_on_outstation_checkin_given</th>\n",
       "      <th>yearly_avg_Outstation_checkins</th>\n",
       "      <th>member_in_family</th>\n",
       "      <th>preferred_location_type</th>\n",
       "      <th>Yearly_avg_comment_on_travel_page</th>\n",
       "      <th>total_likes_on_outofstation_checkin_received</th>\n",
       "      <th>week_since_last_outstation_checkin</th>\n",
       "      <th>following_company_page</th>\n",
       "      <th>montly_avg_comment_on_company_page</th>\n",
       "      <th>working_flag</th>\n",
       "      <th>travelling_network_rating</th>\n",
       "      <th>Adult_flag</th>\n",
       "      <th>Daily_Avg_mins_spend_on_traveling_page</th>\n",
       "      <th>Taken_product</th>\n",
       "    </tr>\n",
       "  </thead>\n",
       "  <tbody>\n",
       "    <tr>\n",
       "      <th>0</th>\n",
       "      <td>10381</td>\n",
       "      <td>396</td>\n",
       "      <td>1</td>\n",
       "      <td>22159</td>\n",
       "      <td>21</td>\n",
       "      <td>4</td>\n",
       "      <td>1</td>\n",
       "      <td>89</td>\n",
       "      <td>5505</td>\n",
       "      <td>0</td>\n",
       "      <td>1</td>\n",
       "      <td>28</td>\n",
       "      <td>1</td>\n",
       "      <td>4</td>\n",
       "      <td>0</td>\n",
       "      <td>16</td>\n",
       "      <td>0</td>\n",
       "    </tr>\n",
       "    <tr>\n",
       "      <th>1</th>\n",
       "      <td>322</td>\n",
       "      <td>240</td>\n",
       "      <td>1</td>\n",
       "      <td>35630</td>\n",
       "      <td>1</td>\n",
       "      <td>4</td>\n",
       "      <td>7</td>\n",
       "      <td>74</td>\n",
       "      <td>5055</td>\n",
       "      <td>7</td>\n",
       "      <td>0</td>\n",
       "      <td>16</td>\n",
       "      <td>0</td>\n",
       "      <td>3</td>\n",
       "      <td>0</td>\n",
       "      <td>10</td>\n",
       "      <td>0</td>\n",
       "    </tr>\n",
       "    <tr>\n",
       "      <th>2</th>\n",
       "      <td>6296</td>\n",
       "      <td>289</td>\n",
       "      <td>0</td>\n",
       "      <td>52160</td>\n",
       "      <td>2</td>\n",
       "      <td>2</td>\n",
       "      <td>0</td>\n",
       "      <td>47</td>\n",
       "      <td>1713</td>\n",
       "      <td>1</td>\n",
       "      <td>1</td>\n",
       "      <td>31</td>\n",
       "      <td>1</td>\n",
       "      <td>3</td>\n",
       "      <td>1</td>\n",
       "      <td>1</td>\n",
       "      <td>0</td>\n",
       "    </tr>\n",
       "    <tr>\n",
       "      <th>3</th>\n",
       "      <td>6162</td>\n",
       "      <td>227</td>\n",
       "      <td>0</td>\n",
       "      <td>15482</td>\n",
       "      <td>2</td>\n",
       "      <td>2</td>\n",
       "      <td>0</td>\n",
       "      <td>47</td>\n",
       "      <td>4559</td>\n",
       "      <td>1</td>\n",
       "      <td>0</td>\n",
       "      <td>30</td>\n",
       "      <td>0</td>\n",
       "      <td>1</td>\n",
       "      <td>0</td>\n",
       "      <td>10</td>\n",
       "      <td>0</td>\n",
       "    </tr>\n",
       "    <tr>\n",
       "      <th>4</th>\n",
       "      <td>5799</td>\n",
       "      <td>234</td>\n",
       "      <td>1</td>\n",
       "      <td>39424</td>\n",
       "      <td>1</td>\n",
       "      <td>3</td>\n",
       "      <td>3</td>\n",
       "      <td>61</td>\n",
       "      <td>5059</td>\n",
       "      <td>2</td>\n",
       "      <td>0</td>\n",
       "      <td>30</td>\n",
       "      <td>1</td>\n",
       "      <td>2</td>\n",
       "      <td>0</td>\n",
       "      <td>16</td>\n",
       "      <td>0</td>\n",
       "    </tr>\n",
       "  </tbody>\n",
       "</table>\n",
       "</div>"
      ],
      "text/plain": [
       "   Unnamed: 0  Yearly_avg_view_on_travel_page  preferred_device  \\\n",
       "0       10381                             396                 1   \n",
       "1         322                             240                 1   \n",
       "2        6296                             289                 0   \n",
       "3        6162                             227                 0   \n",
       "4        5799                             234                 1   \n",
       "\n",
       "   total_likes_on_outstation_checkin_given  yearly_avg_Outstation_checkins  \\\n",
       "0                                    22159                              21   \n",
       "1                                    35630                               1   \n",
       "2                                    52160                               2   \n",
       "3                                    15482                               2   \n",
       "4                                    39424                               1   \n",
       "\n",
       "   member_in_family  preferred_location_type  \\\n",
       "0                 4                        1   \n",
       "1                 4                        7   \n",
       "2                 2                        0   \n",
       "3                 2                        0   \n",
       "4                 3                        3   \n",
       "\n",
       "   Yearly_avg_comment_on_travel_page  \\\n",
       "0                                 89   \n",
       "1                                 74   \n",
       "2                                 47   \n",
       "3                                 47   \n",
       "4                                 61   \n",
       "\n",
       "   total_likes_on_outofstation_checkin_received  \\\n",
       "0                                          5505   \n",
       "1                                          5055   \n",
       "2                                          1713   \n",
       "3                                          4559   \n",
       "4                                          5059   \n",
       "\n",
       "   week_since_last_outstation_checkin  following_company_page  \\\n",
       "0                                   0                       1   \n",
       "1                                   7                       0   \n",
       "2                                   1                       1   \n",
       "3                                   1                       0   \n",
       "4                                   2                       0   \n",
       "\n",
       "   montly_avg_comment_on_company_page  working_flag  \\\n",
       "0                                  28             1   \n",
       "1                                  16             0   \n",
       "2                                  31             1   \n",
       "3                                  30             0   \n",
       "4                                  30             1   \n",
       "\n",
       "   travelling_network_rating  Adult_flag  \\\n",
       "0                          4           0   \n",
       "1                          3           0   \n",
       "2                          3           1   \n",
       "3                          1           0   \n",
       "4                          2           0   \n",
       "\n",
       "   Daily_Avg_mins_spend_on_traveling_page  Taken_product  \n",
       "0                                      16              0  \n",
       "1                                      10              0  \n",
       "2                                       1              0  \n",
       "3                                      10              0  \n",
       "4                                      16              0  "
      ]
     },
     "execution_count": 2,
     "metadata": {},
     "output_type": "execute_result"
    }
   ],
   "source": [
    "## reading the data\n",
    "train_df = pd.read_csv('train.csv')\n",
    "train_df.head()"
   ]
  },
  {
   "cell_type": "code",
   "execution_count": 3,
   "id": "390f8e25",
   "metadata": {},
   "outputs": [],
   "source": [
    "train_df.drop(columns={'Unnamed: 0'},inplace=True)"
   ]
  },
  {
   "cell_type": "code",
   "execution_count": 4,
   "id": "7930e1db",
   "metadata": {},
   "outputs": [
    {
     "data": {
      "text/plain": [
       "(4461, 16)"
      ]
     },
     "execution_count": 4,
     "metadata": {},
     "output_type": "execute_result"
    }
   ],
   "source": [
    "train_df.shape"
   ]
  },
  {
   "cell_type": "markdown",
   "id": "c7d1e068",
   "metadata": {},
   "source": [
    "In the main notebook we have labelled `Mobile` as **1** and `Laptop` as **0**"
   ]
  },
  {
   "cell_type": "code",
   "execution_count": 5,
   "id": "d6306ae9",
   "metadata": {},
   "outputs": [],
   "source": [
    "## selecting only those rows that have preferred device as 0\n",
    "train_df = train_df[train_df['preferred_device']==0]"
   ]
  },
  {
   "cell_type": "code",
   "execution_count": 6,
   "id": "0e4957ab",
   "metadata": {},
   "outputs": [
    {
     "data": {
      "text/plain": [
       "preferred_device\n",
       "0    564\n",
       "Name: count, dtype: int64"
      ]
     },
     "execution_count": 6,
     "metadata": {},
     "output_type": "execute_result"
    }
   ],
   "source": [
    "train_df.preferred_device.value_counts()"
   ]
  },
  {
   "cell_type": "code",
   "execution_count": 7,
   "id": "5b26553c",
   "metadata": {},
   "outputs": [
    {
     "data": {
      "text/html": [
       "<div>\n",
       "<style scoped>\n",
       "    .dataframe tbody tr th:only-of-type {\n",
       "        vertical-align: middle;\n",
       "    }\n",
       "\n",
       "    .dataframe tbody tr th {\n",
       "        vertical-align: top;\n",
       "    }\n",
       "\n",
       "    .dataframe thead th {\n",
       "        text-align: right;\n",
       "    }\n",
       "</style>\n",
       "<table border=\"1\" class=\"dataframe\">\n",
       "  <thead>\n",
       "    <tr style=\"text-align: right;\">\n",
       "      <th></th>\n",
       "      <th>Yearly_avg_view_on_travel_page</th>\n",
       "      <th>total_likes_on_outstation_checkin_given</th>\n",
       "      <th>yearly_avg_Outstation_checkins</th>\n",
       "      <th>member_in_family</th>\n",
       "      <th>preferred_location_type</th>\n",
       "      <th>Yearly_avg_comment_on_travel_page</th>\n",
       "      <th>total_likes_on_outofstation_checkin_received</th>\n",
       "      <th>week_since_last_outstation_checkin</th>\n",
       "      <th>following_company_page</th>\n",
       "      <th>montly_avg_comment_on_company_page</th>\n",
       "      <th>working_flag</th>\n",
       "      <th>travelling_network_rating</th>\n",
       "      <th>Adult_flag</th>\n",
       "      <th>Daily_Avg_mins_spend_on_traveling_page</th>\n",
       "      <th>Taken_product</th>\n",
       "    </tr>\n",
       "  </thead>\n",
       "  <tbody>\n",
       "    <tr>\n",
       "      <th>2</th>\n",
       "      <td>289</td>\n",
       "      <td>52160</td>\n",
       "      <td>2</td>\n",
       "      <td>2</td>\n",
       "      <td>0</td>\n",
       "      <td>47</td>\n",
       "      <td>1713</td>\n",
       "      <td>1</td>\n",
       "      <td>1</td>\n",
       "      <td>31</td>\n",
       "      <td>1</td>\n",
       "      <td>3</td>\n",
       "      <td>1</td>\n",
       "      <td>1</td>\n",
       "      <td>0</td>\n",
       "    </tr>\n",
       "    <tr>\n",
       "      <th>3</th>\n",
       "      <td>227</td>\n",
       "      <td>15482</td>\n",
       "      <td>2</td>\n",
       "      <td>2</td>\n",
       "      <td>0</td>\n",
       "      <td>47</td>\n",
       "      <td>4559</td>\n",
       "      <td>1</td>\n",
       "      <td>0</td>\n",
       "      <td>30</td>\n",
       "      <td>0</td>\n",
       "      <td>1</td>\n",
       "      <td>0</td>\n",
       "      <td>10</td>\n",
       "      <td>0</td>\n",
       "    </tr>\n",
       "    <tr>\n",
       "      <th>8</th>\n",
       "      <td>333</td>\n",
       "      <td>49782</td>\n",
       "      <td>2</td>\n",
       "      <td>4</td>\n",
       "      <td>0</td>\n",
       "      <td>104</td>\n",
       "      <td>5684</td>\n",
       "      <td>1</td>\n",
       "      <td>0</td>\n",
       "      <td>29</td>\n",
       "      <td>1</td>\n",
       "      <td>3</td>\n",
       "      <td>1</td>\n",
       "      <td>7</td>\n",
       "      <td>0</td>\n",
       "    </tr>\n",
       "    <tr>\n",
       "      <th>10</th>\n",
       "      <td>239</td>\n",
       "      <td>18317</td>\n",
       "      <td>2</td>\n",
       "      <td>3</td>\n",
       "      <td>0</td>\n",
       "      <td>100</td>\n",
       "      <td>3731</td>\n",
       "      <td>6</td>\n",
       "      <td>1</td>\n",
       "      <td>18</td>\n",
       "      <td>0</td>\n",
       "      <td>3</td>\n",
       "      <td>1</td>\n",
       "      <td>7</td>\n",
       "      <td>1</td>\n",
       "    </tr>\n",
       "    <tr>\n",
       "      <th>16</th>\n",
       "      <td>333</td>\n",
       "      <td>28295</td>\n",
       "      <td>17</td>\n",
       "      <td>3</td>\n",
       "      <td>14</td>\n",
       "      <td>52</td>\n",
       "      <td>2495</td>\n",
       "      <td>10</td>\n",
       "      <td>1</td>\n",
       "      <td>28</td>\n",
       "      <td>0</td>\n",
       "      <td>4</td>\n",
       "      <td>1</td>\n",
       "      <td>11</td>\n",
       "      <td>1</td>\n",
       "    </tr>\n",
       "  </tbody>\n",
       "</table>\n",
       "</div>"
      ],
      "text/plain": [
       "    Yearly_avg_view_on_travel_page  total_likes_on_outstation_checkin_given  \\\n",
       "2                              289                                    52160   \n",
       "3                              227                                    15482   \n",
       "8                              333                                    49782   \n",
       "10                             239                                    18317   \n",
       "16                             333                                    28295   \n",
       "\n",
       "    yearly_avg_Outstation_checkins  member_in_family  preferred_location_type  \\\n",
       "2                                2                 2                        0   \n",
       "3                                2                 2                        0   \n",
       "8                                2                 4                        0   \n",
       "10                               2                 3                        0   \n",
       "16                              17                 3                       14   \n",
       "\n",
       "    Yearly_avg_comment_on_travel_page  \\\n",
       "2                                  47   \n",
       "3                                  47   \n",
       "8                                 104   \n",
       "10                                100   \n",
       "16                                 52   \n",
       "\n",
       "    total_likes_on_outofstation_checkin_received  \\\n",
       "2                                           1713   \n",
       "3                                           4559   \n",
       "8                                           5684   \n",
       "10                                          3731   \n",
       "16                                          2495   \n",
       "\n",
       "    week_since_last_outstation_checkin  following_company_page  \\\n",
       "2                                    1                       1   \n",
       "3                                    1                       0   \n",
       "8                                    1                       0   \n",
       "10                                   6                       1   \n",
       "16                                  10                       1   \n",
       "\n",
       "    montly_avg_comment_on_company_page  working_flag  \\\n",
       "2                                   31             1   \n",
       "3                                   30             0   \n",
       "8                                   29             1   \n",
       "10                                  18             0   \n",
       "16                                  28             0   \n",
       "\n",
       "    travelling_network_rating  Adult_flag  \\\n",
       "2                           3           1   \n",
       "3                           1           0   \n",
       "8                           3           1   \n",
       "10                          3           1   \n",
       "16                          4           1   \n",
       "\n",
       "    Daily_Avg_mins_spend_on_traveling_page  Taken_product  \n",
       "2                                        1              0  \n",
       "3                                       10              0  \n",
       "8                                        7              0  \n",
       "10                                       7              1  \n",
       "16                                      11              1  "
      ]
     },
     "execution_count": 7,
     "metadata": {},
     "output_type": "execute_result"
    }
   ],
   "source": [
    "## we can now drop 'preferred_device' column\n",
    "train_df.drop(columns={'preferred_device'},inplace=True)\n",
    "train_df.head()"
   ]
  },
  {
   "cell_type": "code",
   "execution_count": 8,
   "id": "91bf2b5a",
   "metadata": {},
   "outputs": [
    {
     "data": {
      "text/plain": [
       "(564, 15)"
      ]
     },
     "execution_count": 8,
     "metadata": {},
     "output_type": "execute_result"
    }
   ],
   "source": [
    "train_df.shape"
   ]
  },
  {
   "cell_type": "code",
   "execution_count": 9,
   "id": "c523960f",
   "metadata": {},
   "outputs": [],
   "source": [
    "## X and y attributes\n",
    "X_train = train_df.drop(columns={'Taken_product'})\n",
    "y_train = train_df['Taken_product']"
   ]
  },
  {
   "cell_type": "code",
   "execution_count": null,
   "id": "4e22c2fd",
   "metadata": {},
   "outputs": [],
   "source": []
  },
  {
   "cell_type": "markdown",
   "id": "674f0486",
   "metadata": {},
   "source": [
    "### Test data"
   ]
  },
  {
   "cell_type": "code",
   "execution_count": 10,
   "id": "ac57a624",
   "metadata": {},
   "outputs": [],
   "source": [
    "test_df = pd.read_csv('test.csv')\n",
    "test_df.drop(columns={'Unnamed: 0'},inplace=True)\n",
    "test_df = test_df[test_df['preferred_device']==0]"
   ]
  },
  {
   "cell_type": "code",
   "execution_count": 11,
   "id": "c85d7d83",
   "metadata": {},
   "outputs": [
    {
     "data": {
      "text/html": [
       "<div>\n",
       "<style scoped>\n",
       "    .dataframe tbody tr th:only-of-type {\n",
       "        vertical-align: middle;\n",
       "    }\n",
       "\n",
       "    .dataframe tbody tr th {\n",
       "        vertical-align: top;\n",
       "    }\n",
       "\n",
       "    .dataframe thead th {\n",
       "        text-align: right;\n",
       "    }\n",
       "</style>\n",
       "<table border=\"1\" class=\"dataframe\">\n",
       "  <thead>\n",
       "    <tr style=\"text-align: right;\">\n",
       "      <th></th>\n",
       "      <th>Yearly_avg_view_on_travel_page</th>\n",
       "      <th>preferred_device</th>\n",
       "      <th>total_likes_on_outstation_checkin_given</th>\n",
       "      <th>yearly_avg_Outstation_checkins</th>\n",
       "      <th>member_in_family</th>\n",
       "      <th>preferred_location_type</th>\n",
       "      <th>Yearly_avg_comment_on_travel_page</th>\n",
       "      <th>total_likes_on_outofstation_checkin_received</th>\n",
       "      <th>week_since_last_outstation_checkin</th>\n",
       "      <th>following_company_page</th>\n",
       "      <th>montly_avg_comment_on_company_page</th>\n",
       "      <th>working_flag</th>\n",
       "      <th>travelling_network_rating</th>\n",
       "      <th>Adult_flag</th>\n",
       "      <th>Daily_Avg_mins_spend_on_traveling_page</th>\n",
       "      <th>Taken_product</th>\n",
       "    </tr>\n",
       "  </thead>\n",
       "  <tbody>\n",
       "    <tr>\n",
       "      <th>7</th>\n",
       "      <td>210</td>\n",
       "      <td>0</td>\n",
       "      <td>45447</td>\n",
       "      <td>5</td>\n",
       "      <td>2</td>\n",
       "      <td>0</td>\n",
       "      <td>69</td>\n",
       "      <td>2443</td>\n",
       "      <td>1</td>\n",
       "      <td>1</td>\n",
       "      <td>28</td>\n",
       "      <td>0</td>\n",
       "      <td>3</td>\n",
       "      <td>0</td>\n",
       "      <td>13</td>\n",
       "      <td>0</td>\n",
       "    </tr>\n",
       "    <tr>\n",
       "      <th>38</th>\n",
       "      <td>246</td>\n",
       "      <td>0</td>\n",
       "      <td>15578</td>\n",
       "      <td>5</td>\n",
       "      <td>3</td>\n",
       "      <td>1</td>\n",
       "      <td>103</td>\n",
       "      <td>2857</td>\n",
       "      <td>1</td>\n",
       "      <td>0</td>\n",
       "      <td>27</td>\n",
       "      <td>0</td>\n",
       "      <td>3</td>\n",
       "      <td>1</td>\n",
       "      <td>2</td>\n",
       "      <td>0</td>\n",
       "    </tr>\n",
       "    <tr>\n",
       "      <th>46</th>\n",
       "      <td>329</td>\n",
       "      <td>0</td>\n",
       "      <td>18659</td>\n",
       "      <td>29</td>\n",
       "      <td>2</td>\n",
       "      <td>0</td>\n",
       "      <td>107</td>\n",
       "      <td>4603</td>\n",
       "      <td>3</td>\n",
       "      <td>0</td>\n",
       "      <td>18</td>\n",
       "      <td>0</td>\n",
       "      <td>2</td>\n",
       "      <td>1</td>\n",
       "      <td>24</td>\n",
       "      <td>0</td>\n",
       "    </tr>\n",
       "    <tr>\n",
       "      <th>56</th>\n",
       "      <td>188</td>\n",
       "      <td>0</td>\n",
       "      <td>13382</td>\n",
       "      <td>9</td>\n",
       "      <td>3</td>\n",
       "      <td>6</td>\n",
       "      <td>99</td>\n",
       "      <td>3230</td>\n",
       "      <td>2</td>\n",
       "      <td>1</td>\n",
       "      <td>22</td>\n",
       "      <td>0</td>\n",
       "      <td>3</td>\n",
       "      <td>0</td>\n",
       "      <td>9</td>\n",
       "      <td>1</td>\n",
       "    </tr>\n",
       "    <tr>\n",
       "      <th>58</th>\n",
       "      <td>384</td>\n",
       "      <td>0</td>\n",
       "      <td>33615</td>\n",
       "      <td>1</td>\n",
       "      <td>4</td>\n",
       "      <td>10</td>\n",
       "      <td>95</td>\n",
       "      <td>4781</td>\n",
       "      <td>4</td>\n",
       "      <td>1</td>\n",
       "      <td>38</td>\n",
       "      <td>0</td>\n",
       "      <td>4</td>\n",
       "      <td>0</td>\n",
       "      <td>14</td>\n",
       "      <td>1</td>\n",
       "    </tr>\n",
       "  </tbody>\n",
       "</table>\n",
       "</div>"
      ],
      "text/plain": [
       "    Yearly_avg_view_on_travel_page  preferred_device  \\\n",
       "7                              210                 0   \n",
       "38                             246                 0   \n",
       "46                             329                 0   \n",
       "56                             188                 0   \n",
       "58                             384                 0   \n",
       "\n",
       "    total_likes_on_outstation_checkin_given  yearly_avg_Outstation_checkins  \\\n",
       "7                                     45447                               5   \n",
       "38                                    15578                               5   \n",
       "46                                    18659                              29   \n",
       "56                                    13382                               9   \n",
       "58                                    33615                               1   \n",
       "\n",
       "    member_in_family  preferred_location_type  \\\n",
       "7                  2                        0   \n",
       "38                 3                        1   \n",
       "46                 2                        0   \n",
       "56                 3                        6   \n",
       "58                 4                       10   \n",
       "\n",
       "    Yearly_avg_comment_on_travel_page  \\\n",
       "7                                  69   \n",
       "38                                103   \n",
       "46                                107   \n",
       "56                                 99   \n",
       "58                                 95   \n",
       "\n",
       "    total_likes_on_outofstation_checkin_received  \\\n",
       "7                                           2443   \n",
       "38                                          2857   \n",
       "46                                          4603   \n",
       "56                                          3230   \n",
       "58                                          4781   \n",
       "\n",
       "    week_since_last_outstation_checkin  following_company_page  \\\n",
       "7                                    1                       1   \n",
       "38                                   1                       0   \n",
       "46                                   3                       0   \n",
       "56                                   2                       1   \n",
       "58                                   4                       1   \n",
       "\n",
       "    montly_avg_comment_on_company_page  working_flag  \\\n",
       "7                                   28             0   \n",
       "38                                  27             0   \n",
       "46                                  18             0   \n",
       "56                                  22             0   \n",
       "58                                  38             0   \n",
       "\n",
       "    travelling_network_rating  Adult_flag  \\\n",
       "7                           3           0   \n",
       "38                          3           1   \n",
       "46                          2           1   \n",
       "56                          3           0   \n",
       "58                          4           0   \n",
       "\n",
       "    Daily_Avg_mins_spend_on_traveling_page  Taken_product  \n",
       "7                                       13              0  \n",
       "38                                       2              0  \n",
       "46                                      24              0  \n",
       "56                                       9              1  \n",
       "58                                      14              1  "
      ]
     },
     "execution_count": 11,
     "metadata": {},
     "output_type": "execute_result"
    }
   ],
   "source": [
    "test_df.head()"
   ]
  },
  {
   "cell_type": "code",
   "execution_count": 12,
   "id": "8e5fa160",
   "metadata": {},
   "outputs": [],
   "source": [
    "test_df.drop(columns={'preferred_device'},inplace=True)"
   ]
  },
  {
   "cell_type": "code",
   "execution_count": 13,
   "id": "62db8c85",
   "metadata": {},
   "outputs": [
    {
     "data": {
      "text/plain": [
       "(217, 15)"
      ]
     },
     "execution_count": 13,
     "metadata": {},
     "output_type": "execute_result"
    }
   ],
   "source": [
    "test_df.shape"
   ]
  },
  {
   "cell_type": "code",
   "execution_count": 14,
   "id": "79d6b615",
   "metadata": {},
   "outputs": [],
   "source": [
    "## X and y attributes\n",
    "X_test = test_df.drop(['Taken_product'],axis=1)\n",
    "y_test = test_df['Taken_product']"
   ]
  },
  {
   "cell_type": "markdown",
   "id": "642132fd",
   "metadata": {},
   "source": [
    "## Model Building"
   ]
  },
  {
   "cell_type": "code",
   "execution_count": 15,
   "id": "8afa04cb",
   "metadata": {},
   "outputs": [],
   "source": [
    "accuracy_list = []"
   ]
  },
  {
   "cell_type": "code",
   "execution_count": 16,
   "id": "0db9d7d4",
   "metadata": {},
   "outputs": [],
   "source": [
    "## scaling the values of some features\n",
    "ss = StandardScaler()\n",
    "X_train = ss.fit_transform(X_train)\n",
    "X_test = ss.transform(X_test)"
   ]
  },
  {
   "cell_type": "markdown",
   "id": "b787b100",
   "metadata": {},
   "source": [
    "### 1. Random forest 🌳🌲🌳"
   ]
  },
  {
   "cell_type": "code",
   "execution_count": 17,
   "id": "e3d1186e",
   "metadata": {},
   "outputs": [],
   "source": [
    "r_clf = RandomForestClassifier(max_features=0.7,max_depth=10, random_state=20)\n",
    "r_clf.fit(X_train, y_train)\n",
    "r_pred = r_clf.predict(X_test)\n",
    "r_acc = accuracy_score(y_test, r_pred)\n",
    "accuracy_list.append(100*r_acc)"
   ]
  },
  {
   "cell_type": "code",
   "execution_count": 18,
   "id": "81de8cb9",
   "metadata": {},
   "outputs": [
    {
     "name": "stdout",
     "output_type": "stream",
     "text": [
      "\u001b[32mAccuracy of Random Forest Classifier is :  95.39%\n"
     ]
    }
   ],
   "source": [
    "print(Fore.GREEN + \"Accuracy of Random Forest Classifier is : \", \"{:.2f}%\".format(100* r_acc))"
   ]
  },
  {
   "cell_type": "code",
   "execution_count": 19,
   "id": "d5427370",
   "metadata": {},
   "outputs": [
    {
     "data": {
      "text/plain": [
       "<Figure size 640x480 with 0 Axes>"
      ]
     },
     "metadata": {},
     "output_type": "display_data"
    },
    {
     "data": {
      "image/png": "[encoded data removed]",
      "text/plain": [
       "<Figure size 300x300 with 1 Axes>"
      ]
     },
     "metadata": {},
     "output_type": "display_data"
    }
   ],
   "source": [
    "cm = confusion_matrix(y_test, r_pred)\n",
    "plt.figure()\n",
    "plot_confusion_matrix(cm, figsize=(3,3), hide_ticks=True, cmap=plt.cm.Greens)\n",
    "plt.title(\"Random Forest Model - Confusion Matrix\")\n",
    "plt.xticks(range(2), [\"Heart Not Failed\",\"Heart Fail\"], fontsize=10)\n",
    "plt.yticks(range(2), [\"Heart Not Failed\",\"Heart Fail\"], fontsize=10)\n",
    "plt.show();"
   ]
  },
  {
   "cell_type": "code",
   "execution_count": 20,
   "id": "bfc705a1",
   "metadata": {},
   "outputs": [
    {
     "name": "stdout",
     "output_type": "stream",
     "text": [
      "              precision    recall  f1-score   support\n",
      "\n",
      "           0       0.94      1.00      0.97       147\n",
      "           1       1.00      0.86      0.92        70\n",
      "\n",
      "    accuracy                           0.95       217\n",
      "   macro avg       0.97      0.93      0.95       217\n",
      "weighted avg       0.96      0.95      0.95       217\n",
      "\n"
     ]
    }
   ],
   "source": [
    "print(classification_report(y_test,r_pred))"
   ]
  },
  {
   "cell_type": "markdown",
   "id": "c6c160d3",
   "metadata": {},
   "source": [
    "### 2. Logistic regression"
   ]
  },
  {
   "cell_type": "code",
   "execution_count": 21,
   "id": "87859485",
   "metadata": {},
   "outputs": [],
   "source": [
    "log_reg = LogisticRegression(max_iter=100)\n",
    "log_reg.fit(X_train, y_train)\n",
    "log_reg_pred = log_reg.predict(X_test)\n",
    "log_reg_acc = accuracy_score(y_test, log_reg_pred)\n",
    "accuracy_list.append(100*log_reg_acc)"
   ]
  },
  {
   "cell_type": "code",
   "execution_count": 22,
   "id": "ec94a52d",
   "metadata": {},
   "outputs": [
    {
     "name": "stdout",
     "output_type": "stream",
     "text": [
      "\u001b[34mAccuracy of Logistic Regression is :  80.65%\n"
     ]
    }
   ],
   "source": [
    "print(Fore.BLUE + \"Accuracy of Logistic Regression is : \", \"{:.2f}%\".format(100* log_reg_acc))"
   ]
  },
  {
   "cell_type": "code",
   "execution_count": 23,
   "id": "a82af863",
   "metadata": {},
   "outputs": [
    {
     "data": {
      "text/plain": [
       "<Figure size 640x480 with 0 Axes>"
      ]
     },
     "metadata": {},
     "output_type": "display_data"
    },
    {
     "data": {
      "image/png": "[encoded data removed]",
      "text/plain": [
       "<Figure size 300x300 with 1 Axes>"
      ]
     },
     "metadata": {},
     "output_type": "display_data"
    }
   ],
   "source": [
    "cm = confusion_matrix(y_test, log_reg_pred)\n",
    "plt.figure()\n",
    "plot_confusion_matrix(cm, figsize=(3,3), hide_ticks=True, cmap=plt.cm.Blues)\n",
    "plt.title(\"Logistic Regression Model - Confusion Matrix\")\n",
    "plt.xticks(range(2), [\"Not taken\",\"Taken Product\"], fontsize=10)\n",
    "plt.yticks(range(2), [\"Not taken\",\"Taken Product\"], fontsize=10)\n",
    "plt.show();"
   ]
  },
  {
   "cell_type": "code",
   "execution_count": 24,
   "id": "22e67221",
   "metadata": {},
   "outputs": [
    {
     "name": "stdout",
     "output_type": "stream",
     "text": [
      "              precision    recall  f1-score   support\n",
      "\n",
      "           0       0.82      0.91      0.86       147\n",
      "           1       0.76      0.59      0.66        70\n",
      "\n",
      "    accuracy                           0.81       217\n",
      "   macro avg       0.79      0.75      0.76       217\n",
      "weighted avg       0.80      0.81      0.80       217\n",
      "\n"
     ]
    }
   ],
   "source": [
    "print(classification_report(y_test,log_reg_pred))"
   ]
  },
  {
   "cell_type": "markdown",
   "id": "d4ba2882",
   "metadata": {},
   "source": [
    "### 3. Support Vector"
   ]
  },
  {
   "cell_type": "code",
   "execution_count": 25,
   "id": "6e062e82",
   "metadata": {},
   "outputs": [],
   "source": [
    "sv_clf = SVC()\n",
    "sv_clf.fit(X_train, y_train)\n",
    "sv_clf_pred = sv_clf.predict(X_test)\n",
    "sv_clf_acc = accuracy_score(y_test, sv_clf_pred)\n",
    "accuracy_list.append(100* sv_clf_acc)"
   ]
  },
  {
   "cell_type": "code",
   "execution_count": 26,
   "id": "8be3f0f1",
   "metadata": {},
   "outputs": [
    {
     "name": "stdout",
     "output_type": "stream",
     "text": [
      "\u001b[31mAccuracy of SVC is :  89.86%\n"
     ]
    }
   ],
   "source": [
    "print(Fore.RED + \"Accuracy of SVC is : \", \"{:.2f}%\".format(100* sv_clf_acc))"
   ]
  },
  {
   "cell_type": "code",
   "execution_count": 27,
   "id": "5e13108f",
   "metadata": {},
   "outputs": [
    {
     "data": {
      "text/plain": [
       "<Figure size 640x480 with 0 Axes>"
      ]
     },
     "metadata": {},
     "output_type": "display_data"
    },
    {
     "data": {
      "image/png": "[encoded data removed]",
      "text/plain": [
       "<Figure size 300x300 with 1 Axes>"
      ]
     },
     "metadata": {},
     "output_type": "display_data"
    }
   ],
   "source": [
    "cm = confusion_matrix(y_test, sv_clf_pred)\n",
    "plt.figure()\n",
    "plot_confusion_matrix(cm, figsize=(3,3), hide_ticks=True, cmap=plt.cm.Reds)\n",
    "plt.title(\"SVC Model - Confusion Matrix\")\n",
    "plt.xticks(range(2), [\"Not taken\",\"Taken Product\"], fontsize=10)\n",
    "plt.yticks(range(2), [\"Not taken\",\"Taken Product\"], fontsize=10)\n",
    "plt.show()"
   ]
  },
  {
   "cell_type": "code",
   "execution_count": 28,
   "id": "923b9d44",
   "metadata": {},
   "outputs": [
    {
     "name": "stdout",
     "output_type": "stream",
     "text": [
      "              precision    recall  f1-score   support\n",
      "\n",
      "           0       0.87      1.00      0.93       147\n",
      "           1       1.00      0.69      0.81        70\n",
      "\n",
      "    accuracy                           0.90       217\n",
      "   macro avg       0.93      0.84      0.87       217\n",
      "weighted avg       0.91      0.90      0.89       217\n",
      "\n"
     ]
    }
   ],
   "source": [
    "print(classification_report(y_test,sv_clf_pred))"
   ]
  },
  {
   "cell_type": "markdown",
   "id": "0004aba1",
   "metadata": {},
   "source": [
    "### 4. Decision Tree"
   ]
  },
  {
   "cell_type": "code",
   "execution_count": 29,
   "id": "29785c6e",
   "metadata": {},
   "outputs": [],
   "source": [
    "dt_clf = DecisionTreeClassifier(max_leaf_nodes=3, random_state=0, criterion='entropy')\n",
    "dt_clf.fit(X_train, y_train)\n",
    "dt_pred = dt_clf.predict(X_test)\n",
    "dt_acc = accuracy_score(y_test, dt_pred)\n",
    "accuracy_list.append(100*dt_acc)"
   ]
  },
  {
   "cell_type": "code",
   "execution_count": 30,
   "id": "c51cea75",
   "metadata": {},
   "outputs": [
    {
     "name": "stdout",
     "output_type": "stream",
     "text": [
      "\u001b[32mAccuracy of Decision Tree Classifier is :  72.81%\n"
     ]
    }
   ],
   "source": [
    "print(Fore.GREEN + \"Accuracy of Decision Tree Classifier is : \", \"{:.2f}%\".format(100* dt_acc))"
   ]
  },
  {
   "cell_type": "code",
   "execution_count": 31,
   "id": "65a6f4e5",
   "metadata": {},
   "outputs": [
    {
     "data": {
      "text/plain": [
       "<Figure size 640x480 with 0 Axes>"
      ]
     },
     "metadata": {},
     "output_type": "display_data"
    },
    {
     "data": {
      "image/png": "[encoded data removed]",
      "text/plain": [
       "<Figure size 300x300 with 1 Axes>"
      ]
     },
     "metadata": {},
     "output_type": "display_data"
    }
   ],
   "source": [
    "cm = confusion_matrix(y_test, dt_pred)\n",
    "plt.figure()\n",
    "plot_confusion_matrix(cm, figsize=(3,3), hide_ticks=True, cmap=plt.cm.GnBu)\n",
    "plt.title(\"Decision Tree Model - Confusion Matrix\")\n",
    "plt.xticks(range(2), [\"Not Taken\",\"Taken\"], fontsize=10)\n",
    "plt.yticks(range(2), [\"Not Taken\",\"Taken\"], fontsize=10)\n",
    "plt.show()"
   ]
  },
  {
   "cell_type": "code",
   "execution_count": 32,
   "id": "de08d333",
   "metadata": {},
   "outputs": [
    {
     "name": "stdout",
     "output_type": "stream",
     "text": [
      "              precision    recall  f1-score   support\n",
      "\n",
      "           0       0.71      1.00      0.83       147\n",
      "           1       1.00      0.16      0.27        70\n",
      "\n",
      "    accuracy                           0.73       217\n",
      "   macro avg       0.86      0.58      0.55       217\n",
      "weighted avg       0.81      0.73      0.65       217\n",
      "\n"
     ]
    }
   ],
   "source": [
    "print(classification_report(y_test,dt_pred))"
   ]
  },
  {
   "cell_type": "markdown",
   "id": "48bdeb79",
   "metadata": {},
   "source": [
    "### 5. KNN Classifier"
   ]
  },
  {
   "cell_type": "code",
   "execution_count": 33,
   "id": "e889a145",
   "metadata": {},
   "outputs": [
    {
     "name": "stderr",
     "output_type": "stream",
     "text": [
      "C:\\Users\\srshu\\anaconda3\\lib\\site-packages\\sklearn\\neighbors\\_classification.py:228: FutureWarning: Unlike other reduction functions (e.g. `skew`, `kurtosis`), the default behavior of `mode` typically preserves the axis it acts along. In SciPy 1.11.0, this behavior will change: the default value of `keepdims` will become False, the `axis` over which the statistic is taken will be eliminated, and the value None will no longer be accepted. Set `keepdims` to True or False to avoid this warning.\n",
      "  mode, _ = stats.mode(_y[neigh_ind, k], axis=1)\n"
     ]
    }
   ],
   "source": [
    "kn_clf = KNeighborsClassifier(n_neighbors=5)\n",
    "kn_clf.fit(X_train, y_train)\n",
    "kn_pred = kn_clf.predict(X_test)\n",
    "kn_acc = accuracy_score(y_test, kn_pred)\n",
    "accuracy_list.append(100*kn_acc)"
   ]
  },
  {
   "cell_type": "code",
   "execution_count": 34,
   "id": "f5748c69",
   "metadata": {},
   "outputs": [
    {
     "name": "stdout",
     "output_type": "stream",
     "text": [
      "\u001b[33mAccuracy of K Neighbors Classifier is :  88.48%\n"
     ]
    }
   ],
   "source": [
    "print(Fore.YELLOW + \"Accuracy of K Neighbors Classifier is : \", \"{:.2f}%\".format(100* kn_acc))"
   ]
  },
  {
   "cell_type": "code",
   "execution_count": 35,
   "id": "fea3f6b3",
   "metadata": {},
   "outputs": [
    {
     "data": {
      "text/plain": [
       "<Figure size 640x480 with 0 Axes>"
      ]
     },
     "metadata": {},
     "output_type": "display_data"
    },
    {
     "data": {
      "image/png": "[encoded data removed]",
      "text/plain": [
       "<Figure size 300x300 with 1 Axes>"
      ]
     },
     "metadata": {},
     "output_type": "display_data"
    }
   ],
   "source": [
    "cm = confusion_matrix(y_test, kn_pred)\n",
    "plt.figure()\n",
    "plot_confusion_matrix(cm, figsize=(3,3), hide_ticks=True, cmap=plt.cm.YlOrRd)\n",
    "plt.title(\"KNN classifier - Confusion Matrix\")\n",
    "plt.xticks(range(2), [\"Not Taken\",\"Taken\"], fontsize=10)\n",
    "plt.yticks(range(2), [\"Not Taken\",\"Taken\"], fontsize=10)\n",
    "plt.show();"
   ]
  },
  {
   "cell_type": "code",
   "execution_count": 36,
   "id": "8ea2776e",
   "metadata": {},
   "outputs": [
    {
     "name": "stdout",
     "output_type": "stream",
     "text": [
      "              precision    recall  f1-score   support\n",
      "\n",
      "           0       0.87      0.97      0.92       147\n",
      "           1       0.92      0.70      0.80        70\n",
      "\n",
      "    accuracy                           0.88       217\n",
      "   macro avg       0.90      0.84      0.86       217\n",
      "weighted avg       0.89      0.88      0.88       217\n",
      "\n"
     ]
    }
   ],
   "source": [
    "print(classification_report(y_test,kn_pred))"
   ]
  },
  {
   "cell_type": "markdown",
   "id": "38629e60",
   "metadata": {},
   "source": [
    "### 6. Gradient Boosting"
   ]
  },
  {
   "cell_type": "code",
   "execution_count": 37,
   "id": "c2e68bff",
   "metadata": {},
   "outputs": [],
   "source": [
    "gb_clf = GradientBoostingClassifier(max_depth=10, random_state=50)\n",
    "gb_clf.fit(X_train, y_train)\n",
    "gb_pred = gb_clf.predict(X_test)\n",
    "gb_acc = accuracy_score(y_test, gb_pred)\n",
    "accuracy_list.append(100*gb_acc)"
   ]
  },
  {
   "cell_type": "code",
   "execution_count": 38,
   "id": "9c10cd59",
   "metadata": {},
   "outputs": [
    {
     "name": "stdout",
     "output_type": "stream",
     "text": [
      "\u001b[96mAccuracy of Gradient Boosting is :  97.70%\n"
     ]
    }
   ],
   "source": [
    "print(Fore.LIGHTCYAN_EX + \"Accuracy of Gradient Boosting is : \", \"{:.2f}%\".format(100* gb_acc))"
   ]
  },
  {
   "cell_type": "code",
   "execution_count": 39,
   "id": "9537d339",
   "metadata": {},
   "outputs": [
    {
     "data": {
      "text/plain": [
       "<Figure size 640x480 with 0 Axes>"
      ]
     },
     "metadata": {},
     "output_type": "display_data"
    },
    {
     "data": {
      "image/png": "[encoded data removed]",
      "text/plain": [
       "<Figure size 300x300 with 1 Axes>"
      ]
     },
     "metadata": {},
     "output_type": "display_data"
    }
   ],
   "source": [
    "## confusion_matrix\n",
    "m = confusion_matrix(y_test, gb_pred)\n",
    "plt.figure()\n",
    "plot_confusion_matrix(cm, figsize=(3,3), hide_ticks=True, cmap=plt.cm.pink_r)\n",
    "plt.title(\"Gradient Boosying Model - Confusion Matrix\")\n",
    "plt.xticks(range(2), [\"Not Taken\",\"Taken\"], fontsize=10)\n",
    "plt.yticks(range(2), [\"Not Taken\",\"Taken\"], fontsize=10)\n",
    "plt.show()"
   ]
  },
  {
   "cell_type": "code",
   "execution_count": 40,
   "id": "df88060b",
   "metadata": {},
   "outputs": [
    {
     "name": "stdout",
     "output_type": "stream",
     "text": [
      "              precision    recall  f1-score   support\n",
      "\n",
      "           0       0.97      1.00      0.98       147\n",
      "           1       1.00      0.93      0.96        70\n",
      "\n",
      "    accuracy                           0.98       217\n",
      "   macro avg       0.98      0.96      0.97       217\n",
      "weighted avg       0.98      0.98      0.98       217\n",
      "\n"
     ]
    }
   ],
   "source": [
    "print(classification_report(y_test,gb_pred))"
   ]
  },
  {
   "cell_type": "markdown",
   "id": "3e531411",
   "metadata": {},
   "source": [
    "### 7. xgbrf Clasifier"
   ]
  },
  {
   "cell_type": "code",
   "execution_count": 41,
   "id": "32a8b98b",
   "metadata": {},
   "outputs": [],
   "source": [
    "xgb_clf = xgb.XGBRFClassifier(max_depth=20, random_state=50)\n",
    "xgb_clf.fit(X_train,y_train)\n",
    "xgb_pred = xgb_clf.predict(X_test)\n",
    "xgb_acc = accuracy_score(y_test, xgb_pred)\n",
    "accuracy_list.append(100*xgb_acc)"
   ]
  },
  {
   "cell_type": "code",
   "execution_count": 42,
   "id": "cbcc5a0f",
   "metadata": {},
   "outputs": [
    {
     "name": "stdout",
     "output_type": "stream",
     "text": [
      "\u001b[95mAccuracy of XGBRFClassifier is :  94.01%\n"
     ]
    }
   ],
   "source": [
    "print(Fore.LIGHTMAGENTA_EX + \"Accuracy of XGBRFClassifier is : \", \"{:.2f}%\".format(100* xgb_acc))"
   ]
  },
  {
   "cell_type": "code",
   "execution_count": 43,
   "id": "9143830f",
   "metadata": {},
   "outputs": [
    {
     "data": {
      "text/plain": [
       "<Figure size 640x480 with 0 Axes>"
      ]
     },
     "metadata": {},
     "output_type": "display_data"
    },
    {
     "data": {
      "image/png": "[encoded data removed]",
      "text/plain": [
       "<Figure size 300x300 with 1 Axes>"
      ]
     },
     "metadata": {},
     "output_type": "display_data"
    }
   ],
   "source": [
    "m = confusion_matrix(y_test, xgb_pred)\n",
    "plt.figure()\n",
    "plot_confusion_matrix(cm, figsize=(3,3), hide_ticks=True, cmap=plt.cm.pink_r)\n",
    "plt.title(\"XGBRFClassifier Model - Confusion Matrix\")\n",
    "plt.xticks(range(2), [\"Not Taken\",\"Taken\"], fontsize=10)\n",
    "plt.yticks(range(2), [\"Not Taken\",\"Taken\"], fontsize=10)\n",
    "plt.show()"
   ]
  },
  {
   "cell_type": "code",
   "execution_count": 44,
   "id": "e0d2aabd",
   "metadata": {},
   "outputs": [
    {
     "name": "stdout",
     "output_type": "stream",
     "text": [
      "              precision    recall  f1-score   support\n",
      "\n",
      "           0       0.92      1.00      0.96       147\n",
      "           1       1.00      0.81      0.90        70\n",
      "\n",
      "    accuracy                           0.94       217\n",
      "   macro avg       0.96      0.91      0.93       217\n",
      "weighted avg       0.94      0.94      0.94       217\n",
      "\n"
     ]
    }
   ],
   "source": [
    "print(classification_report(y_test,xgb_pred))"
   ]
  },
  {
   "cell_type": "markdown",
   "id": "6741f716",
   "metadata": {},
   "source": [
    "### 8. CatBoost Classifier"
   ]
  },
  {
   "cell_type": "code",
   "execution_count": 45,
   "id": "9865ae79",
   "metadata": {
    "scrolled": true
   },
   "outputs": [
    {
     "name": "stdout",
     "output_type": "stream",
     "text": [
      "Learning rate set to 0.008067\n",
      "0:\tlearn: 0.6868692\ttotal: 141ms\tremaining: 2m 20s\n",
      "1:\tlearn: 0.6801673\ttotal: 143ms\tremaining: 1m 11s\n",
      "2:\tlearn: 0.6734955\ttotal: 145ms\tremaining: 48.1s\n",
      "3:\tlearn: 0.6677217\ttotal: 148ms\tremaining: 36.8s\n",
      "4:\tlearn: 0.6608396\ttotal: 152ms\tremaining: 30.3s\n",
      "5:\tlearn: 0.6544655\ttotal: 155ms\tremaining: 25.7s\n",
      "6:\tlearn: 0.6481208\ttotal: 158ms\tremaining: 22.5s\n",
      "7:\tlearn: 0.6433941\ttotal: 162ms\tremaining: 20s\n",
      "8:\tlearn: 0.6380976\ttotal: 165ms\tremaining: 18.2s\n",
      "9:\tlearn: 0.6315619\ttotal: 168ms\tremaining: 16.6s\n",
      "10:\tlearn: 0.6273293\ttotal: 170ms\tremaining: 15.3s\n",
      "11:\tlearn: 0.6208064\ttotal: 173ms\tremaining: 14.2s\n",
      "12:\tlearn: 0.6185419\ttotal: 174ms\tremaining: 13.2s\n",
      "13:\tlearn: 0.6124000\ttotal: 177ms\tremaining: 12.5s\n",
      "14:\tlearn: 0.6070412\ttotal: 181ms\tremaining: 11.9s\n",
      "15:\tlearn: 0.6035498\ttotal: 184ms\tremaining: 11.3s\n",
      "16:\tlearn: 0.5988808\ttotal: 187ms\tremaining: 10.8s\n",
      "17:\tlearn: 0.5950684\ttotal: 190ms\tremaining: 10.4s\n",
      "18:\tlearn: 0.5915852\ttotal: 192ms\tremaining: 9.93s\n",
      "19:\tlearn: 0.5866815\ttotal: 196ms\tremaining: 9.59s\n",
      "20:\tlearn: 0.5832576\ttotal: 198ms\tremaining: 9.23s\n",
      "21:\tlearn: 0.5799890\ttotal: 200ms\tremaining: 8.9s\n",
      "22:\tlearn: 0.5745860\ttotal: 202ms\tremaining: 8.59s\n",
      "23:\tlearn: 0.5704075\ttotal: 204ms\tremaining: 8.3s\n",
      "24:\tlearn: 0.5639063\ttotal: 206ms\tremaining: 8.04s\n",
      "25:\tlearn: 0.5586446\ttotal: 208ms\tremaining: 7.78s\n",
      "26:\tlearn: 0.5559750\ttotal: 209ms\tremaining: 7.55s\n",
      "27:\tlearn: 0.5508035\ttotal: 211ms\tremaining: 7.33s\n",
      "28:\tlearn: 0.5473370\ttotal: 213ms\tremaining: 7.13s\n",
      "29:\tlearn: 0.5440579\ttotal: 214ms\tremaining: 6.93s\n",
      "30:\tlearn: 0.5410099\ttotal: 216ms\tremaining: 6.75s\n",
      "31:\tlearn: 0.5368052\ttotal: 218ms\tremaining: 6.58s\n",
      "32:\tlearn: 0.5333875\ttotal: 219ms\tremaining: 6.42s\n",
      "33:\tlearn: 0.5287358\ttotal: 221ms\tremaining: 6.28s\n",
      "34:\tlearn: 0.5261611\ttotal: 223ms\tremaining: 6.13s\n",
      "35:\tlearn: 0.5225386\ttotal: 224ms\tremaining: 6.01s\n",
      "36:\tlearn: 0.5178670\ttotal: 226ms\tremaining: 5.87s\n",
      "37:\tlearn: 0.5151545\ttotal: 227ms\tremaining: 5.74s\n",
      "38:\tlearn: 0.5121136\ttotal: 228ms\tremaining: 5.63s\n",
      "39:\tlearn: 0.5088682\ttotal: 230ms\tremaining: 5.51s\n",
      "40:\tlearn: 0.5056807\ttotal: 231ms\tremaining: 5.4s\n",
      "41:\tlearn: 0.5007102\ttotal: 232ms\tremaining: 5.3s\n",
      "42:\tlearn: 0.4970681\ttotal: 234ms\tremaining: 5.2s\n",
      "43:\tlearn: 0.4937286\ttotal: 235ms\tremaining: 5.11s\n",
      "44:\tlearn: 0.4911548\ttotal: 237ms\tremaining: 5.02s\n",
      "45:\tlearn: 0.4884582\ttotal: 238ms\tremaining: 4.94s\n",
      "46:\tlearn: 0.4862596\ttotal: 239ms\tremaining: 4.85s\n",
      "47:\tlearn: 0.4833411\ttotal: 241ms\tremaining: 4.78s\n",
      "48:\tlearn: 0.4798618\ttotal: 242ms\tremaining: 4.7s\n",
      "49:\tlearn: 0.4772376\ttotal: 243ms\tremaining: 4.62s\n",
      "50:\tlearn: 0.4746164\ttotal: 244ms\tremaining: 4.55s\n",
      "51:\tlearn: 0.4709197\ttotal: 246ms\tremaining: 4.48s\n",
      "52:\tlearn: 0.4667984\ttotal: 247ms\tremaining: 4.41s\n",
      "53:\tlearn: 0.4632796\ttotal: 248ms\tremaining: 4.35s\n",
      "54:\tlearn: 0.4601529\ttotal: 249ms\tremaining: 4.29s\n",
      "55:\tlearn: 0.4567365\ttotal: 251ms\tremaining: 4.23s\n",
      "56:\tlearn: 0.4537270\ttotal: 252ms\tremaining: 4.17s\n",
      "57:\tlearn: 0.4513391\ttotal: 254ms\tremaining: 4.12s\n",
      "58:\tlearn: 0.4491784\ttotal: 255ms\tremaining: 4.07s\n",
      "59:\tlearn: 0.4469339\ttotal: 257ms\tremaining: 4.02s\n",
      "60:\tlearn: 0.4456689\ttotal: 258ms\tremaining: 3.97s\n",
      "61:\tlearn: 0.4414372\ttotal: 259ms\tremaining: 3.92s\n",
      "62:\tlearn: 0.4383404\ttotal: 260ms\tremaining: 3.87s\n",
      "63:\tlearn: 0.4356358\ttotal: 262ms\tremaining: 3.83s\n",
      "64:\tlearn: 0.4330597\ttotal: 263ms\tremaining: 3.78s\n",
      "65:\tlearn: 0.4319920\ttotal: 264ms\tremaining: 3.74s\n",
      "66:\tlearn: 0.4296659\ttotal: 266ms\tremaining: 3.7s\n",
      "67:\tlearn: 0.4273365\ttotal: 267ms\tremaining: 3.66s\n",
      "68:\tlearn: 0.4246020\ttotal: 268ms\tremaining: 3.62s\n",
      "69:\tlearn: 0.4224305\ttotal: 270ms\tremaining: 3.59s\n",
      "70:\tlearn: 0.4198043\ttotal: 271ms\tremaining: 3.55s\n",
      "71:\tlearn: 0.4173546\ttotal: 273ms\tremaining: 3.52s\n",
      "72:\tlearn: 0.4159154\ttotal: 274ms\tremaining: 3.48s\n",
      "73:\tlearn: 0.4135810\ttotal: 276ms\tremaining: 3.45s\n",
      "74:\tlearn: 0.4111108\ttotal: 277ms\tremaining: 3.42s\n",
      "75:\tlearn: 0.4090117\ttotal: 278ms\tremaining: 3.38s\n",
      "76:\tlearn: 0.4060936\ttotal: 280ms\tremaining: 3.35s\n",
      "77:\tlearn: 0.4037413\ttotal: 281ms\tremaining: 3.33s\n",
      "78:\tlearn: 0.4018005\ttotal: 284ms\tremaining: 3.31s\n",
      "79:\tlearn: 0.3996815\ttotal: 285ms\tremaining: 3.27s\n",
      "80:\tlearn: 0.3983039\ttotal: 286ms\tremaining: 3.25s\n",
      "81:\tlearn: 0.3966668\ttotal: 287ms\tremaining: 3.22s\n",
      "82:\tlearn: 0.3939236\ttotal: 289ms\tremaining: 3.19s\n",
      "83:\tlearn: 0.3917376\ttotal: 290ms\tremaining: 3.16s\n",
      "84:\tlearn: 0.3892899\ttotal: 291ms\tremaining: 3.13s\n",
      "85:\tlearn: 0.3881333\ttotal: 292ms\tremaining: 3.11s\n",
      "86:\tlearn: 0.3867338\ttotal: 294ms\tremaining: 3.08s\n",
      "87:\tlearn: 0.3845088\ttotal: 295ms\tremaining: 3.05s\n",
      "88:\tlearn: 0.3821081\ttotal: 296ms\tremaining: 3.03s\n",
      "89:\tlearn: 0.3803483\ttotal: 297ms\tremaining: 3s\n",
      "90:\tlearn: 0.3783870\ttotal: 299ms\tremaining: 2.98s\n",
      "91:\tlearn: 0.3763338\ttotal: 300ms\tremaining: 2.96s\n",
      "92:\tlearn: 0.3742471\ttotal: 301ms\tremaining: 2.94s\n",
      "93:\tlearn: 0.3722629\ttotal: 303ms\tremaining: 2.92s\n",
      "94:\tlearn: 0.3698775\ttotal: 304ms\tremaining: 2.9s\n",
      "95:\tlearn: 0.3679209\ttotal: 305ms\tremaining: 2.88s\n",
      "96:\tlearn: 0.3665200\ttotal: 307ms\tremaining: 2.86s\n",
      "97:\tlearn: 0.3646133\ttotal: 308ms\tremaining: 2.84s\n",
      "98:\tlearn: 0.3625089\ttotal: 310ms\tremaining: 2.82s\n",
      "99:\tlearn: 0.3609824\ttotal: 311ms\tremaining: 2.8s\n",
      "100:\tlearn: 0.3599650\ttotal: 312ms\tremaining: 2.78s\n",
      "101:\tlearn: 0.3579831\ttotal: 314ms\tremaining: 2.76s\n",
      "102:\tlearn: 0.3556648\ttotal: 315ms\tremaining: 2.74s\n",
      "103:\tlearn: 0.3543499\ttotal: 316ms\tremaining: 2.72s\n",
      "104:\tlearn: 0.3522128\ttotal: 318ms\tremaining: 2.71s\n",
      "105:\tlearn: 0.3502768\ttotal: 319ms\tremaining: 2.69s\n",
      "106:\tlearn: 0.3484611\ttotal: 320ms\tremaining: 2.67s\n",
      "107:\tlearn: 0.3467557\ttotal: 321ms\tremaining: 2.65s\n",
      "108:\tlearn: 0.3448058\ttotal: 323ms\tremaining: 2.64s\n",
      "109:\tlearn: 0.3425249\ttotal: 324ms\tremaining: 2.62s\n",
      "110:\tlearn: 0.3414014\ttotal: 325ms\tremaining: 2.6s\n",
      "111:\tlearn: 0.3402030\ttotal: 326ms\tremaining: 2.59s\n",
      "112:\tlearn: 0.3388892\ttotal: 328ms\tremaining: 2.58s\n",
      "113:\tlearn: 0.3367398\ttotal: 330ms\tremaining: 2.56s\n",
      "114:\tlearn: 0.3352428\ttotal: 331ms\tremaining: 2.55s\n",
      "115:\tlearn: 0.3331874\ttotal: 332ms\tremaining: 2.53s\n",
      "116:\tlearn: 0.3322523\ttotal: 334ms\tremaining: 2.52s\n",
      "117:\tlearn: 0.3303018\ttotal: 335ms\tremaining: 2.5s\n",
      "118:\tlearn: 0.3286039\ttotal: 336ms\tremaining: 2.49s\n",
      "119:\tlearn: 0.3270246\ttotal: 337ms\tremaining: 2.47s\n",
      "120:\tlearn: 0.3251904\ttotal: 339ms\tremaining: 2.46s\n",
      "121:\tlearn: 0.3240034\ttotal: 340ms\tremaining: 2.45s\n",
      "122:\tlearn: 0.3230003\ttotal: 341ms\tremaining: 2.43s\n",
      "123:\tlearn: 0.3217337\ttotal: 343ms\tremaining: 2.42s\n",
      "124:\tlearn: 0.3199533\ttotal: 344ms\tremaining: 2.41s\n",
      "125:\tlearn: 0.3187712\ttotal: 345ms\tremaining: 2.39s\n",
      "126:\tlearn: 0.3173604\ttotal: 346ms\tremaining: 2.38s\n",
      "127:\tlearn: 0.3152410\ttotal: 348ms\tremaining: 2.37s\n",
      "128:\tlearn: 0.3136484\ttotal: 349ms\tremaining: 2.35s\n",
      "129:\tlearn: 0.3121936\ttotal: 350ms\tremaining: 2.34s\n",
      "130:\tlearn: 0.3110548\ttotal: 351ms\tremaining: 2.33s\n",
      "131:\tlearn: 0.3092414\ttotal: 353ms\tremaining: 2.32s\n",
      "132:\tlearn: 0.3079777\ttotal: 354ms\tremaining: 2.31s\n",
      "133:\tlearn: 0.3065396\ttotal: 355ms\tremaining: 2.29s\n",
      "134:\tlearn: 0.3050030\ttotal: 356ms\tremaining: 2.28s\n",
      "135:\tlearn: 0.3034368\ttotal: 358ms\tremaining: 2.27s\n",
      "136:\tlearn: 0.3022504\ttotal: 360ms\tremaining: 2.27s\n",
      "137:\tlearn: 0.3009074\ttotal: 361ms\tremaining: 2.26s\n",
      "138:\tlearn: 0.3000765\ttotal: 363ms\tremaining: 2.25s\n",
      "139:\tlearn: 0.2990688\ttotal: 364ms\tremaining: 2.24s\n",
      "140:\tlearn: 0.2979570\ttotal: 365ms\tremaining: 2.23s\n",
      "141:\tlearn: 0.2965772\ttotal: 367ms\tremaining: 2.21s\n",
      "142:\tlearn: 0.2959801\ttotal: 368ms\tremaining: 2.21s\n",
      "143:\tlearn: 0.2950391\ttotal: 369ms\tremaining: 2.19s\n",
      "144:\tlearn: 0.2940064\ttotal: 371ms\tremaining: 2.19s\n",
      "145:\tlearn: 0.2927589\ttotal: 373ms\tremaining: 2.18s\n",
      "146:\tlearn: 0.2921532\ttotal: 374ms\tremaining: 2.17s\n",
      "147:\tlearn: 0.2908750\ttotal: 375ms\tremaining: 2.16s\n",
      "148:\tlearn: 0.2896321\ttotal: 377ms\tremaining: 2.15s\n",
      "149:\tlearn: 0.2880774\ttotal: 378ms\tremaining: 2.14s\n",
      "150:\tlearn: 0.2865184\ttotal: 380ms\tremaining: 2.13s\n",
      "151:\tlearn: 0.2853040\ttotal: 381ms\tremaining: 2.13s\n",
      "152:\tlearn: 0.2840266\ttotal: 382ms\tremaining: 2.12s\n",
      "153:\tlearn: 0.2826035\ttotal: 384ms\tremaining: 2.11s\n",
      "154:\tlearn: 0.2819890\ttotal: 385ms\tremaining: 2.1s\n",
      "155:\tlearn: 0.2806525\ttotal: 386ms\tremaining: 2.09s\n",
      "156:\tlearn: 0.2798171\ttotal: 389ms\tremaining: 2.09s\n",
      "157:\tlearn: 0.2791678\ttotal: 390ms\tremaining: 2.08s\n",
      "158:\tlearn: 0.2778847\ttotal: 392ms\tremaining: 2.07s\n",
      "159:\tlearn: 0.2765604\ttotal: 393ms\tremaining: 2.06s\n",
      "160:\tlearn: 0.2750807\ttotal: 395ms\tremaining: 2.06s\n",
      "161:\tlearn: 0.2743125\ttotal: 397ms\tremaining: 2.05s\n",
      "162:\tlearn: 0.2732262\ttotal: 399ms\tremaining: 2.05s\n",
      "163:\tlearn: 0.2718218\ttotal: 400ms\tremaining: 2.04s\n",
      "164:\tlearn: 0.2712818\ttotal: 402ms\tremaining: 2.03s\n",
      "165:\tlearn: 0.2702995\ttotal: 403ms\tremaining: 2.02s\n",
      "166:\tlearn: 0.2690530\ttotal: 405ms\tremaining: 2.02s\n",
      "167:\tlearn: 0.2679914\ttotal: 406ms\tremaining: 2.01s\n",
      "168:\tlearn: 0.2666526\ttotal: 407ms\tremaining: 2s\n",
      "169:\tlearn: 0.2657482\ttotal: 409ms\tremaining: 2s\n",
      "170:\tlearn: 0.2647297\ttotal: 410ms\tremaining: 1.99s\n",
      "171:\tlearn: 0.2643464\ttotal: 412ms\tremaining: 1.98s\n",
      "172:\tlearn: 0.2633293\ttotal: 413ms\tremaining: 1.98s\n",
      "173:\tlearn: 0.2625081\ttotal: 415ms\tremaining: 1.97s\n",
      "174:\tlearn: 0.2610492\ttotal: 416ms\tremaining: 1.96s\n",
      "175:\tlearn: 0.2597934\ttotal: 418ms\tremaining: 1.95s\n",
      "176:\tlearn: 0.2592793\ttotal: 419ms\tremaining: 1.95s\n",
      "177:\tlearn: 0.2580516\ttotal: 421ms\tremaining: 1.94s\n",
      "178:\tlearn: 0.2571512\ttotal: 422ms\tremaining: 1.94s\n",
      "179:\tlearn: 0.2561349\ttotal: 423ms\tremaining: 1.93s\n",
      "180:\tlearn: 0.2555198\ttotal: 425ms\tremaining: 1.92s\n",
      "181:\tlearn: 0.2541742\ttotal: 426ms\tremaining: 1.92s\n",
      "182:\tlearn: 0.2536322\ttotal: 428ms\tremaining: 1.91s\n",
      "183:\tlearn: 0.2526049\ttotal: 429ms\tremaining: 1.9s\n",
      "184:\tlearn: 0.2516744\ttotal: 430ms\tremaining: 1.9s\n",
      "185:\tlearn: 0.2507408\ttotal: 432ms\tremaining: 1.89s\n",
      "186:\tlearn: 0.2497644\ttotal: 433ms\tremaining: 1.88s\n",
      "187:\tlearn: 0.2489378\ttotal: 434ms\tremaining: 1.88s\n",
      "188:\tlearn: 0.2482995\ttotal: 436ms\tremaining: 1.87s\n",
      "189:\tlearn: 0.2477792\ttotal: 437ms\tremaining: 1.86s\n",
      "190:\tlearn: 0.2470658\ttotal: 438ms\tremaining: 1.86s\n",
      "191:\tlearn: 0.2459583\ttotal: 440ms\tremaining: 1.85s\n",
      "192:\tlearn: 0.2452151\ttotal: 441ms\tremaining: 1.84s\n",
      "193:\tlearn: 0.2442086\ttotal: 442ms\tremaining: 1.84s\n",
      "194:\tlearn: 0.2436003\ttotal: 443ms\tremaining: 1.83s\n",
      "195:\tlearn: 0.2428658\ttotal: 445ms\tremaining: 1.82s\n",
      "196:\tlearn: 0.2420618\ttotal: 446ms\tremaining: 1.82s\n",
      "197:\tlearn: 0.2412898\ttotal: 447ms\tremaining: 1.81s\n",
      "198:\tlearn: 0.2405232\ttotal: 449ms\tremaining: 1.8s\n",
      "199:\tlearn: 0.2397057\ttotal: 450ms\tremaining: 1.8s\n",
      "200:\tlearn: 0.2390244\ttotal: 451ms\tremaining: 1.79s\n",
      "201:\tlearn: 0.2384341\ttotal: 452ms\tremaining: 1.79s\n",
      "202:\tlearn: 0.2372939\ttotal: 454ms\tremaining: 1.78s\n",
      "203:\tlearn: 0.2363509\ttotal: 455ms\tremaining: 1.77s\n",
      "204:\tlearn: 0.2349635\ttotal: 456ms\tremaining: 1.77s\n",
      "205:\tlearn: 0.2338654\ttotal: 458ms\tremaining: 1.76s\n",
      "206:\tlearn: 0.2332846\ttotal: 459ms\tremaining: 1.76s\n",
      "207:\tlearn: 0.2324306\ttotal: 460ms\tremaining: 1.75s\n",
      "208:\tlearn: 0.2317094\ttotal: 462ms\tremaining: 1.75s\n",
      "209:\tlearn: 0.2311606\ttotal: 463ms\tremaining: 1.74s\n",
      "210:\tlearn: 0.2305705\ttotal: 465ms\tremaining: 1.74s\n",
      "211:\tlearn: 0.2294411\ttotal: 466ms\tremaining: 1.73s\n",
      "212:\tlearn: 0.2287468\ttotal: 467ms\tremaining: 1.73s\n",
      "213:\tlearn: 0.2281523\ttotal: 469ms\tremaining: 1.72s\n",
      "214:\tlearn: 0.2274968\ttotal: 470ms\tremaining: 1.72s\n",
      "215:\tlearn: 0.2268953\ttotal: 471ms\tremaining: 1.71s\n",
      "216:\tlearn: 0.2258435\ttotal: 472ms\tremaining: 1.7s\n",
      "217:\tlearn: 0.2249033\ttotal: 474ms\tremaining: 1.7s\n",
      "218:\tlearn: 0.2241840\ttotal: 475ms\tremaining: 1.69s\n",
      "219:\tlearn: 0.2233217\ttotal: 476ms\tremaining: 1.69s\n",
      "220:\tlearn: 0.2225840\ttotal: 477ms\tremaining: 1.68s\n",
      "221:\tlearn: 0.2218745\ttotal: 479ms\tremaining: 1.68s\n",
      "222:\tlearn: 0.2206532\ttotal: 480ms\tremaining: 1.67s\n",
      "223:\tlearn: 0.2200447\ttotal: 481ms\tremaining: 1.67s\n",
      "224:\tlearn: 0.2190258\ttotal: 483ms\tremaining: 1.66s\n",
      "225:\tlearn: 0.2184055\ttotal: 484ms\tremaining: 1.66s\n",
      "226:\tlearn: 0.2177182\ttotal: 485ms\tremaining: 1.65s\n",
      "227:\tlearn: 0.2169910\ttotal: 487ms\tremaining: 1.65s\n",
      "228:\tlearn: 0.2164810\ttotal: 488ms\tremaining: 1.64s\n",
      "229:\tlearn: 0.2157661\ttotal: 489ms\tremaining: 1.64s\n",
      "230:\tlearn: 0.2152543\ttotal: 491ms\tremaining: 1.63s\n",
      "231:\tlearn: 0.2145666\ttotal: 492ms\tremaining: 1.63s\n",
      "232:\tlearn: 0.2137398\ttotal: 493ms\tremaining: 1.62s\n",
      "233:\tlearn: 0.2128550\ttotal: 494ms\tremaining: 1.62s\n",
      "234:\tlearn: 0.2121482\ttotal: 496ms\tremaining: 1.61s\n",
      "235:\tlearn: 0.2115020\ttotal: 497ms\tremaining: 1.61s\n",
      "236:\tlearn: 0.2106757\ttotal: 498ms\tremaining: 1.6s\n",
      "237:\tlearn: 0.2100142\ttotal: 500ms\tremaining: 1.6s\n",
      "238:\tlearn: 0.2093978\ttotal: 501ms\tremaining: 1.59s\n",
      "239:\tlearn: 0.2087966\ttotal: 502ms\tremaining: 1.59s\n",
      "240:\tlearn: 0.2082759\ttotal: 504ms\tremaining: 1.58s\n",
      "241:\tlearn: 0.2077946\ttotal: 505ms\tremaining: 1.58s\n",
      "242:\tlearn: 0.2071328\ttotal: 506ms\tremaining: 1.58s\n",
      "243:\tlearn: 0.2061193\ttotal: 507ms\tremaining: 1.57s\n",
      "244:\tlearn: 0.2055437\ttotal: 509ms\tremaining: 1.57s\n",
      "245:\tlearn: 0.2051778\ttotal: 510ms\tremaining: 1.56s\n",
      "246:\tlearn: 0.2045640\ttotal: 511ms\tremaining: 1.56s\n",
      "247:\tlearn: 0.2038910\ttotal: 512ms\tremaining: 1.55s\n",
      "248:\tlearn: 0.2034122\ttotal: 514ms\tremaining: 1.55s\n",
      "249:\tlearn: 0.2026703\ttotal: 515ms\tremaining: 1.54s\n",
      "250:\tlearn: 0.2021459\ttotal: 516ms\tremaining: 1.54s\n",
      "251:\tlearn: 0.2016936\ttotal: 518ms\tremaining: 1.54s\n",
      "252:\tlearn: 0.2008559\ttotal: 519ms\tremaining: 1.53s\n",
      "253:\tlearn: 0.2003814\ttotal: 521ms\tremaining: 1.53s\n",
      "254:\tlearn: 0.1999721\ttotal: 522ms\tremaining: 1.52s\n",
      "255:\tlearn: 0.1995860\ttotal: 524ms\tremaining: 1.52s\n",
      "256:\tlearn: 0.1990673\ttotal: 525ms\tremaining: 1.52s\n",
      "257:\tlearn: 0.1983412\ttotal: 526ms\tremaining: 1.51s\n",
      "258:\tlearn: 0.1978823\ttotal: 528ms\tremaining: 1.51s\n",
      "259:\tlearn: 0.1976376\ttotal: 529ms\tremaining: 1.5s\n",
      "260:\tlearn: 0.1972050\ttotal: 530ms\tremaining: 1.5s\n"
     ]
    },
    {
     "name": "stdout",
     "output_type": "stream",
     "text": [
      "261:\tlearn: 0.1967405\ttotal: 532ms\tremaining: 1.5s\n",
      "262:\tlearn: 0.1959796\ttotal: 533ms\tremaining: 1.49s\n",
      "263:\tlearn: 0.1950523\ttotal: 535ms\tremaining: 1.49s\n",
      "264:\tlearn: 0.1942856\ttotal: 537ms\tremaining: 1.49s\n",
      "265:\tlearn: 0.1936265\ttotal: 538ms\tremaining: 1.49s\n",
      "266:\tlearn: 0.1930791\ttotal: 540ms\tremaining: 1.48s\n",
      "267:\tlearn: 0.1927282\ttotal: 541ms\tremaining: 1.48s\n",
      "268:\tlearn: 0.1922983\ttotal: 543ms\tremaining: 1.47s\n",
      "269:\tlearn: 0.1916651\ttotal: 544ms\tremaining: 1.47s\n",
      "270:\tlearn: 0.1912562\ttotal: 545ms\tremaining: 1.47s\n",
      "271:\tlearn: 0.1907722\ttotal: 547ms\tremaining: 1.46s\n",
      "272:\tlearn: 0.1899970\ttotal: 548ms\tremaining: 1.46s\n",
      "273:\tlearn: 0.1894174\ttotal: 549ms\tremaining: 1.46s\n",
      "274:\tlearn: 0.1889710\ttotal: 550ms\tremaining: 1.45s\n",
      "275:\tlearn: 0.1885643\ttotal: 552ms\tremaining: 1.45s\n",
      "276:\tlearn: 0.1878568\ttotal: 553ms\tremaining: 1.44s\n",
      "277:\tlearn: 0.1874592\ttotal: 554ms\tremaining: 1.44s\n",
      "278:\tlearn: 0.1871562\ttotal: 555ms\tremaining: 1.44s\n",
      "279:\tlearn: 0.1867192\ttotal: 557ms\tremaining: 1.43s\n",
      "280:\tlearn: 0.1860647\ttotal: 558ms\tremaining: 1.43s\n",
      "281:\tlearn: 0.1856102\ttotal: 559ms\tremaining: 1.42s\n",
      "282:\tlearn: 0.1850561\ttotal: 561ms\tremaining: 1.42s\n",
      "283:\tlearn: 0.1846067\ttotal: 562ms\tremaining: 1.42s\n",
      "284:\tlearn: 0.1842713\ttotal: 563ms\tremaining: 1.41s\n",
      "285:\tlearn: 0.1837459\ttotal: 565ms\tremaining: 1.41s\n",
      "286:\tlearn: 0.1831791\ttotal: 566ms\tremaining: 1.41s\n",
      "287:\tlearn: 0.1824254\ttotal: 567ms\tremaining: 1.4s\n",
      "288:\tlearn: 0.1821113\ttotal: 568ms\tremaining: 1.4s\n",
      "289:\tlearn: 0.1814198\ttotal: 570ms\tremaining: 1.4s\n",
      "290:\tlearn: 0.1809777\ttotal: 571ms\tremaining: 1.39s\n",
      "291:\tlearn: 0.1803251\ttotal: 572ms\tremaining: 1.39s\n",
      "292:\tlearn: 0.1795649\ttotal: 573ms\tremaining: 1.38s\n",
      "293:\tlearn: 0.1790028\ttotal: 575ms\tremaining: 1.38s\n",
      "294:\tlearn: 0.1786098\ttotal: 576ms\tremaining: 1.38s\n",
      "295:\tlearn: 0.1779016\ttotal: 577ms\tremaining: 1.37s\n",
      "296:\tlearn: 0.1773707\ttotal: 578ms\tremaining: 1.37s\n",
      "297:\tlearn: 0.1768913\ttotal: 580ms\tremaining: 1.36s\n",
      "298:\tlearn: 0.1764062\ttotal: 581ms\tremaining: 1.36s\n",
      "299:\tlearn: 0.1759588\ttotal: 582ms\tremaining: 1.36s\n",
      "300:\tlearn: 0.1754651\ttotal: 583ms\tremaining: 1.35s\n",
      "301:\tlearn: 0.1750237\ttotal: 585ms\tremaining: 1.35s\n",
      "302:\tlearn: 0.1742901\ttotal: 587ms\tremaining: 1.35s\n",
      "303:\tlearn: 0.1738408\ttotal: 588ms\tremaining: 1.35s\n",
      "304:\tlearn: 0.1733234\ttotal: 590ms\tremaining: 1.34s\n",
      "305:\tlearn: 0.1728755\ttotal: 591ms\tremaining: 1.34s\n",
      "306:\tlearn: 0.1724616\ttotal: 593ms\tremaining: 1.34s\n",
      "307:\tlearn: 0.1721316\ttotal: 594ms\tremaining: 1.33s\n",
      "308:\tlearn: 0.1716404\ttotal: 595ms\tremaining: 1.33s\n",
      "309:\tlearn: 0.1712021\ttotal: 596ms\tremaining: 1.33s\n",
      "310:\tlearn: 0.1709308\ttotal: 598ms\tremaining: 1.32s\n",
      "311:\tlearn: 0.1705022\ttotal: 599ms\tremaining: 1.32s\n",
      "312:\tlearn: 0.1699626\ttotal: 600ms\tremaining: 1.32s\n",
      "313:\tlearn: 0.1693894\ttotal: 602ms\tremaining: 1.31s\n",
      "314:\tlearn: 0.1689982\ttotal: 603ms\tremaining: 1.31s\n",
      "315:\tlearn: 0.1686192\ttotal: 605ms\tremaining: 1.31s\n",
      "316:\tlearn: 0.1683143\ttotal: 606ms\tremaining: 1.3s\n",
      "317:\tlearn: 0.1676197\ttotal: 607ms\tremaining: 1.3s\n",
      "318:\tlearn: 0.1667397\ttotal: 609ms\tremaining: 1.3s\n",
      "319:\tlearn: 0.1660552\ttotal: 610ms\tremaining: 1.3s\n",
      "320:\tlearn: 0.1655488\ttotal: 611ms\tremaining: 1.29s\n",
      "321:\tlearn: 0.1652039\ttotal: 612ms\tremaining: 1.29s\n",
      "322:\tlearn: 0.1650456\ttotal: 614ms\tremaining: 1.29s\n",
      "323:\tlearn: 0.1643815\ttotal: 615ms\tremaining: 1.28s\n",
      "324:\tlearn: 0.1637587\ttotal: 616ms\tremaining: 1.28s\n",
      "325:\tlearn: 0.1636552\ttotal: 617ms\tremaining: 1.28s\n",
      "326:\tlearn: 0.1630477\ttotal: 619ms\tremaining: 1.27s\n",
      "327:\tlearn: 0.1627940\ttotal: 620ms\tremaining: 1.27s\n",
      "328:\tlearn: 0.1625577\ttotal: 621ms\tremaining: 1.27s\n",
      "329:\tlearn: 0.1620785\ttotal: 623ms\tremaining: 1.26s\n",
      "330:\tlearn: 0.1616594\ttotal: 624ms\tremaining: 1.26s\n",
      "331:\tlearn: 0.1613090\ttotal: 625ms\tremaining: 1.26s\n",
      "332:\tlearn: 0.1610179\ttotal: 627ms\tremaining: 1.25s\n",
      "333:\tlearn: 0.1607243\ttotal: 628ms\tremaining: 1.25s\n",
      "334:\tlearn: 0.1603309\ttotal: 630ms\tremaining: 1.25s\n",
      "335:\tlearn: 0.1598008\ttotal: 631ms\tremaining: 1.25s\n",
      "336:\tlearn: 0.1594497\ttotal: 632ms\tremaining: 1.24s\n",
      "337:\tlearn: 0.1589476\ttotal: 634ms\tremaining: 1.24s\n",
      "338:\tlearn: 0.1584434\ttotal: 635ms\tremaining: 1.24s\n",
      "339:\tlearn: 0.1580938\ttotal: 636ms\tremaining: 1.24s\n",
      "340:\tlearn: 0.1578002\ttotal: 638ms\tremaining: 1.23s\n",
      "341:\tlearn: 0.1574698\ttotal: 639ms\tremaining: 1.23s\n",
      "342:\tlearn: 0.1571473\ttotal: 640ms\tremaining: 1.23s\n",
      "343:\tlearn: 0.1568835\ttotal: 642ms\tremaining: 1.22s\n",
      "344:\tlearn: 0.1565087\ttotal: 643ms\tremaining: 1.22s\n",
      "345:\tlearn: 0.1560679\ttotal: 645ms\tremaining: 1.22s\n",
      "346:\tlearn: 0.1556439\ttotal: 646ms\tremaining: 1.22s\n",
      "347:\tlearn: 0.1553323\ttotal: 647ms\tremaining: 1.21s\n",
      "348:\tlearn: 0.1550631\ttotal: 649ms\tremaining: 1.21s\n",
      "349:\tlearn: 0.1545978\ttotal: 650ms\tremaining: 1.21s\n",
      "350:\tlearn: 0.1542052\ttotal: 652ms\tremaining: 1.2s\n",
      "351:\tlearn: 0.1537164\ttotal: 653ms\tremaining: 1.2s\n",
      "352:\tlearn: 0.1533980\ttotal: 654ms\tremaining: 1.2s\n",
      "353:\tlearn: 0.1531593\ttotal: 656ms\tremaining: 1.2s\n",
      "354:\tlearn: 0.1527667\ttotal: 657ms\tremaining: 1.19s\n",
      "355:\tlearn: 0.1523548\ttotal: 658ms\tremaining: 1.19s\n",
      "356:\tlearn: 0.1521075\ttotal: 660ms\tremaining: 1.19s\n",
      "357:\tlearn: 0.1517801\ttotal: 661ms\tremaining: 1.19s\n",
      "358:\tlearn: 0.1512682\ttotal: 663ms\tremaining: 1.18s\n",
      "359:\tlearn: 0.1509270\ttotal: 664ms\tremaining: 1.18s\n",
      "360:\tlearn: 0.1506761\ttotal: 665ms\tremaining: 1.18s\n",
      "361:\tlearn: 0.1503183\ttotal: 667ms\tremaining: 1.17s\n",
      "362:\tlearn: 0.1499906\ttotal: 668ms\tremaining: 1.17s\n",
      "363:\tlearn: 0.1496779\ttotal: 669ms\tremaining: 1.17s\n",
      "364:\tlearn: 0.1493112\ttotal: 671ms\tremaining: 1.17s\n",
      "365:\tlearn: 0.1490407\ttotal: 672ms\tremaining: 1.16s\n",
      "366:\tlearn: 0.1486936\ttotal: 673ms\tremaining: 1.16s\n",
      "367:\tlearn: 0.1481808\ttotal: 675ms\tremaining: 1.16s\n",
      "368:\tlearn: 0.1478721\ttotal: 676ms\tremaining: 1.16s\n",
      "369:\tlearn: 0.1475815\ttotal: 677ms\tremaining: 1.15s\n",
      "370:\tlearn: 0.1473861\ttotal: 679ms\tremaining: 1.15s\n",
      "371:\tlearn: 0.1470508\ttotal: 680ms\tremaining: 1.15s\n",
      "372:\tlearn: 0.1466649\ttotal: 681ms\tremaining: 1.14s\n",
      "373:\tlearn: 0.1462393\ttotal: 682ms\tremaining: 1.14s\n",
      "374:\tlearn: 0.1459883\ttotal: 684ms\tremaining: 1.14s\n",
      "375:\tlearn: 0.1458326\ttotal: 685ms\tremaining: 1.14s\n",
      "376:\tlearn: 0.1456842\ttotal: 686ms\tremaining: 1.13s\n",
      "377:\tlearn: 0.1453830\ttotal: 688ms\tremaining: 1.13s\n",
      "378:\tlearn: 0.1449543\ttotal: 689ms\tremaining: 1.13s\n",
      "379:\tlearn: 0.1447541\ttotal: 690ms\tremaining: 1.13s\n",
      "380:\tlearn: 0.1441459\ttotal: 692ms\tremaining: 1.12s\n",
      "381:\tlearn: 0.1438533\ttotal: 693ms\tremaining: 1.12s\n",
      "382:\tlearn: 0.1435740\ttotal: 694ms\tremaining: 1.12s\n",
      "383:\tlearn: 0.1431519\ttotal: 696ms\tremaining: 1.11s\n",
      "384:\tlearn: 0.1428615\ttotal: 697ms\tremaining: 1.11s\n",
      "385:\tlearn: 0.1426116\ttotal: 698ms\tremaining: 1.11s\n",
      "386:\tlearn: 0.1423398\ttotal: 700ms\tremaining: 1.11s\n",
      "387:\tlearn: 0.1420435\ttotal: 701ms\tremaining: 1.1s\n",
      "388:\tlearn: 0.1417656\ttotal: 702ms\tremaining: 1.1s\n",
      "389:\tlearn: 0.1416249\ttotal: 704ms\tremaining: 1.1s\n",
      "390:\tlearn: 0.1414529\ttotal: 705ms\tremaining: 1.1s\n",
      "391:\tlearn: 0.1411826\ttotal: 706ms\tremaining: 1.09s\n",
      "392:\tlearn: 0.1408481\ttotal: 708ms\tremaining: 1.09s\n",
      "393:\tlearn: 0.1406338\ttotal: 709ms\tremaining: 1.09s\n",
      "394:\tlearn: 0.1403178\ttotal: 711ms\tremaining: 1.09s\n",
      "395:\tlearn: 0.1400977\ttotal: 712ms\tremaining: 1.08s\n",
      "396:\tlearn: 0.1398520\ttotal: 713ms\tremaining: 1.08s\n",
      "397:\tlearn: 0.1395174\ttotal: 715ms\tremaining: 1.08s\n",
      "398:\tlearn: 0.1392065\ttotal: 716ms\tremaining: 1.08s\n",
      "399:\tlearn: 0.1388620\ttotal: 718ms\tremaining: 1.08s\n",
      "400:\tlearn: 0.1386879\ttotal: 719ms\tremaining: 1.07s\n",
      "401:\tlearn: 0.1384357\ttotal: 721ms\tremaining: 1.07s\n",
      "402:\tlearn: 0.1380408\ttotal: 722ms\tremaining: 1.07s\n",
      "403:\tlearn: 0.1375899\ttotal: 724ms\tremaining: 1.07s\n",
      "404:\tlearn: 0.1370918\ttotal: 726ms\tremaining: 1.07s\n",
      "405:\tlearn: 0.1367545\ttotal: 727ms\tremaining: 1.06s\n",
      "406:\tlearn: 0.1363949\ttotal: 728ms\tremaining: 1.06s\n",
      "407:\tlearn: 0.1359786\ttotal: 730ms\tremaining: 1.06s\n",
      "408:\tlearn: 0.1357316\ttotal: 731ms\tremaining: 1.06s\n",
      "409:\tlearn: 0.1355670\ttotal: 732ms\tremaining: 1.05s\n",
      "410:\tlearn: 0.1352071\ttotal: 734ms\tremaining: 1.05s\n",
      "411:\tlearn: 0.1348615\ttotal: 735ms\tremaining: 1.05s\n",
      "412:\tlearn: 0.1345533\ttotal: 736ms\tremaining: 1.05s\n",
      "413:\tlearn: 0.1342337\ttotal: 737ms\tremaining: 1.04s\n",
      "414:\tlearn: 0.1340935\ttotal: 739ms\tremaining: 1.04s\n",
      "415:\tlearn: 0.1336255\ttotal: 741ms\tremaining: 1.04s\n",
      "416:\tlearn: 0.1332961\ttotal: 743ms\tremaining: 1.04s\n",
      "417:\tlearn: 0.1329293\ttotal: 744ms\tremaining: 1.04s\n",
      "418:\tlearn: 0.1327039\ttotal: 746ms\tremaining: 1.03s\n",
      "419:\tlearn: 0.1324972\ttotal: 747ms\tremaining: 1.03s\n",
      "420:\tlearn: 0.1322252\ttotal: 748ms\tremaining: 1.03s\n",
      "421:\tlearn: 0.1319840\ttotal: 750ms\tremaining: 1.03s\n",
      "422:\tlearn: 0.1317878\ttotal: 751ms\tremaining: 1.02s\n",
      "423:\tlearn: 0.1314469\ttotal: 753ms\tremaining: 1.02s\n",
      "424:\tlearn: 0.1311106\ttotal: 754ms\tremaining: 1.02s\n",
      "425:\tlearn: 0.1307610\ttotal: 755ms\tremaining: 1.02s\n",
      "426:\tlearn: 0.1304582\ttotal: 757ms\tremaining: 1.01s\n",
      "427:\tlearn: 0.1302990\ttotal: 758ms\tremaining: 1.01s\n",
      "428:\tlearn: 0.1301533\ttotal: 760ms\tremaining: 1.01s\n",
      "429:\tlearn: 0.1296940\ttotal: 761ms\tremaining: 1.01s\n",
      "430:\tlearn: 0.1293522\ttotal: 762ms\tremaining: 1.01s\n",
      "431:\tlearn: 0.1289941\ttotal: 764ms\tremaining: 1s\n",
      "432:\tlearn: 0.1288147\ttotal: 765ms\tremaining: 1s\n",
      "433:\tlearn: 0.1283793\ttotal: 766ms\tremaining: 999ms\n",
      "434:\tlearn: 0.1278775\ttotal: 767ms\tremaining: 996ms\n",
      "435:\tlearn: 0.1275772\ttotal: 768ms\tremaining: 994ms\n",
      "436:\tlearn: 0.1272682\ttotal: 770ms\tremaining: 992ms\n",
      "437:\tlearn: 0.1270030\ttotal: 771ms\tremaining: 990ms\n"
     ]
    },
    {
     "name": "stdout",
     "output_type": "stream",
     "text": [
      "438:\tlearn: 0.1267912\ttotal: 773ms\tremaining: 988ms\n",
      "439:\tlearn: 0.1264958\ttotal: 775ms\tremaining: 986ms\n",
      "440:\tlearn: 0.1261317\ttotal: 776ms\tremaining: 983ms\n",
      "441:\tlearn: 0.1259205\ttotal: 777ms\tremaining: 981ms\n",
      "442:\tlearn: 0.1256475\ttotal: 778ms\tremaining: 979ms\n",
      "443:\tlearn: 0.1253201\ttotal: 780ms\tremaining: 976ms\n",
      "444:\tlearn: 0.1249436\ttotal: 781ms\tremaining: 974ms\n",
      "445:\tlearn: 0.1247475\ttotal: 782ms\tremaining: 972ms\n",
      "446:\tlearn: 0.1244742\ttotal: 783ms\tremaining: 969ms\n",
      "447:\tlearn: 0.1242681\ttotal: 785ms\tremaining: 967ms\n",
      "448:\tlearn: 0.1240451\ttotal: 786ms\tremaining: 965ms\n",
      "449:\tlearn: 0.1236995\ttotal: 787ms\tremaining: 962ms\n",
      "450:\tlearn: 0.1234923\ttotal: 789ms\tremaining: 960ms\n",
      "451:\tlearn: 0.1232253\ttotal: 790ms\tremaining: 958ms\n",
      "452:\tlearn: 0.1229461\ttotal: 791ms\tremaining: 956ms\n",
      "453:\tlearn: 0.1226982\ttotal: 793ms\tremaining: 953ms\n",
      "454:\tlearn: 0.1224684\ttotal: 794ms\tremaining: 951ms\n",
      "455:\tlearn: 0.1222467\ttotal: 795ms\tremaining: 949ms\n",
      "456:\tlearn: 0.1218417\ttotal: 796ms\tremaining: 946ms\n",
      "457:\tlearn: 0.1216068\ttotal: 798ms\tremaining: 944ms\n",
      "458:\tlearn: 0.1212676\ttotal: 799ms\tremaining: 942ms\n",
      "459:\tlearn: 0.1210402\ttotal: 800ms\tremaining: 939ms\n",
      "460:\tlearn: 0.1206654\ttotal: 802ms\tremaining: 937ms\n",
      "461:\tlearn: 0.1204814\ttotal: 803ms\tremaining: 935ms\n",
      "462:\tlearn: 0.1202883\ttotal: 805ms\tremaining: 933ms\n",
      "463:\tlearn: 0.1202149\ttotal: 806ms\tremaining: 931ms\n",
      "464:\tlearn: 0.1200847\ttotal: 807ms\tremaining: 929ms\n",
      "465:\tlearn: 0.1197303\ttotal: 809ms\tremaining: 927ms\n",
      "466:\tlearn: 0.1195757\ttotal: 810ms\tremaining: 924ms\n",
      "467:\tlearn: 0.1192525\ttotal: 811ms\tremaining: 922ms\n",
      "468:\tlearn: 0.1188980\ttotal: 813ms\tremaining: 920ms\n",
      "469:\tlearn: 0.1185617\ttotal: 814ms\tremaining: 918ms\n",
      "470:\tlearn: 0.1182186\ttotal: 815ms\tremaining: 916ms\n",
      "471:\tlearn: 0.1178923\ttotal: 817ms\tremaining: 913ms\n",
      "472:\tlearn: 0.1177395\ttotal: 818ms\tremaining: 911ms\n",
      "473:\tlearn: 0.1174824\ttotal: 819ms\tremaining: 909ms\n",
      "474:\tlearn: 0.1170421\ttotal: 821ms\tremaining: 907ms\n",
      "475:\tlearn: 0.1168334\ttotal: 822ms\tremaining: 905ms\n",
      "476:\tlearn: 0.1165179\ttotal: 823ms\tremaining: 903ms\n",
      "477:\tlearn: 0.1163290\ttotal: 825ms\tremaining: 900ms\n",
      "478:\tlearn: 0.1162582\ttotal: 826ms\tremaining: 898ms\n",
      "479:\tlearn: 0.1160751\ttotal: 827ms\tremaining: 896ms\n",
      "480:\tlearn: 0.1158594\ttotal: 828ms\tremaining: 894ms\n",
      "481:\tlearn: 0.1156074\ttotal: 830ms\tremaining: 891ms\n",
      "482:\tlearn: 0.1154389\ttotal: 831ms\tremaining: 889ms\n",
      "483:\tlearn: 0.1151668\ttotal: 832ms\tremaining: 887ms\n",
      "484:\tlearn: 0.1150412\ttotal: 833ms\tremaining: 885ms\n",
      "485:\tlearn: 0.1148229\ttotal: 835ms\tremaining: 883ms\n",
      "486:\tlearn: 0.1145120\ttotal: 836ms\tremaining: 881ms\n",
      "487:\tlearn: 0.1142553\ttotal: 837ms\tremaining: 879ms\n",
      "488:\tlearn: 0.1140045\ttotal: 839ms\tremaining: 876ms\n",
      "489:\tlearn: 0.1137044\ttotal: 840ms\tremaining: 874ms\n",
      "490:\tlearn: 0.1134397\ttotal: 841ms\tremaining: 872ms\n",
      "491:\tlearn: 0.1132490\ttotal: 842ms\tremaining: 870ms\n",
      "492:\tlearn: 0.1128877\ttotal: 844ms\tremaining: 868ms\n",
      "493:\tlearn: 0.1125749\ttotal: 845ms\tremaining: 865ms\n",
      "494:\tlearn: 0.1123153\ttotal: 846ms\tremaining: 863ms\n",
      "495:\tlearn: 0.1120711\ttotal: 847ms\tremaining: 861ms\n",
      "496:\tlearn: 0.1117657\ttotal: 849ms\tremaining: 859ms\n",
      "497:\tlearn: 0.1114518\ttotal: 850ms\tremaining: 857ms\n",
      "498:\tlearn: 0.1111590\ttotal: 851ms\tremaining: 855ms\n",
      "499:\tlearn: 0.1110327\ttotal: 853ms\tremaining: 853ms\n",
      "500:\tlearn: 0.1107500\ttotal: 854ms\tremaining: 851ms\n",
      "501:\tlearn: 0.1104559\ttotal: 855ms\tremaining: 848ms\n",
      "502:\tlearn: 0.1101947\ttotal: 856ms\tremaining: 846ms\n",
      "503:\tlearn: 0.1097409\ttotal: 858ms\tremaining: 844ms\n",
      "504:\tlearn: 0.1093479\ttotal: 859ms\tremaining: 842ms\n",
      "505:\tlearn: 0.1091581\ttotal: 860ms\tremaining: 840ms\n",
      "506:\tlearn: 0.1090280\ttotal: 861ms\tremaining: 838ms\n",
      "507:\tlearn: 0.1087354\ttotal: 863ms\tremaining: 836ms\n",
      "508:\tlearn: 0.1084840\ttotal: 864ms\tremaining: 834ms\n",
      "509:\tlearn: 0.1082622\ttotal: 866ms\tremaining: 832ms\n",
      "510:\tlearn: 0.1080940\ttotal: 867ms\tremaining: 830ms\n",
      "511:\tlearn: 0.1078472\ttotal: 868ms\tremaining: 828ms\n",
      "512:\tlearn: 0.1076344\ttotal: 870ms\tremaining: 825ms\n",
      "513:\tlearn: 0.1074258\ttotal: 871ms\tremaining: 823ms\n",
      "514:\tlearn: 0.1073051\ttotal: 872ms\tremaining: 821ms\n",
      "515:\tlearn: 0.1071314\ttotal: 874ms\tremaining: 819ms\n",
      "516:\tlearn: 0.1068112\ttotal: 875ms\tremaining: 817ms\n",
      "517:\tlearn: 0.1066100\ttotal: 876ms\tremaining: 815ms\n",
      "518:\tlearn: 0.1063441\ttotal: 878ms\tremaining: 813ms\n",
      "519:\tlearn: 0.1060652\ttotal: 879ms\tremaining: 811ms\n",
      "520:\tlearn: 0.1058668\ttotal: 880ms\tremaining: 809ms\n",
      "521:\tlearn: 0.1056560\ttotal: 881ms\tremaining: 807ms\n",
      "522:\tlearn: 0.1052363\ttotal: 883ms\tremaining: 805ms\n",
      "523:\tlearn: 0.1050670\ttotal: 884ms\tremaining: 803ms\n",
      "524:\tlearn: 0.1048004\ttotal: 885ms\tremaining: 801ms\n",
      "525:\tlearn: 0.1046941\ttotal: 886ms\tremaining: 799ms\n",
      "526:\tlearn: 0.1044712\ttotal: 888ms\tremaining: 797ms\n",
      "527:\tlearn: 0.1041521\ttotal: 889ms\tremaining: 795ms\n",
      "528:\tlearn: 0.1039138\ttotal: 890ms\tremaining: 793ms\n",
      "529:\tlearn: 0.1035441\ttotal: 892ms\tremaining: 791ms\n",
      "530:\tlearn: 0.1034104\ttotal: 893ms\tremaining: 789ms\n",
      "531:\tlearn: 0.1030887\ttotal: 894ms\tremaining: 787ms\n",
      "532:\tlearn: 0.1028346\ttotal: 896ms\tremaining: 785ms\n",
      "533:\tlearn: 0.1027224\ttotal: 897ms\tremaining: 783ms\n",
      "534:\tlearn: 0.1026204\ttotal: 899ms\tremaining: 781ms\n",
      "535:\tlearn: 0.1024490\ttotal: 900ms\tremaining: 779ms\n",
      "536:\tlearn: 0.1023442\ttotal: 901ms\tremaining: 777ms\n",
      "537:\tlearn: 0.1021609\ttotal: 903ms\tremaining: 775ms\n",
      "538:\tlearn: 0.1019238\ttotal: 904ms\tremaining: 773ms\n",
      "539:\tlearn: 0.1017791\ttotal: 905ms\tremaining: 771ms\n",
      "540:\tlearn: 0.1016450\ttotal: 906ms\tremaining: 769ms\n",
      "541:\tlearn: 0.1015485\ttotal: 908ms\tremaining: 767ms\n",
      "542:\tlearn: 0.1013394\ttotal: 909ms\tremaining: 765ms\n",
      "543:\tlearn: 0.1011010\ttotal: 910ms\tremaining: 763ms\n",
      "544:\tlearn: 0.1010077\ttotal: 912ms\tremaining: 761ms\n",
      "545:\tlearn: 0.1008595\ttotal: 913ms\tremaining: 759ms\n",
      "546:\tlearn: 0.1007093\ttotal: 914ms\tremaining: 757ms\n",
      "547:\tlearn: 0.1003755\ttotal: 916ms\tremaining: 755ms\n",
      "548:\tlearn: 0.1002719\ttotal: 917ms\tremaining: 753ms\n",
      "549:\tlearn: 0.1002241\ttotal: 918ms\tremaining: 751ms\n",
      "550:\tlearn: 0.1000303\ttotal: 919ms\tremaining: 749ms\n",
      "551:\tlearn: 0.0998785\ttotal: 920ms\tremaining: 747ms\n",
      "552:\tlearn: 0.0996700\ttotal: 922ms\tremaining: 745ms\n",
      "553:\tlearn: 0.0994179\ttotal: 923ms\tremaining: 743ms\n",
      "554:\tlearn: 0.0991927\ttotal: 924ms\tremaining: 741ms\n",
      "555:\tlearn: 0.0989971\ttotal: 926ms\tremaining: 739ms\n",
      "556:\tlearn: 0.0987057\ttotal: 927ms\tremaining: 737ms\n",
      "557:\tlearn: 0.0984829\ttotal: 928ms\tremaining: 735ms\n",
      "558:\tlearn: 0.0983275\ttotal: 930ms\tremaining: 733ms\n",
      "559:\tlearn: 0.0981358\ttotal: 931ms\tremaining: 731ms\n",
      "560:\tlearn: 0.0980221\ttotal: 932ms\tremaining: 730ms\n",
      "561:\tlearn: 0.0978531\ttotal: 934ms\tremaining: 728ms\n",
      "562:\tlearn: 0.0976902\ttotal: 935ms\tremaining: 726ms\n",
      "563:\tlearn: 0.0974305\ttotal: 936ms\tremaining: 724ms\n",
      "564:\tlearn: 0.0972426\ttotal: 937ms\tremaining: 722ms\n",
      "565:\tlearn: 0.0971272\ttotal: 939ms\tremaining: 720ms\n",
      "566:\tlearn: 0.0969090\ttotal: 940ms\tremaining: 718ms\n",
      "567:\tlearn: 0.0966975\ttotal: 942ms\tremaining: 716ms\n",
      "568:\tlearn: 0.0963901\ttotal: 943ms\tremaining: 714ms\n",
      "569:\tlearn: 0.0961273\ttotal: 945ms\tremaining: 713ms\n",
      "570:\tlearn: 0.0959013\ttotal: 946ms\tremaining: 711ms\n",
      "571:\tlearn: 0.0957896\ttotal: 947ms\tremaining: 709ms\n",
      "572:\tlearn: 0.0955401\ttotal: 949ms\tremaining: 707ms\n",
      "573:\tlearn: 0.0952744\ttotal: 950ms\tremaining: 705ms\n",
      "574:\tlearn: 0.0950797\ttotal: 952ms\tremaining: 703ms\n",
      "575:\tlearn: 0.0949534\ttotal: 953ms\tremaining: 701ms\n",
      "576:\tlearn: 0.0948476\ttotal: 955ms\tremaining: 700ms\n",
      "577:\tlearn: 0.0947061\ttotal: 956ms\tremaining: 698ms\n",
      "578:\tlearn: 0.0945170\ttotal: 958ms\tremaining: 696ms\n",
      "579:\tlearn: 0.0943262\ttotal: 959ms\tremaining: 694ms\n",
      "580:\tlearn: 0.0941609\ttotal: 960ms\tremaining: 692ms\n",
      "581:\tlearn: 0.0940514\ttotal: 961ms\tremaining: 690ms\n",
      "582:\tlearn: 0.0939268\ttotal: 963ms\tremaining: 689ms\n",
      "583:\tlearn: 0.0937734\ttotal: 964ms\tremaining: 687ms\n",
      "584:\tlearn: 0.0935789\ttotal: 965ms\tremaining: 685ms\n",
      "585:\tlearn: 0.0934301\ttotal: 966ms\tremaining: 683ms\n",
      "586:\tlearn: 0.0932221\ttotal: 968ms\tremaining: 681ms\n",
      "587:\tlearn: 0.0930794\ttotal: 969ms\tremaining: 679ms\n",
      "588:\tlearn: 0.0928776\ttotal: 971ms\tremaining: 677ms\n",
      "589:\tlearn: 0.0927477\ttotal: 972ms\tremaining: 675ms\n",
      "590:\tlearn: 0.0926359\ttotal: 973ms\tremaining: 674ms\n",
      "591:\tlearn: 0.0925299\ttotal: 975ms\tremaining: 672ms\n",
      "592:\tlearn: 0.0923909\ttotal: 976ms\tremaining: 670ms\n",
      "593:\tlearn: 0.0923110\ttotal: 978ms\tremaining: 668ms\n",
      "594:\tlearn: 0.0921196\ttotal: 979ms\tremaining: 667ms\n",
      "595:\tlearn: 0.0919382\ttotal: 981ms\tremaining: 665ms\n",
      "596:\tlearn: 0.0916961\ttotal: 982ms\tremaining: 663ms\n",
      "597:\tlearn: 0.0915269\ttotal: 983ms\tremaining: 661ms\n",
      "598:\tlearn: 0.0912874\ttotal: 985ms\tremaining: 659ms\n",
      "599:\tlearn: 0.0911220\ttotal: 986ms\tremaining: 657ms\n",
      "600:\tlearn: 0.0908617\ttotal: 987ms\tremaining: 655ms\n",
      "601:\tlearn: 0.0906687\ttotal: 988ms\tremaining: 653ms\n",
      "602:\tlearn: 0.0905180\ttotal: 990ms\tremaining: 651ms\n",
      "603:\tlearn: 0.0904132\ttotal: 991ms\tremaining: 650ms\n",
      "604:\tlearn: 0.0901977\ttotal: 992ms\tremaining: 648ms\n",
      "605:\tlearn: 0.0899649\ttotal: 994ms\tremaining: 646ms\n",
      "606:\tlearn: 0.0898663\ttotal: 995ms\tremaining: 644ms\n",
      "607:\tlearn: 0.0896727\ttotal: 996ms\tremaining: 642ms\n",
      "608:\tlearn: 0.0894995\ttotal: 997ms\tremaining: 640ms\n",
      "609:\tlearn: 0.0893521\ttotal: 999ms\tremaining: 638ms\n",
      "610:\tlearn: 0.0890944\ttotal: 1s\tremaining: 637ms\n",
      "611:\tlearn: 0.0889683\ttotal: 1s\tremaining: 635ms\n",
      "612:\tlearn: 0.0887821\ttotal: 1s\tremaining: 633ms\n",
      "613:\tlearn: 0.0885124\ttotal: 1s\tremaining: 631ms\n",
      "614:\tlearn: 0.0883484\ttotal: 1s\tremaining: 629ms\n",
      "615:\tlearn: 0.0882514\ttotal: 1.01s\tremaining: 627ms\n",
      "616:\tlearn: 0.0881260\ttotal: 1.01s\tremaining: 626ms\n",
      "617:\tlearn: 0.0879950\ttotal: 1.01s\tremaining: 624ms\n",
      "618:\tlearn: 0.0877678\ttotal: 1.01s\tremaining: 622ms\n",
      "619:\tlearn: 0.0876978\ttotal: 1.01s\tremaining: 620ms\n",
      "620:\tlearn: 0.0875222\ttotal: 1.01s\tremaining: 618ms\n",
      "621:\tlearn: 0.0873337\ttotal: 1.01s\tremaining: 616ms\n",
      "622:\tlearn: 0.0871567\ttotal: 1.01s\tremaining: 615ms\n",
      "623:\tlearn: 0.0870351\ttotal: 1.02s\tremaining: 613ms\n",
      "624:\tlearn: 0.0868662\ttotal: 1.02s\tremaining: 611ms\n",
      "625:\tlearn: 0.0866535\ttotal: 1.02s\tremaining: 609ms\n",
      "626:\tlearn: 0.0864936\ttotal: 1.02s\tremaining: 608ms\n",
      "627:\tlearn: 0.0863498\ttotal: 1.02s\tremaining: 606ms\n",
      "628:\tlearn: 0.0860809\ttotal: 1.02s\tremaining: 604ms\n",
      "629:\tlearn: 0.0859336\ttotal: 1.02s\tremaining: 602ms\n",
      "630:\tlearn: 0.0858003\ttotal: 1.03s\tremaining: 600ms\n",
      "631:\tlearn: 0.0856542\ttotal: 1.03s\tremaining: 598ms\n",
      "632:\tlearn: 0.0854355\ttotal: 1.03s\tremaining: 597ms\n",
      "633:\tlearn: 0.0852554\ttotal: 1.03s\tremaining: 595ms\n",
      "634:\tlearn: 0.0850403\ttotal: 1.03s\tremaining: 593ms\n",
      "635:\tlearn: 0.0847742\ttotal: 1.03s\tremaining: 591ms\n",
      "636:\tlearn: 0.0846341\ttotal: 1.03s\tremaining: 589ms\n",
      "637:\tlearn: 0.0843856\ttotal: 1.03s\tremaining: 587ms\n",
      "638:\tlearn: 0.0842723\ttotal: 1.04s\tremaining: 586ms\n",
      "639:\tlearn: 0.0841237\ttotal: 1.04s\tremaining: 584ms\n",
      "640:\tlearn: 0.0839828\ttotal: 1.04s\tremaining: 582ms\n",
      "641:\tlearn: 0.0838192\ttotal: 1.04s\tremaining: 580ms\n",
      "642:\tlearn: 0.0836100\ttotal: 1.04s\tremaining: 578ms\n",
      "643:\tlearn: 0.0834317\ttotal: 1.04s\tremaining: 577ms\n",
      "644:\tlearn: 0.0831893\ttotal: 1.04s\tremaining: 575ms\n",
      "645:\tlearn: 0.0830776\ttotal: 1.05s\tremaining: 573ms\n",
      "646:\tlearn: 0.0828846\ttotal: 1.05s\tremaining: 571ms\n",
      "647:\tlearn: 0.0827546\ttotal: 1.05s\tremaining: 570ms\n",
      "648:\tlearn: 0.0826243\ttotal: 1.05s\tremaining: 568ms\n",
      "649:\tlearn: 0.0824637\ttotal: 1.05s\tremaining: 566ms\n",
      "650:\tlearn: 0.0822967\ttotal: 1.05s\tremaining: 564ms\n",
      "651:\tlearn: 0.0820895\ttotal: 1.05s\tremaining: 562ms\n",
      "652:\tlearn: 0.0818350\ttotal: 1.05s\tremaining: 561ms\n",
      "653:\tlearn: 0.0816548\ttotal: 1.06s\tremaining: 559ms\n",
      "654:\tlearn: 0.0815503\ttotal: 1.06s\tremaining: 557ms\n",
      "655:\tlearn: 0.0813889\ttotal: 1.06s\tremaining: 555ms\n",
      "656:\tlearn: 0.0813040\ttotal: 1.06s\tremaining: 553ms\n",
      "657:\tlearn: 0.0811233\ttotal: 1.06s\tremaining: 552ms\n",
      "658:\tlearn: 0.0809826\ttotal: 1.06s\tremaining: 550ms\n",
      "659:\tlearn: 0.0808316\ttotal: 1.06s\tremaining: 548ms\n",
      "660:\tlearn: 0.0807536\ttotal: 1.06s\tremaining: 546ms\n",
      "661:\tlearn: 0.0806167\ttotal: 1.07s\tremaining: 545ms\n",
      "662:\tlearn: 0.0805741\ttotal: 1.07s\tremaining: 542ms\n",
      "663:\tlearn: 0.0803426\ttotal: 1.07s\tremaining: 541ms\n",
      "664:\tlearn: 0.0802119\ttotal: 1.07s\tremaining: 539ms\n",
      "665:\tlearn: 0.0800843\ttotal: 1.07s\tremaining: 537ms\n",
      "666:\tlearn: 0.0799206\ttotal: 1.07s\tremaining: 535ms\n",
      "667:\tlearn: 0.0797482\ttotal: 1.07s\tremaining: 534ms\n",
      "668:\tlearn: 0.0795876\ttotal: 1.07s\tremaining: 532ms\n",
      "669:\tlearn: 0.0794493\ttotal: 1.08s\tremaining: 530ms\n",
      "670:\tlearn: 0.0792547\ttotal: 1.08s\tremaining: 528ms\n",
      "671:\tlearn: 0.0790432\ttotal: 1.08s\tremaining: 527ms\n",
      "672:\tlearn: 0.0788754\ttotal: 1.08s\tremaining: 525ms\n",
      "673:\tlearn: 0.0787725\ttotal: 1.08s\tremaining: 523ms\n",
      "674:\tlearn: 0.0785985\ttotal: 1.08s\tremaining: 521ms\n",
      "675:\tlearn: 0.0783707\ttotal: 1.08s\tremaining: 520ms\n",
      "676:\tlearn: 0.0781849\ttotal: 1.08s\tremaining: 518ms\n",
      "677:\tlearn: 0.0779368\ttotal: 1.09s\tremaining: 516ms\n",
      "678:\tlearn: 0.0777987\ttotal: 1.09s\tremaining: 514ms\n",
      "679:\tlearn: 0.0775946\ttotal: 1.09s\tremaining: 513ms\n",
      "680:\tlearn: 0.0774424\ttotal: 1.09s\tremaining: 511ms\n",
      "681:\tlearn: 0.0773211\ttotal: 1.09s\tremaining: 509ms\n",
      "682:\tlearn: 0.0771910\ttotal: 1.09s\tremaining: 507ms\n",
      "683:\tlearn: 0.0770436\ttotal: 1.09s\tremaining: 506ms\n",
      "684:\tlearn: 0.0767846\ttotal: 1.09s\tremaining: 504ms\n",
      "685:\tlearn: 0.0766827\ttotal: 1.1s\tremaining: 502ms\n",
      "686:\tlearn: 0.0764373\ttotal: 1.1s\tremaining: 500ms\n",
      "687:\tlearn: 0.0762083\ttotal: 1.1s\tremaining: 499ms\n",
      "688:\tlearn: 0.0760391\ttotal: 1.1s\tremaining: 497ms\n",
      "689:\tlearn: 0.0758401\ttotal: 1.1s\tremaining: 495ms\n",
      "690:\tlearn: 0.0757902\ttotal: 1.1s\tremaining: 493ms\n",
      "691:\tlearn: 0.0757487\ttotal: 1.1s\tremaining: 492ms\n",
      "692:\tlearn: 0.0755572\ttotal: 1.11s\tremaining: 490ms\n",
      "693:\tlearn: 0.0754631\ttotal: 1.11s\tremaining: 489ms\n",
      "694:\tlearn: 0.0752586\ttotal: 1.11s\tremaining: 487ms\n",
      "695:\tlearn: 0.0750856\ttotal: 1.11s\tremaining: 485ms\n",
      "696:\tlearn: 0.0749246\ttotal: 1.11s\tremaining: 483ms\n",
      "697:\tlearn: 0.0747579\ttotal: 1.11s\tremaining: 482ms\n",
      "698:\tlearn: 0.0747254\ttotal: 1.11s\tremaining: 480ms\n",
      "699:\tlearn: 0.0746174\ttotal: 1.11s\tremaining: 478ms\n",
      "700:\tlearn: 0.0745204\ttotal: 1.12s\tremaining: 476ms\n",
      "701:\tlearn: 0.0744116\ttotal: 1.12s\tremaining: 475ms\n",
      "702:\tlearn: 0.0742548\ttotal: 1.12s\tremaining: 473ms\n",
      "703:\tlearn: 0.0741735\ttotal: 1.12s\tremaining: 471ms\n",
      "704:\tlearn: 0.0739916\ttotal: 1.12s\tremaining: 470ms\n",
      "705:\tlearn: 0.0738394\ttotal: 1.12s\tremaining: 468ms\n",
      "706:\tlearn: 0.0737395\ttotal: 1.13s\tremaining: 466ms\n",
      "707:\tlearn: 0.0736021\ttotal: 1.13s\tremaining: 465ms\n",
      "708:\tlearn: 0.0734710\ttotal: 1.13s\tremaining: 463ms\n",
      "709:\tlearn: 0.0733437\ttotal: 1.13s\tremaining: 461ms\n",
      "710:\tlearn: 0.0731920\ttotal: 1.13s\tremaining: 459ms\n"
     ]
    },
    {
     "name": "stdout",
     "output_type": "stream",
     "text": [
      "711:\tlearn: 0.0730114\ttotal: 1.13s\tremaining: 458ms\n",
      "712:\tlearn: 0.0728539\ttotal: 1.13s\tremaining: 456ms\n",
      "713:\tlearn: 0.0726811\ttotal: 1.13s\tremaining: 454ms\n",
      "714:\tlearn: 0.0725236\ttotal: 1.14s\tremaining: 453ms\n",
      "715:\tlearn: 0.0723289\ttotal: 1.14s\tremaining: 451ms\n",
      "716:\tlearn: 0.0722576\ttotal: 1.14s\tremaining: 450ms\n",
      "717:\tlearn: 0.0721354\ttotal: 1.14s\tremaining: 448ms\n",
      "718:\tlearn: 0.0719899\ttotal: 1.14s\tremaining: 446ms\n",
      "719:\tlearn: 0.0717860\ttotal: 1.14s\tremaining: 445ms\n",
      "720:\tlearn: 0.0716001\ttotal: 1.14s\tremaining: 443ms\n",
      "721:\tlearn: 0.0713763\ttotal: 1.15s\tremaining: 441ms\n",
      "722:\tlearn: 0.0712718\ttotal: 1.15s\tremaining: 440ms\n",
      "723:\tlearn: 0.0710954\ttotal: 1.15s\tremaining: 438ms\n",
      "724:\tlearn: 0.0709515\ttotal: 1.15s\tremaining: 436ms\n",
      "725:\tlearn: 0.0707894\ttotal: 1.15s\tremaining: 435ms\n",
      "726:\tlearn: 0.0706915\ttotal: 1.15s\tremaining: 433ms\n",
      "727:\tlearn: 0.0705209\ttotal: 1.15s\tremaining: 431ms\n",
      "728:\tlearn: 0.0703318\ttotal: 1.16s\tremaining: 429ms\n",
      "729:\tlearn: 0.0701306\ttotal: 1.16s\tremaining: 428ms\n",
      "730:\tlearn: 0.0700843\ttotal: 1.16s\tremaining: 426ms\n",
      "731:\tlearn: 0.0699311\ttotal: 1.16s\tremaining: 424ms\n",
      "732:\tlearn: 0.0698034\ttotal: 1.16s\tremaining: 423ms\n",
      "733:\tlearn: 0.0696163\ttotal: 1.16s\tremaining: 421ms\n",
      "734:\tlearn: 0.0695387\ttotal: 1.16s\tremaining: 420ms\n",
      "735:\tlearn: 0.0693973\ttotal: 1.17s\tremaining: 418ms\n",
      "736:\tlearn: 0.0693208\ttotal: 1.17s\tremaining: 416ms\n",
      "737:\tlearn: 0.0692116\ttotal: 1.17s\tremaining: 415ms\n",
      "738:\tlearn: 0.0690790\ttotal: 1.17s\tremaining: 413ms\n",
      "739:\tlearn: 0.0689704\ttotal: 1.17s\tremaining: 411ms\n",
      "740:\tlearn: 0.0688658\ttotal: 1.17s\tremaining: 410ms\n",
      "741:\tlearn: 0.0686937\ttotal: 1.17s\tremaining: 408ms\n",
      "742:\tlearn: 0.0685903\ttotal: 1.17s\tremaining: 406ms\n",
      "743:\tlearn: 0.0684488\ttotal: 1.18s\tremaining: 405ms\n",
      "744:\tlearn: 0.0683962\ttotal: 1.18s\tremaining: 403ms\n",
      "745:\tlearn: 0.0682601\ttotal: 1.18s\tremaining: 401ms\n",
      "746:\tlearn: 0.0681316\ttotal: 1.18s\tremaining: 400ms\n",
      "747:\tlearn: 0.0679944\ttotal: 1.18s\tremaining: 398ms\n",
      "748:\tlearn: 0.0679060\ttotal: 1.18s\tremaining: 397ms\n",
      "749:\tlearn: 0.0677299\ttotal: 1.18s\tremaining: 395ms\n",
      "750:\tlearn: 0.0675947\ttotal: 1.19s\tremaining: 393ms\n",
      "751:\tlearn: 0.0674590\ttotal: 1.19s\tremaining: 392ms\n",
      "752:\tlearn: 0.0672915\ttotal: 1.19s\tremaining: 390ms\n",
      "753:\tlearn: 0.0671292\ttotal: 1.19s\tremaining: 388ms\n",
      "754:\tlearn: 0.0670482\ttotal: 1.19s\tremaining: 386ms\n",
      "755:\tlearn: 0.0668376\ttotal: 1.19s\tremaining: 385ms\n",
      "756:\tlearn: 0.0667586\ttotal: 1.19s\tremaining: 383ms\n",
      "757:\tlearn: 0.0666175\ttotal: 1.2s\tremaining: 382ms\n",
      "758:\tlearn: 0.0665313\ttotal: 1.2s\tremaining: 380ms\n",
      "759:\tlearn: 0.0664199\ttotal: 1.2s\tremaining: 378ms\n",
      "760:\tlearn: 0.0662887\ttotal: 1.2s\tremaining: 377ms\n",
      "761:\tlearn: 0.0662295\ttotal: 1.2s\tremaining: 375ms\n",
      "762:\tlearn: 0.0661320\ttotal: 1.2s\tremaining: 373ms\n",
      "763:\tlearn: 0.0660439\ttotal: 1.2s\tremaining: 372ms\n",
      "764:\tlearn: 0.0658832\ttotal: 1.2s\tremaining: 370ms\n",
      "765:\tlearn: 0.0657241\ttotal: 1.21s\tremaining: 368ms\n",
      "766:\tlearn: 0.0656134\ttotal: 1.21s\tremaining: 367ms\n",
      "767:\tlearn: 0.0654587\ttotal: 1.21s\tremaining: 365ms\n",
      "768:\tlearn: 0.0653077\ttotal: 1.21s\tremaining: 364ms\n",
      "769:\tlearn: 0.0651200\ttotal: 1.21s\tremaining: 362ms\n",
      "770:\tlearn: 0.0649397\ttotal: 1.21s\tremaining: 360ms\n",
      "771:\tlearn: 0.0648124\ttotal: 1.21s\tremaining: 359ms\n",
      "772:\tlearn: 0.0646766\ttotal: 1.22s\tremaining: 357ms\n",
      "773:\tlearn: 0.0645125\ttotal: 1.22s\tremaining: 356ms\n",
      "774:\tlearn: 0.0643360\ttotal: 1.22s\tremaining: 354ms\n",
      "775:\tlearn: 0.0642852\ttotal: 1.22s\tremaining: 352ms\n",
      "776:\tlearn: 0.0641634\ttotal: 1.22s\tremaining: 351ms\n",
      "777:\tlearn: 0.0640155\ttotal: 1.22s\tremaining: 349ms\n",
      "778:\tlearn: 0.0638528\ttotal: 1.23s\tremaining: 348ms\n",
      "779:\tlearn: 0.0637444\ttotal: 1.23s\tremaining: 346ms\n",
      "780:\tlearn: 0.0636363\ttotal: 1.23s\tremaining: 344ms\n",
      "781:\tlearn: 0.0635613\ttotal: 1.23s\tremaining: 343ms\n",
      "782:\tlearn: 0.0634495\ttotal: 1.23s\tremaining: 341ms\n",
      "783:\tlearn: 0.0633349\ttotal: 1.23s\tremaining: 339ms\n",
      "784:\tlearn: 0.0632729\ttotal: 1.23s\tremaining: 338ms\n",
      "785:\tlearn: 0.0631369\ttotal: 1.24s\tremaining: 336ms\n",
      "786:\tlearn: 0.0630067\ttotal: 1.24s\tremaining: 335ms\n",
      "787:\tlearn: 0.0628391\ttotal: 1.24s\tremaining: 333ms\n",
      "788:\tlearn: 0.0626777\ttotal: 1.24s\tremaining: 331ms\n",
      "789:\tlearn: 0.0624961\ttotal: 1.24s\tremaining: 330ms\n",
      "790:\tlearn: 0.0623449\ttotal: 1.24s\tremaining: 328ms\n",
      "791:\tlearn: 0.0621680\ttotal: 1.24s\tremaining: 326ms\n",
      "792:\tlearn: 0.0620391\ttotal: 1.25s\tremaining: 325ms\n",
      "793:\tlearn: 0.0618522\ttotal: 1.25s\tremaining: 323ms\n",
      "794:\tlearn: 0.0617689\ttotal: 1.25s\tremaining: 322ms\n",
      "795:\tlearn: 0.0616459\ttotal: 1.25s\tremaining: 320ms\n",
      "796:\tlearn: 0.0615529\ttotal: 1.25s\tremaining: 318ms\n",
      "797:\tlearn: 0.0614753\ttotal: 1.25s\tremaining: 317ms\n",
      "798:\tlearn: 0.0613687\ttotal: 1.25s\tremaining: 315ms\n",
      "799:\tlearn: 0.0612268\ttotal: 1.25s\tremaining: 314ms\n",
      "800:\tlearn: 0.0611008\ttotal: 1.25s\tremaining: 312ms\n",
      "801:\tlearn: 0.0609259\ttotal: 1.26s\tremaining: 310ms\n",
      "802:\tlearn: 0.0608457\ttotal: 1.26s\tremaining: 309ms\n",
      "803:\tlearn: 0.0607512\ttotal: 1.26s\tremaining: 307ms\n",
      "804:\tlearn: 0.0606937\ttotal: 1.26s\tremaining: 306ms\n",
      "805:\tlearn: 0.0606109\ttotal: 1.26s\tremaining: 304ms\n",
      "806:\tlearn: 0.0605391\ttotal: 1.26s\tremaining: 302ms\n",
      "807:\tlearn: 0.0603632\ttotal: 1.26s\tremaining: 301ms\n",
      "808:\tlearn: 0.0602530\ttotal: 1.27s\tremaining: 299ms\n",
      "809:\tlearn: 0.0601244\ttotal: 1.27s\tremaining: 297ms\n",
      "810:\tlearn: 0.0599930\ttotal: 1.27s\tremaining: 296ms\n",
      "811:\tlearn: 0.0598095\ttotal: 1.27s\tremaining: 294ms\n",
      "812:\tlearn: 0.0596635\ttotal: 1.27s\tremaining: 293ms\n",
      "813:\tlearn: 0.0595309\ttotal: 1.27s\tremaining: 291ms\n",
      "814:\tlearn: 0.0593907\ttotal: 1.27s\tremaining: 290ms\n",
      "815:\tlearn: 0.0592301\ttotal: 1.28s\tremaining: 288ms\n",
      "816:\tlearn: 0.0591300\ttotal: 1.28s\tremaining: 286ms\n",
      "817:\tlearn: 0.0590290\ttotal: 1.28s\tremaining: 285ms\n",
      "818:\tlearn: 0.0588956\ttotal: 1.28s\tremaining: 283ms\n",
      "819:\tlearn: 0.0587390\ttotal: 1.28s\tremaining: 282ms\n",
      "820:\tlearn: 0.0585396\ttotal: 1.28s\tremaining: 280ms\n",
      "821:\tlearn: 0.0584351\ttotal: 1.29s\tremaining: 279ms\n",
      "822:\tlearn: 0.0583238\ttotal: 1.29s\tremaining: 277ms\n",
      "823:\tlearn: 0.0582784\ttotal: 1.29s\tremaining: 275ms\n",
      "824:\tlearn: 0.0582211\ttotal: 1.29s\tremaining: 274ms\n",
      "825:\tlearn: 0.0580709\ttotal: 1.29s\tremaining: 272ms\n",
      "826:\tlearn: 0.0579213\ttotal: 1.29s\tremaining: 271ms\n",
      "827:\tlearn: 0.0577880\ttotal: 1.29s\tremaining: 269ms\n",
      "828:\tlearn: 0.0576860\ttotal: 1.3s\tremaining: 268ms\n",
      "829:\tlearn: 0.0575665\ttotal: 1.3s\tremaining: 266ms\n",
      "830:\tlearn: 0.0574725\ttotal: 1.3s\tremaining: 265ms\n",
      "831:\tlearn: 0.0573956\ttotal: 1.3s\tremaining: 263ms\n",
      "832:\tlearn: 0.0573299\ttotal: 1.3s\tremaining: 262ms\n",
      "833:\tlearn: 0.0572175\ttotal: 1.3s\tremaining: 260ms\n",
      "834:\tlearn: 0.0571474\ttotal: 1.31s\tremaining: 258ms\n",
      "835:\tlearn: 0.0570558\ttotal: 1.31s\tremaining: 257ms\n",
      "836:\tlearn: 0.0569049\ttotal: 1.31s\tremaining: 255ms\n",
      "837:\tlearn: 0.0568485\ttotal: 1.31s\tremaining: 254ms\n",
      "838:\tlearn: 0.0567419\ttotal: 1.31s\tremaining: 252ms\n",
      "839:\tlearn: 0.0566842\ttotal: 1.31s\tremaining: 251ms\n",
      "840:\tlearn: 0.0565346\ttotal: 1.32s\tremaining: 249ms\n",
      "841:\tlearn: 0.0564483\ttotal: 1.32s\tremaining: 248ms\n",
      "842:\tlearn: 0.0562594\ttotal: 1.32s\tremaining: 246ms\n",
      "843:\tlearn: 0.0561573\ttotal: 1.32s\tremaining: 244ms\n",
      "844:\tlearn: 0.0560715\ttotal: 1.32s\tremaining: 243ms\n",
      "845:\tlearn: 0.0559256\ttotal: 1.32s\tremaining: 241ms\n",
      "846:\tlearn: 0.0558229\ttotal: 1.33s\tremaining: 240ms\n",
      "847:\tlearn: 0.0557738\ttotal: 1.33s\tremaining: 238ms\n",
      "848:\tlearn: 0.0556898\ttotal: 1.33s\tremaining: 237ms\n",
      "849:\tlearn: 0.0555793\ttotal: 1.33s\tremaining: 235ms\n",
      "850:\tlearn: 0.0554346\ttotal: 1.33s\tremaining: 234ms\n",
      "851:\tlearn: 0.0553253\ttotal: 1.34s\tremaining: 232ms\n",
      "852:\tlearn: 0.0552435\ttotal: 1.34s\tremaining: 231ms\n",
      "853:\tlearn: 0.0551329\ttotal: 1.34s\tremaining: 229ms\n",
      "854:\tlearn: 0.0550645\ttotal: 1.34s\tremaining: 227ms\n",
      "855:\tlearn: 0.0549483\ttotal: 1.34s\tremaining: 226ms\n",
      "856:\tlearn: 0.0548408\ttotal: 1.34s\tremaining: 224ms\n",
      "857:\tlearn: 0.0547147\ttotal: 1.36s\tremaining: 226ms\n",
      "858:\tlearn: 0.0545901\ttotal: 1.36s\tremaining: 224ms\n",
      "859:\tlearn: 0.0545114\ttotal: 1.37s\tremaining: 223ms\n",
      "860:\tlearn: 0.0544507\ttotal: 1.37s\tremaining: 221ms\n",
      "861:\tlearn: 0.0543509\ttotal: 1.37s\tremaining: 220ms\n",
      "862:\tlearn: 0.0542721\ttotal: 1.37s\tremaining: 218ms\n",
      "863:\tlearn: 0.0541831\ttotal: 1.38s\tremaining: 217ms\n",
      "864:\tlearn: 0.0541003\ttotal: 1.38s\tremaining: 215ms\n",
      "865:\tlearn: 0.0540420\ttotal: 1.38s\tremaining: 214ms\n",
      "866:\tlearn: 0.0539706\ttotal: 1.38s\tremaining: 212ms\n",
      "867:\tlearn: 0.0538544\ttotal: 1.38s\tremaining: 210ms\n",
      "868:\tlearn: 0.0537870\ttotal: 1.38s\tremaining: 209ms\n",
      "869:\tlearn: 0.0536477\ttotal: 1.39s\tremaining: 207ms\n",
      "870:\tlearn: 0.0535911\ttotal: 1.39s\tremaining: 206ms\n",
      "871:\tlearn: 0.0535212\ttotal: 1.39s\tremaining: 204ms\n",
      "872:\tlearn: 0.0534072\ttotal: 1.39s\tremaining: 202ms\n",
      "873:\tlearn: 0.0532785\ttotal: 1.39s\tremaining: 201ms\n",
      "874:\tlearn: 0.0531362\ttotal: 1.39s\tremaining: 199ms\n",
      "875:\tlearn: 0.0530737\ttotal: 1.4s\tremaining: 198ms\n",
      "876:\tlearn: 0.0529801\ttotal: 1.4s\tremaining: 196ms\n",
      "877:\tlearn: 0.0528284\ttotal: 1.4s\tremaining: 195ms\n",
      "878:\tlearn: 0.0527885\ttotal: 1.4s\tremaining: 193ms\n",
      "879:\tlearn: 0.0526352\ttotal: 1.4s\tremaining: 191ms\n",
      "880:\tlearn: 0.0525695\ttotal: 1.4s\tremaining: 190ms\n",
      "881:\tlearn: 0.0525287\ttotal: 1.41s\tremaining: 188ms\n",
      "882:\tlearn: 0.0524623\ttotal: 1.41s\tremaining: 187ms\n",
      "883:\tlearn: 0.0523157\ttotal: 1.41s\tremaining: 185ms\n",
      "884:\tlearn: 0.0522149\ttotal: 1.41s\tremaining: 183ms\n",
      "885:\tlearn: 0.0520702\ttotal: 1.41s\tremaining: 182ms\n",
      "886:\tlearn: 0.0519831\ttotal: 1.41s\tremaining: 180ms\n",
      "887:\tlearn: 0.0518859\ttotal: 1.42s\tremaining: 179ms\n",
      "888:\tlearn: 0.0518315\ttotal: 1.42s\tremaining: 177ms\n",
      "889:\tlearn: 0.0517169\ttotal: 1.42s\tremaining: 175ms\n",
      "890:\tlearn: 0.0515953\ttotal: 1.42s\tremaining: 174ms\n",
      "891:\tlearn: 0.0515202\ttotal: 1.42s\tremaining: 172ms\n",
      "892:\tlearn: 0.0514006\ttotal: 1.42s\tremaining: 170ms\n",
      "893:\tlearn: 0.0513300\ttotal: 1.42s\tremaining: 169ms\n",
      "894:\tlearn: 0.0512128\ttotal: 1.43s\tremaining: 167ms\n",
      "895:\tlearn: 0.0511264\ttotal: 1.43s\tremaining: 166ms\n",
      "896:\tlearn: 0.0510836\ttotal: 1.43s\tremaining: 164ms\n",
      "897:\tlearn: 0.0510121\ttotal: 1.43s\tremaining: 162ms\n",
      "898:\tlearn: 0.0509276\ttotal: 1.43s\tremaining: 161ms\n",
      "899:\tlearn: 0.0508789\ttotal: 1.43s\tremaining: 159ms\n",
      "900:\tlearn: 0.0508231\ttotal: 1.43s\tremaining: 157ms\n",
      "901:\tlearn: 0.0507045\ttotal: 1.43s\tremaining: 156ms\n",
      "902:\tlearn: 0.0506399\ttotal: 1.44s\tremaining: 154ms\n",
      "903:\tlearn: 0.0505850\ttotal: 1.44s\tremaining: 153ms\n",
      "904:\tlearn: 0.0505570\ttotal: 1.44s\tremaining: 151ms\n",
      "905:\tlearn: 0.0504195\ttotal: 1.44s\tremaining: 149ms\n",
      "906:\tlearn: 0.0503474\ttotal: 1.44s\tremaining: 148ms\n",
      "907:\tlearn: 0.0502879\ttotal: 1.44s\tremaining: 146ms\n",
      "908:\tlearn: 0.0502258\ttotal: 1.45s\tremaining: 145ms\n",
      "909:\tlearn: 0.0500844\ttotal: 1.45s\tremaining: 143ms\n",
      "910:\tlearn: 0.0499683\ttotal: 1.45s\tremaining: 141ms\n",
      "911:\tlearn: 0.0499268\ttotal: 1.45s\tremaining: 140ms\n",
      "912:\tlearn: 0.0498332\ttotal: 1.45s\tremaining: 138ms\n",
      "913:\tlearn: 0.0497072\ttotal: 1.45s\tremaining: 137ms\n",
      "914:\tlearn: 0.0495571\ttotal: 1.45s\tremaining: 135ms\n",
      "915:\tlearn: 0.0494681\ttotal: 1.46s\tremaining: 133ms\n",
      "916:\tlearn: 0.0494148\ttotal: 1.46s\tremaining: 132ms\n",
      "917:\tlearn: 0.0492891\ttotal: 1.46s\tremaining: 130ms\n",
      "918:\tlearn: 0.0492141\ttotal: 1.46s\tremaining: 129ms\n",
      "919:\tlearn: 0.0491140\ttotal: 1.46s\tremaining: 127ms\n",
      "920:\tlearn: 0.0490021\ttotal: 1.46s\tremaining: 126ms\n",
      "921:\tlearn: 0.0489076\ttotal: 1.47s\tremaining: 124ms\n",
      "922:\tlearn: 0.0488202\ttotal: 1.47s\tremaining: 122ms\n",
      "923:\tlearn: 0.0486905\ttotal: 1.47s\tremaining: 121ms\n",
      "924:\tlearn: 0.0485852\ttotal: 1.47s\tremaining: 119ms\n",
      "925:\tlearn: 0.0484908\ttotal: 1.47s\tremaining: 118ms\n",
      "926:\tlearn: 0.0483960\ttotal: 1.47s\tremaining: 116ms\n",
      "927:\tlearn: 0.0483554\ttotal: 1.48s\tremaining: 114ms\n",
      "928:\tlearn: 0.0481794\ttotal: 1.48s\tremaining: 113ms\n",
      "929:\tlearn: 0.0481136\ttotal: 1.48s\tremaining: 111ms\n",
      "930:\tlearn: 0.0479821\ttotal: 1.48s\tremaining: 110ms\n",
      "931:\tlearn: 0.0478637\ttotal: 1.48s\tremaining: 108ms\n",
      "932:\tlearn: 0.0477716\ttotal: 1.48s\tremaining: 106ms\n",
      "933:\tlearn: 0.0476455\ttotal: 1.48s\tremaining: 105ms\n",
      "934:\tlearn: 0.0475131\ttotal: 1.48s\tremaining: 103ms\n",
      "935:\tlearn: 0.0474633\ttotal: 1.49s\tremaining: 102ms\n",
      "936:\tlearn: 0.0473820\ttotal: 1.49s\tremaining: 100ms\n",
      "937:\tlearn: 0.0473277\ttotal: 1.49s\tremaining: 98.5ms\n",
      "938:\tlearn: 0.0472882\ttotal: 1.49s\tremaining: 96.9ms\n",
      "939:\tlearn: 0.0471494\ttotal: 1.49s\tremaining: 95.3ms\n",
      "940:\tlearn: 0.0471080\ttotal: 1.49s\tremaining: 93.7ms\n",
      "941:\tlearn: 0.0469777\ttotal: 1.5s\tremaining: 92.1ms\n",
      "942:\tlearn: 0.0468541\ttotal: 1.5s\tremaining: 90.5ms\n",
      "943:\tlearn: 0.0467999\ttotal: 1.5s\tremaining: 88.9ms\n",
      "944:\tlearn: 0.0467222\ttotal: 1.5s\tremaining: 87.3ms\n",
      "945:\tlearn: 0.0466657\ttotal: 1.5s\tremaining: 85.7ms\n",
      "946:\tlearn: 0.0465691\ttotal: 1.5s\tremaining: 84.1ms\n",
      "947:\tlearn: 0.0464536\ttotal: 1.5s\tremaining: 82.5ms\n",
      "948:\tlearn: 0.0464023\ttotal: 1.51s\tremaining: 81ms\n",
      "949:\tlearn: 0.0463234\ttotal: 1.51s\tremaining: 79.4ms\n",
      "950:\tlearn: 0.0462335\ttotal: 1.51s\tremaining: 77.8ms\n",
      "951:\tlearn: 0.0461229\ttotal: 1.51s\tremaining: 76.2ms\n",
      "952:\tlearn: 0.0460266\ttotal: 1.51s\tremaining: 74.6ms\n",
      "953:\tlearn: 0.0459339\ttotal: 1.51s\tremaining: 73ms\n",
      "954:\tlearn: 0.0458813\ttotal: 1.51s\tremaining: 71.4ms\n",
      "955:\tlearn: 0.0458008\ttotal: 1.52s\tremaining: 69.8ms\n",
      "956:\tlearn: 0.0456998\ttotal: 1.52s\tremaining: 68.2ms\n",
      "957:\tlearn: 0.0456232\ttotal: 1.52s\tremaining: 66.6ms\n",
      "958:\tlearn: 0.0455254\ttotal: 1.52s\tremaining: 65.1ms\n",
      "959:\tlearn: 0.0454227\ttotal: 1.52s\tremaining: 63.5ms\n",
      "960:\tlearn: 0.0453563\ttotal: 1.52s\tremaining: 61.9ms\n",
      "961:\tlearn: 0.0452628\ttotal: 1.52s\tremaining: 60.3ms\n",
      "962:\tlearn: 0.0451657\ttotal: 1.53s\tremaining: 58.7ms\n",
      "963:\tlearn: 0.0451156\ttotal: 1.53s\tremaining: 57.1ms\n",
      "964:\tlearn: 0.0450629\ttotal: 1.53s\tremaining: 55.5ms\n",
      "965:\tlearn: 0.0449737\ttotal: 1.53s\tremaining: 53.9ms\n"
     ]
    },
    {
     "name": "stdout",
     "output_type": "stream",
     "text": [
      "966:\tlearn: 0.0448608\ttotal: 1.53s\tremaining: 52.3ms\n",
      "967:\tlearn: 0.0447823\ttotal: 1.53s\tremaining: 50.7ms\n",
      "968:\tlearn: 0.0447074\ttotal: 1.54s\tremaining: 49.2ms\n",
      "969:\tlearn: 0.0446677\ttotal: 1.54s\tremaining: 47.6ms\n",
      "970:\tlearn: 0.0445414\ttotal: 1.54s\tremaining: 46ms\n",
      "971:\tlearn: 0.0444603\ttotal: 1.54s\tremaining: 44.4ms\n",
      "972:\tlearn: 0.0443861\ttotal: 1.54s\tremaining: 42.8ms\n",
      "973:\tlearn: 0.0443084\ttotal: 1.54s\tremaining: 41.2ms\n",
      "974:\tlearn: 0.0442334\ttotal: 1.55s\tremaining: 39.7ms\n",
      "975:\tlearn: 0.0441413\ttotal: 1.55s\tremaining: 38.1ms\n",
      "976:\tlearn: 0.0440438\ttotal: 1.55s\tremaining: 36.5ms\n",
      "977:\tlearn: 0.0439623\ttotal: 1.55s\tremaining: 34.9ms\n",
      "978:\tlearn: 0.0438893\ttotal: 1.55s\tremaining: 33.3ms\n",
      "979:\tlearn: 0.0438402\ttotal: 1.55s\tremaining: 31.7ms\n",
      "980:\tlearn: 0.0437564\ttotal: 1.56s\tremaining: 30.1ms\n",
      "981:\tlearn: 0.0436936\ttotal: 1.56s\tremaining: 28.5ms\n",
      "982:\tlearn: 0.0436251\ttotal: 1.56s\tremaining: 27ms\n",
      "983:\tlearn: 0.0435541\ttotal: 1.56s\tremaining: 25.4ms\n",
      "984:\tlearn: 0.0434713\ttotal: 1.56s\tremaining: 23.8ms\n",
      "985:\tlearn: 0.0434102\ttotal: 1.56s\tremaining: 22.2ms\n",
      "986:\tlearn: 0.0432865\ttotal: 1.56s\tremaining: 20.6ms\n",
      "987:\tlearn: 0.0431741\ttotal: 1.56s\tremaining: 19ms\n",
      "988:\tlearn: 0.0430995\ttotal: 1.57s\tremaining: 17.4ms\n",
      "989:\tlearn: 0.0430328\ttotal: 1.57s\tremaining: 15.8ms\n",
      "990:\tlearn: 0.0429709\ttotal: 1.57s\tremaining: 14.3ms\n",
      "991:\tlearn: 0.0428688\ttotal: 1.57s\tremaining: 12.7ms\n",
      "992:\tlearn: 0.0428051\ttotal: 1.57s\tremaining: 11.1ms\n",
      "993:\tlearn: 0.0427325\ttotal: 1.57s\tremaining: 9.5ms\n",
      "994:\tlearn: 0.0426616\ttotal: 1.57s\tremaining: 7.92ms\n",
      "995:\tlearn: 0.0426031\ttotal: 1.58s\tremaining: 6.33ms\n",
      "996:\tlearn: 0.0425592\ttotal: 1.58s\tremaining: 4.75ms\n",
      "997:\tlearn: 0.0424925\ttotal: 1.58s\tremaining: 3.17ms\n",
      "998:\tlearn: 0.0424312\ttotal: 1.58s\tremaining: 1.58ms\n",
      "999:\tlearn: 0.0423111\ttotal: 1.58s\tremaining: 0us\n"
     ]
    }
   ],
   "source": [
    "cat_clf = CatBoostClassifier()\n",
    "cat_clf.fit(X_train,y_train)\n",
    "cat_pred = cat_clf.predict(X_test)\n",
    "cat_acc = accuracy_score(y_test, cat_pred)\n",
    "accuracy_list.append(100*cat_acc)"
   ]
  },
  {
   "cell_type": "code",
   "execution_count": 46,
   "id": "36d085ed",
   "metadata": {},
   "outputs": [
    {
     "name": "stdout",
     "output_type": "stream",
     "text": [
      "\u001b[32mAccuracy of CatBoostClassifier is :  96.31%\n"
     ]
    }
   ],
   "source": [
    "print(Fore.GREEN + \"Accuracy of CatBoostClassifier is : \",\"{:.2f}%\".format(100* cat_acc))"
   ]
  },
  {
   "cell_type": "code",
   "execution_count": 47,
   "id": "febea219",
   "metadata": {},
   "outputs": [
    {
     "data": {
      "text/plain": [
       "<Figure size 640x480 with 0 Axes>"
      ]
     },
     "metadata": {},
     "output_type": "display_data"
    },
    {
     "data": {
      "image/png": "[encoded data removed]",
      "text/plain": [
       "<Figure size 300x300 with 1 Axes>"
      ]
     },
     "metadata": {},
     "output_type": "display_data"
    }
   ],
   "source": [
    "m = confusion_matrix(y_test, cat_pred)\n",
    "plt.figure()\n",
    "plot_confusion_matrix(cm, figsize=(3,3), hide_ticks=True, cmap=plt.cm.gray_r)\n",
    "plt.title(\"XGBRFClassifier Model - Confusion Matrix\")\n",
    "plt.xticks(range(2), [\"Not Taken\",\"Taken\"], fontsize=10)\n",
    "plt.yticks(range(2), [\"Not Taken\",\"Taken\"], fontsize=10)\n",
    "plt.show()"
   ]
  },
  {
   "cell_type": "code",
   "execution_count": 48,
   "id": "313bcc68",
   "metadata": {},
   "outputs": [
    {
     "name": "stdout",
     "output_type": "stream",
     "text": [
      "              precision    recall  f1-score   support\n",
      "\n",
      "           0       0.95      1.00      0.97       147\n",
      "           1       1.00      0.89      0.94        70\n",
      "\n",
      "    accuracy                           0.96       217\n",
      "   macro avg       0.97      0.94      0.96       217\n",
      "weighted avg       0.97      0.96      0.96       217\n",
      "\n"
     ]
    }
   ],
   "source": [
    "print(classification_report(y_test,cat_pred))"
   ]
  },
  {
   "cell_type": "code",
   "execution_count": 49,
   "id": "0ef28e2d",
   "metadata": {},
   "outputs": [],
   "source": [
    "model_list = ['Random Forest','Logistic regression','SVM','Decision Tree','KNN Classifier','Gradient Boosting',\n",
    "              'xgbrf Clasifier','Cat Boost Classifier']"
   ]
  },
  {
   "cell_type": "code",
   "execution_count": 50,
   "id": "534cf09a",
   "metadata": {},
   "outputs": [
    {
     "data": {
      "text/plain": [
       "[95.39170506912443,\n",
       " 80.64516129032258,\n",
       " 89.86175115207374,\n",
       " 72.81105990783409,\n",
       " 88.47926267281106,\n",
       " 97.6958525345622,\n",
       " 94.00921658986175,\n",
       " 96.31336405529954]"
      ]
     },
     "execution_count": 50,
     "metadata": {},
     "output_type": "execute_result"
    }
   ],
   "source": [
    "accuracy_list"
   ]
  },
  {
   "cell_type": "code",
   "execution_count": 51,
   "id": "37d592f8",
   "metadata": {
    "scrolled": false
   },
   "outputs": [
    {
     "data": {
      "image/png": "[encoded data removed]",
      "text/plain": [
       "<Figure size 2500x1000 with 1 Axes>"
      ]
     },
     "metadata": {},
     "output_type": "display_data"
    }
   ],
   "source": [
    "plt.rcParams['figure.figsize']=25,10\n",
    "sns.set_style('darkgrid')\n",
    "\n",
    "# Sort the data in descending order\n",
    "sorted_indices = sorted(range(len(accuracy_list)), key=lambda k: accuracy_list[k], reverse=True)\n",
    "sorted_model_list = [model_list[i] for i in sorted_indices]\n",
    "sorted_accuracy_list = [accuracy_list[i] for i in sorted_indices]\n",
    "\n",
    "ax = sns.barplot(x=sorted_model_list, y=sorted_accuracy_list, palette = \"husl\", saturation=2.0)\n",
    "plt.xlabel('\\nClassifier Models', fontsize = 30 )\n",
    "plt.ylabel('% of Accuracy', fontsize = 30)\n",
    "plt.title('Accuracy of different Classifier Models\\n\\n', fontsize = 35)\n",
    "plt.xticks(fontsize = 18, horizontalalignment = 'center', rotation =0)\n",
    "plt.yticks(fontsize = 15)\n",
    "\n",
    "for i in ax.patches:\n",
    "    width, height = i.get_width(), i.get_height()\n",
    "    x, y = i.get_xy() \n",
    "    ax.annotate(f'{round(height,2)}%', (x + width/2, y + height*1.02), ha='center', fontsize = 'x-large')\n",
    "plt.show()"
   ]
  },
  {
   "cell_type": "markdown",
   "id": "6bc89ff7",
   "metadata": {},
   "source": [
    "## Model Accuracy\n",
    "\n",
    "* Gradient Boosting - 97.70%\n",
    "* Cat Boost- 96.31%\n",
    "* Random Forest - 95.39%\n",
    "* xgbrf Classifier - 94.01%\n",
    "* SVM - 89.86%\n",
    "* KNN Classifier - 88.48%\n",
    "* Logistic regression - 80.65%\n",
    "* Decision Tree - 72.81%"
   ]
  },
  {
   "cell_type": "code",
   "execution_count": null,
   "id": "7960efdd",
   "metadata": {},
   "outputs": [],
   "source": []
  }
 ],
 "metadata": {
  "kernelspec": {
   "display_name": "Python 3 (ipykernel)",
   "language": "python",
   "name": "python3"
  },
  "language_info": {
   "codemirror_mode": {
    "name": "ipython",
    "version": 3
   },
   "file_extension": ".py",
   "mimetype": "text/x-python",
   "name": "python",
   "nbconvert_exporter": "python",
   "pygments_lexer": "ipython3",
   "version": "3.9.13"
  }
 },
 "nbformat": 4,
 "nbformat_minor": 5
}
