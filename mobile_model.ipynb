{
 "cells": [
  {
   "cell_type": "markdown",
   "id": "7d4f093a",
   "metadata": {},
   "source": [
    "# Mobile Device Machine Learning Model 📱"
   ]
  },
  {
   "cell_type": "code",
   "execution_count": 1,
   "id": "f6abbd76",
   "metadata": {},
   "outputs": [],
   "source": [
    "## importing necessary libraries\n",
    "import pandas as pd\n",
    "import numpy as np\n",
    "import seaborn as sns\n",
    "\n",
    "from sklearn.ensemble import RandomForestClassifier\n",
    "from sklearn.linear_model import LogisticRegression\n",
    "from sklearn.svm import SVC\n",
    "from sklearn.tree import DecisionTreeClassifier\n",
    "from sklearn.neighbors import KNeighborsClassifier\n",
    "from sklearn.ensemble import GradientBoostingClassifier\n",
    "import xgboost as xgb\n",
    "from catboost import CatBoostClassifier\n",
    "\n",
    "from sklearn.preprocessing import StandardScaler\n",
    "\n",
    "import matplotlib.pyplot as plt\n",
    "from colorama import Fore, Back, Style \n",
    "from sklearn.metrics import accuracy_score,confusion_matrix,classification_report\n",
    "from mlxtend.plotting import plot_confusion_matrix"
   ]
  },
  {
   "cell_type": "code",
   "execution_count": 2,
   "id": "d046339a",
   "metadata": {},
   "outputs": [
    {
     "data": {
      "text/html": [
       "<div>\n",
       "<style scoped>\n",
       "    .dataframe tbody tr th:only-of-type {\n",
       "        vertical-align: middle;\n",
       "    }\n",
       "\n",
       "    .dataframe tbody tr th {\n",
       "        vertical-align: top;\n",
       "    }\n",
       "\n",
       "    .dataframe thead th {\n",
       "        text-align: right;\n",
       "    }\n",
       "</style>\n",
       "<table border=\"1\" class=\"dataframe\">\n",
       "  <thead>\n",
       "    <tr style=\"text-align: right;\">\n",
       "      <th></th>\n",
       "      <th>Unnamed: 0</th>\n",
       "      <th>Yearly_avg_view_on_travel_page</th>\n",
       "      <th>preferred_device</th>\n",
       "      <th>total_likes_on_outstation_checkin_given</th>\n",
       "      <th>yearly_avg_Outstation_checkins</th>\n",
       "      <th>member_in_family</th>\n",
       "      <th>preferred_location_type</th>\n",
       "      <th>Yearly_avg_comment_on_travel_page</th>\n",
       "      <th>total_likes_on_outofstation_checkin_received</th>\n",
       "      <th>week_since_last_outstation_checkin</th>\n",
       "      <th>following_company_page</th>\n",
       "      <th>montly_avg_comment_on_company_page</th>\n",
       "      <th>working_flag</th>\n",
       "      <th>travelling_network_rating</th>\n",
       "      <th>Adult_flag</th>\n",
       "      <th>Daily_Avg_mins_spend_on_traveling_page</th>\n",
       "      <th>Taken_product</th>\n",
       "    </tr>\n",
       "  </thead>\n",
       "  <tbody>\n",
       "    <tr>\n",
       "      <th>0</th>\n",
       "      <td>10381</td>\n",
       "      <td>396</td>\n",
       "      <td>1</td>\n",
       "      <td>22159</td>\n",
       "      <td>21</td>\n",
       "      <td>4</td>\n",
       "      <td>1</td>\n",
       "      <td>89</td>\n",
       "      <td>5505</td>\n",
       "      <td>0</td>\n",
       "      <td>1</td>\n",
       "      <td>28</td>\n",
       "      <td>1</td>\n",
       "      <td>4</td>\n",
       "      <td>0</td>\n",
       "      <td>16</td>\n",
       "      <td>0</td>\n",
       "    </tr>\n",
       "    <tr>\n",
       "      <th>1</th>\n",
       "      <td>322</td>\n",
       "      <td>240</td>\n",
       "      <td>1</td>\n",
       "      <td>35630</td>\n",
       "      <td>1</td>\n",
       "      <td>4</td>\n",
       "      <td>7</td>\n",
       "      <td>74</td>\n",
       "      <td>5055</td>\n",
       "      <td>7</td>\n",
       "      <td>0</td>\n",
       "      <td>16</td>\n",
       "      <td>0</td>\n",
       "      <td>3</td>\n",
       "      <td>0</td>\n",
       "      <td>10</td>\n",
       "      <td>0</td>\n",
       "    </tr>\n",
       "    <tr>\n",
       "      <th>2</th>\n",
       "      <td>6296</td>\n",
       "      <td>289</td>\n",
       "      <td>0</td>\n",
       "      <td>52160</td>\n",
       "      <td>2</td>\n",
       "      <td>2</td>\n",
       "      <td>0</td>\n",
       "      <td>47</td>\n",
       "      <td>1713</td>\n",
       "      <td>1</td>\n",
       "      <td>1</td>\n",
       "      <td>31</td>\n",
       "      <td>1</td>\n",
       "      <td>3</td>\n",
       "      <td>1</td>\n",
       "      <td>1</td>\n",
       "      <td>0</td>\n",
       "    </tr>\n",
       "    <tr>\n",
       "      <th>3</th>\n",
       "      <td>6162</td>\n",
       "      <td>227</td>\n",
       "      <td>0</td>\n",
       "      <td>15482</td>\n",
       "      <td>2</td>\n",
       "      <td>2</td>\n",
       "      <td>0</td>\n",
       "      <td>47</td>\n",
       "      <td>4559</td>\n",
       "      <td>1</td>\n",
       "      <td>0</td>\n",
       "      <td>30</td>\n",
       "      <td>0</td>\n",
       "      <td>1</td>\n",
       "      <td>0</td>\n",
       "      <td>10</td>\n",
       "      <td>0</td>\n",
       "    </tr>\n",
       "    <tr>\n",
       "      <th>4</th>\n",
       "      <td>5799</td>\n",
       "      <td>234</td>\n",
       "      <td>1</td>\n",
       "      <td>39424</td>\n",
       "      <td>1</td>\n",
       "      <td>3</td>\n",
       "      <td>3</td>\n",
       "      <td>61</td>\n",
       "      <td>5059</td>\n",
       "      <td>2</td>\n",
       "      <td>0</td>\n",
       "      <td>30</td>\n",
       "      <td>1</td>\n",
       "      <td>2</td>\n",
       "      <td>0</td>\n",
       "      <td>16</td>\n",
       "      <td>0</td>\n",
       "    </tr>\n",
       "  </tbody>\n",
       "</table>\n",
       "</div>"
      ],
      "text/plain": [
       "   Unnamed: 0  Yearly_avg_view_on_travel_page  preferred_device  \\\n",
       "0       10381                             396                 1   \n",
       "1         322                             240                 1   \n",
       "2        6296                             289                 0   \n",
       "3        6162                             227                 0   \n",
       "4        5799                             234                 1   \n",
       "\n",
       "   total_likes_on_outstation_checkin_given  yearly_avg_Outstation_checkins  \\\n",
       "0                                    22159                              21   \n",
       "1                                    35630                               1   \n",
       "2                                    52160                               2   \n",
       "3                                    15482                               2   \n",
       "4                                    39424                               1   \n",
       "\n",
       "   member_in_family  preferred_location_type  \\\n",
       "0                 4                        1   \n",
       "1                 4                        7   \n",
       "2                 2                        0   \n",
       "3                 2                        0   \n",
       "4                 3                        3   \n",
       "\n",
       "   Yearly_avg_comment_on_travel_page  \\\n",
       "0                                 89   \n",
       "1                                 74   \n",
       "2                                 47   \n",
       "3                                 47   \n",
       "4                                 61   \n",
       "\n",
       "   total_likes_on_outofstation_checkin_received  \\\n",
       "0                                          5505   \n",
       "1                                          5055   \n",
       "2                                          1713   \n",
       "3                                          4559   \n",
       "4                                          5059   \n",
       "\n",
       "   week_since_last_outstation_checkin  following_company_page  \\\n",
       "0                                   0                       1   \n",
       "1                                   7                       0   \n",
       "2                                   1                       1   \n",
       "3                                   1                       0   \n",
       "4                                   2                       0   \n",
       "\n",
       "   montly_avg_comment_on_company_page  working_flag  \\\n",
       "0                                  28             1   \n",
       "1                                  16             0   \n",
       "2                                  31             1   \n",
       "3                                  30             0   \n",
       "4                                  30             1   \n",
       "\n",
       "   travelling_network_rating  Adult_flag  \\\n",
       "0                          4           0   \n",
       "1                          3           0   \n",
       "2                          3           1   \n",
       "3                          1           0   \n",
       "4                          2           0   \n",
       "\n",
       "   Daily_Avg_mins_spend_on_traveling_page  Taken_product  \n",
       "0                                      16              0  \n",
       "1                                      10              0  \n",
       "2                                       1              0  \n",
       "3                                      10              0  \n",
       "4                                      16              0  "
      ]
     },
     "execution_count": 2,
     "metadata": {},
     "output_type": "execute_result"
    }
   ],
   "source": [
    "## reading the data\n",
    "train_df = pd.read_csv('train.csv')\n",
    "train_df.head()"
   ]
  },
  {
   "cell_type": "code",
   "execution_count": 3,
   "id": "92db74af",
   "metadata": {},
   "outputs": [],
   "source": [
    "train_df.drop(columns={'Unnamed: 0'},inplace=True)"
   ]
  },
  {
   "cell_type": "code",
   "execution_count": 4,
   "id": "0065416a",
   "metadata": {},
   "outputs": [
    {
     "data": {
      "text/plain": [
       "(4461, 16)"
      ]
     },
     "execution_count": 4,
     "metadata": {},
     "output_type": "execute_result"
    }
   ],
   "source": [
    "train_df.shape"
   ]
  },
  {
   "cell_type": "markdown",
   "id": "3e07ac16",
   "metadata": {},
   "source": [
    "In the main notebook we have labelled `Mobile` as **1** and `Laptop` as **0**"
   ]
  },
  {
   "cell_type": "code",
   "execution_count": 5,
   "id": "cfae81d3",
   "metadata": {},
   "outputs": [],
   "source": [
    "## selecting only those rows that have preferred device as 1\n",
    "train_df = train_df[train_df['preferred_device']==1]"
   ]
  },
  {
   "cell_type": "code",
   "execution_count": 6,
   "id": "8f53f610",
   "metadata": {},
   "outputs": [
    {
     "data": {
      "text/plain": [
       "preferred_device\n",
       "1    3897\n",
       "Name: count, dtype: int64"
      ]
     },
     "execution_count": 6,
     "metadata": {},
     "output_type": "execute_result"
    }
   ],
   "source": [
    "train_df.preferred_device.value_counts()"
   ]
  },
  {
   "cell_type": "code",
   "execution_count": 7,
   "id": "07ee68e4",
   "metadata": {},
   "outputs": [
    {
     "data": {
      "text/html": [
       "<div>\n",
       "<style scoped>\n",
       "    .dataframe tbody tr th:only-of-type {\n",
       "        vertical-align: middle;\n",
       "    }\n",
       "\n",
       "    .dataframe tbody tr th {\n",
       "        vertical-align: top;\n",
       "    }\n",
       "\n",
       "    .dataframe thead th {\n",
       "        text-align: right;\n",
       "    }\n",
       "</style>\n",
       "<table border=\"1\" class=\"dataframe\">\n",
       "  <thead>\n",
       "    <tr style=\"text-align: right;\">\n",
       "      <th></th>\n",
       "      <th>Yearly_avg_view_on_travel_page</th>\n",
       "      <th>total_likes_on_outstation_checkin_given</th>\n",
       "      <th>yearly_avg_Outstation_checkins</th>\n",
       "      <th>member_in_family</th>\n",
       "      <th>preferred_location_type</th>\n",
       "      <th>Yearly_avg_comment_on_travel_page</th>\n",
       "      <th>total_likes_on_outofstation_checkin_received</th>\n",
       "      <th>week_since_last_outstation_checkin</th>\n",
       "      <th>following_company_page</th>\n",
       "      <th>montly_avg_comment_on_company_page</th>\n",
       "      <th>working_flag</th>\n",
       "      <th>travelling_network_rating</th>\n",
       "      <th>Adult_flag</th>\n",
       "      <th>Daily_Avg_mins_spend_on_traveling_page</th>\n",
       "      <th>Taken_product</th>\n",
       "    </tr>\n",
       "  </thead>\n",
       "  <tbody>\n",
       "    <tr>\n",
       "      <th>0</th>\n",
       "      <td>396</td>\n",
       "      <td>22159</td>\n",
       "      <td>21</td>\n",
       "      <td>4</td>\n",
       "      <td>1</td>\n",
       "      <td>89</td>\n",
       "      <td>5505</td>\n",
       "      <td>0</td>\n",
       "      <td>1</td>\n",
       "      <td>28</td>\n",
       "      <td>1</td>\n",
       "      <td>4</td>\n",
       "      <td>0</td>\n",
       "      <td>16</td>\n",
       "      <td>0</td>\n",
       "    </tr>\n",
       "    <tr>\n",
       "      <th>1</th>\n",
       "      <td>240</td>\n",
       "      <td>35630</td>\n",
       "      <td>1</td>\n",
       "      <td>4</td>\n",
       "      <td>7</td>\n",
       "      <td>74</td>\n",
       "      <td>5055</td>\n",
       "      <td>7</td>\n",
       "      <td>0</td>\n",
       "      <td>16</td>\n",
       "      <td>0</td>\n",
       "      <td>3</td>\n",
       "      <td>0</td>\n",
       "      <td>10</td>\n",
       "      <td>0</td>\n",
       "    </tr>\n",
       "    <tr>\n",
       "      <th>4</th>\n",
       "      <td>234</td>\n",
       "      <td>39424</td>\n",
       "      <td>1</td>\n",
       "      <td>3</td>\n",
       "      <td>3</td>\n",
       "      <td>61</td>\n",
       "      <td>5059</td>\n",
       "      <td>2</td>\n",
       "      <td>0</td>\n",
       "      <td>30</td>\n",
       "      <td>1</td>\n",
       "      <td>2</td>\n",
       "      <td>0</td>\n",
       "      <td>16</td>\n",
       "      <td>0</td>\n",
       "    </tr>\n",
       "    <tr>\n",
       "      <th>5</th>\n",
       "      <td>270</td>\n",
       "      <td>38675</td>\n",
       "      <td>24</td>\n",
       "      <td>4</td>\n",
       "      <td>3</td>\n",
       "      <td>47</td>\n",
       "      <td>5674</td>\n",
       "      <td>7</td>\n",
       "      <td>0</td>\n",
       "      <td>15</td>\n",
       "      <td>0</td>\n",
       "      <td>3</td>\n",
       "      <td>1</td>\n",
       "      <td>11</td>\n",
       "      <td>0</td>\n",
       "    </tr>\n",
       "    <tr>\n",
       "      <th>6</th>\n",
       "      <td>324</td>\n",
       "      <td>48064</td>\n",
       "      <td>1</td>\n",
       "      <td>3</td>\n",
       "      <td>11</td>\n",
       "      <td>95</td>\n",
       "      <td>5403</td>\n",
       "      <td>9</td>\n",
       "      <td>0</td>\n",
       "      <td>19</td>\n",
       "      <td>0</td>\n",
       "      <td>2</td>\n",
       "      <td>0</td>\n",
       "      <td>9</td>\n",
       "      <td>1</td>\n",
       "    </tr>\n",
       "  </tbody>\n",
       "</table>\n",
       "</div>"
      ],
      "text/plain": [
       "   Yearly_avg_view_on_travel_page  total_likes_on_outstation_checkin_given  \\\n",
       "0                             396                                    22159   \n",
       "1                             240                                    35630   \n",
       "4                             234                                    39424   \n",
       "5                             270                                    38675   \n",
       "6                             324                                    48064   \n",
       "\n",
       "   yearly_avg_Outstation_checkins  member_in_family  preferred_location_type  \\\n",
       "0                              21                 4                        1   \n",
       "1                               1                 4                        7   \n",
       "4                               1                 3                        3   \n",
       "5                              24                 4                        3   \n",
       "6                               1                 3                       11   \n",
       "\n",
       "   Yearly_avg_comment_on_travel_page  \\\n",
       "0                                 89   \n",
       "1                                 74   \n",
       "4                                 61   \n",
       "5                                 47   \n",
       "6                                 95   \n",
       "\n",
       "   total_likes_on_outofstation_checkin_received  \\\n",
       "0                                          5505   \n",
       "1                                          5055   \n",
       "4                                          5059   \n",
       "5                                          5674   \n",
       "6                                          5403   \n",
       "\n",
       "   week_since_last_outstation_checkin  following_company_page  \\\n",
       "0                                   0                       1   \n",
       "1                                   7                       0   \n",
       "4                                   2                       0   \n",
       "5                                   7                       0   \n",
       "6                                   9                       0   \n",
       "\n",
       "   montly_avg_comment_on_company_page  working_flag  \\\n",
       "0                                  28             1   \n",
       "1                                  16             0   \n",
       "4                                  30             1   \n",
       "5                                  15             0   \n",
       "6                                  19             0   \n",
       "\n",
       "   travelling_network_rating  Adult_flag  \\\n",
       "0                          4           0   \n",
       "1                          3           0   \n",
       "4                          2           0   \n",
       "5                          3           1   \n",
       "6                          2           0   \n",
       "\n",
       "   Daily_Avg_mins_spend_on_traveling_page  Taken_product  \n",
       "0                                      16              0  \n",
       "1                                      10              0  \n",
       "4                                      16              0  \n",
       "5                                      11              0  \n",
       "6                                       9              1  "
      ]
     },
     "execution_count": 7,
     "metadata": {},
     "output_type": "execute_result"
    }
   ],
   "source": [
    "## we can now drop 'preferred_device' column\n",
    "train_df.drop(columns={'preferred_device'},inplace=True)\n",
    "train_df.head()"
   ]
  },
  {
   "cell_type": "code",
   "execution_count": 8,
   "id": "3100dbd0",
   "metadata": {},
   "outputs": [
    {
     "data": {
      "text/plain": [
       "(3897, 15)"
      ]
     },
     "execution_count": 8,
     "metadata": {},
     "output_type": "execute_result"
    }
   ],
   "source": [
    "train_df.shape"
   ]
  },
  {
   "cell_type": "code",
   "execution_count": 9,
   "id": "defe475d",
   "metadata": {},
   "outputs": [],
   "source": [
    "## X and y attributes\n",
    "X_train = train_df.drop(columns={'Taken_product'})\n",
    "y_train = train_df['Taken_product']"
   ]
  },
  {
   "cell_type": "code",
   "execution_count": null,
   "id": "a54f0f9c",
   "metadata": {},
   "outputs": [],
   "source": []
  },
  {
   "cell_type": "markdown",
   "id": "8a0e21f1",
   "metadata": {},
   "source": [
    "### Test data"
   ]
  },
  {
   "cell_type": "code",
   "execution_count": 10,
   "id": "5be7dabe",
   "metadata": {},
   "outputs": [],
   "source": [
    "test_df = pd.read_csv('test.csv')\n",
    "test_df.drop(columns={'Unnamed: 0'},inplace=True)\n",
    "test_df = test_df[test_df['preferred_device']==1]"
   ]
  },
  {
   "cell_type": "code",
   "execution_count": 11,
   "id": "a8850dbf",
   "metadata": {},
   "outputs": [
    {
     "data": {
      "text/html": [
       "<div>\n",
       "<style scoped>\n",
       "    .dataframe tbody tr th:only-of-type {\n",
       "        vertical-align: middle;\n",
       "    }\n",
       "\n",
       "    .dataframe tbody tr th {\n",
       "        vertical-align: top;\n",
       "    }\n",
       "\n",
       "    .dataframe thead th {\n",
       "        text-align: right;\n",
       "    }\n",
       "</style>\n",
       "<table border=\"1\" class=\"dataframe\">\n",
       "  <thead>\n",
       "    <tr style=\"text-align: right;\">\n",
       "      <th></th>\n",
       "      <th>Yearly_avg_view_on_travel_page</th>\n",
       "      <th>preferred_device</th>\n",
       "      <th>total_likes_on_outstation_checkin_given</th>\n",
       "      <th>yearly_avg_Outstation_checkins</th>\n",
       "      <th>member_in_family</th>\n",
       "      <th>preferred_location_type</th>\n",
       "      <th>Yearly_avg_comment_on_travel_page</th>\n",
       "      <th>total_likes_on_outofstation_checkin_received</th>\n",
       "      <th>week_since_last_outstation_checkin</th>\n",
       "      <th>following_company_page</th>\n",
       "      <th>montly_avg_comment_on_company_page</th>\n",
       "      <th>working_flag</th>\n",
       "      <th>travelling_network_rating</th>\n",
       "      <th>Adult_flag</th>\n",
       "      <th>Daily_Avg_mins_spend_on_traveling_page</th>\n",
       "      <th>Taken_product</th>\n",
       "    </tr>\n",
       "  </thead>\n",
       "  <tbody>\n",
       "    <tr>\n",
       "      <th>0</th>\n",
       "      <td>212</td>\n",
       "      <td>1</td>\n",
       "      <td>48200</td>\n",
       "      <td>11</td>\n",
       "      <td>1</td>\n",
       "      <td>0</td>\n",
       "      <td>102</td>\n",
       "      <td>2103</td>\n",
       "      <td>0</td>\n",
       "      <td>0</td>\n",
       "      <td>20</td>\n",
       "      <td>0</td>\n",
       "      <td>2</td>\n",
       "      <td>0</td>\n",
       "      <td>6</td>\n",
       "      <td>0</td>\n",
       "    </tr>\n",
       "    <tr>\n",
       "      <th>1</th>\n",
       "      <td>350</td>\n",
       "      <td>1</td>\n",
       "      <td>5254</td>\n",
       "      <td>2</td>\n",
       "      <td>4</td>\n",
       "      <td>14</td>\n",
       "      <td>67</td>\n",
       "      <td>7382</td>\n",
       "      <td>2</td>\n",
       "      <td>0</td>\n",
       "      <td>21</td>\n",
       "      <td>0</td>\n",
       "      <td>3</td>\n",
       "      <td>1</td>\n",
       "      <td>12</td>\n",
       "      <td>0</td>\n",
       "    </tr>\n",
       "    <tr>\n",
       "      <th>2</th>\n",
       "      <td>268</td>\n",
       "      <td>1</td>\n",
       "      <td>52188</td>\n",
       "      <td>11</td>\n",
       "      <td>4</td>\n",
       "      <td>6</td>\n",
       "      <td>60</td>\n",
       "      <td>2719</td>\n",
       "      <td>8</td>\n",
       "      <td>1</td>\n",
       "      <td>32</td>\n",
       "      <td>0</td>\n",
       "      <td>3</td>\n",
       "      <td>1</td>\n",
       "      <td>8</td>\n",
       "      <td>0</td>\n",
       "    </tr>\n",
       "    <tr>\n",
       "      <th>3</th>\n",
       "      <td>236</td>\n",
       "      <td>1</td>\n",
       "      <td>24407</td>\n",
       "      <td>10</td>\n",
       "      <td>3</td>\n",
       "      <td>6</td>\n",
       "      <td>44</td>\n",
       "      <td>11042</td>\n",
       "      <td>4</td>\n",
       "      <td>0</td>\n",
       "      <td>30</td>\n",
       "      <td>1</td>\n",
       "      <td>3</td>\n",
       "      <td>1</td>\n",
       "      <td>13</td>\n",
       "      <td>0</td>\n",
       "    </tr>\n",
       "    <tr>\n",
       "      <th>4</th>\n",
       "      <td>249</td>\n",
       "      <td>1</td>\n",
       "      <td>28503</td>\n",
       "      <td>14</td>\n",
       "      <td>3</td>\n",
       "      <td>7</td>\n",
       "      <td>72</td>\n",
       "      <td>2482</td>\n",
       "      <td>5</td>\n",
       "      <td>1</td>\n",
       "      <td>25</td>\n",
       "      <td>0</td>\n",
       "      <td>3</td>\n",
       "      <td>1</td>\n",
       "      <td>13</td>\n",
       "      <td>1</td>\n",
       "    </tr>\n",
       "  </tbody>\n",
       "</table>\n",
       "</div>"
      ],
      "text/plain": [
       "   Yearly_avg_view_on_travel_page  preferred_device  \\\n",
       "0                             212                 1   \n",
       "1                             350                 1   \n",
       "2                             268                 1   \n",
       "3                             236                 1   \n",
       "4                             249                 1   \n",
       "\n",
       "   total_likes_on_outstation_checkin_given  yearly_avg_Outstation_checkins  \\\n",
       "0                                    48200                              11   \n",
       "1                                     5254                               2   \n",
       "2                                    52188                              11   \n",
       "3                                    24407                              10   \n",
       "4                                    28503                              14   \n",
       "\n",
       "   member_in_family  preferred_location_type  \\\n",
       "0                 1                        0   \n",
       "1                 4                       14   \n",
       "2                 4                        6   \n",
       "3                 3                        6   \n",
       "4                 3                        7   \n",
       "\n",
       "   Yearly_avg_comment_on_travel_page  \\\n",
       "0                                102   \n",
       "1                                 67   \n",
       "2                                 60   \n",
       "3                                 44   \n",
       "4                                 72   \n",
       "\n",
       "   total_likes_on_outofstation_checkin_received  \\\n",
       "0                                          2103   \n",
       "1                                          7382   \n",
       "2                                          2719   \n",
       "3                                         11042   \n",
       "4                                          2482   \n",
       "\n",
       "   week_since_last_outstation_checkin  following_company_page  \\\n",
       "0                                   0                       0   \n",
       "1                                   2                       0   \n",
       "2                                   8                       1   \n",
       "3                                   4                       0   \n",
       "4                                   5                       1   \n",
       "\n",
       "   montly_avg_comment_on_company_page  working_flag  \\\n",
       "0                                  20             0   \n",
       "1                                  21             0   \n",
       "2                                  32             0   \n",
       "3                                  30             1   \n",
       "4                                  25             0   \n",
       "\n",
       "   travelling_network_rating  Adult_flag  \\\n",
       "0                          2           0   \n",
       "1                          3           1   \n",
       "2                          3           1   \n",
       "3                          3           1   \n",
       "4                          3           1   \n",
       "\n",
       "   Daily_Avg_mins_spend_on_traveling_page  Taken_product  \n",
       "0                                       6              0  \n",
       "1                                      12              0  \n",
       "2                                       8              0  \n",
       "3                                      13              0  \n",
       "4                                      13              1  "
      ]
     },
     "execution_count": 11,
     "metadata": {},
     "output_type": "execute_result"
    }
   ],
   "source": [
    "test_df.head()"
   ]
  },
  {
   "cell_type": "code",
   "execution_count": 12,
   "id": "cfb4bfc1",
   "metadata": {},
   "outputs": [],
   "source": [
    "test_df.drop(columns={'preferred_device'},inplace=True)"
   ]
  },
  {
   "cell_type": "code",
   "execution_count": 13,
   "id": "d270b51f",
   "metadata": {},
   "outputs": [
    {
     "data": {
      "text/plain": [
       "(1695, 15)"
      ]
     },
     "execution_count": 13,
     "metadata": {},
     "output_type": "execute_result"
    }
   ],
   "source": [
    "test_df.shape"
   ]
  },
  {
   "cell_type": "code",
   "execution_count": 14,
   "id": "baf86c2a",
   "metadata": {},
   "outputs": [],
   "source": [
    "## X and y attributes\n",
    "X_test = test_df.drop(['Taken_product'],axis=1)\n",
    "y_test = test_df['Taken_product']"
   ]
  },
  {
   "cell_type": "markdown",
   "id": "6c92ec65",
   "metadata": {},
   "source": [
    "## Model Building"
   ]
  },
  {
   "cell_type": "code",
   "execution_count": 15,
   "id": "42088c3d",
   "metadata": {},
   "outputs": [],
   "source": [
    "accuracy_list = []"
   ]
  },
  {
   "cell_type": "code",
   "execution_count": 16,
   "id": "20533acc",
   "metadata": {},
   "outputs": [],
   "source": [
    "## scaling the values of some features\n",
    "ss = StandardScaler()\n",
    "X_train = ss.fit_transform(X_train)\n",
    "X_test = ss.transform(X_test)"
   ]
  },
  {
   "cell_type": "markdown",
   "id": "b787b100",
   "metadata": {},
   "source": [
    "### 1. Random forest 🌳🌲🌳"
   ]
  },
  {
   "cell_type": "code",
   "execution_count": 17,
   "id": "e3d1186e",
   "metadata": {},
   "outputs": [],
   "source": [
    "r_clf = RandomForestClassifier(max_features=0.7,max_depth=20, random_state=40)\n",
    "r_clf.fit(X_train, y_train)\n",
    "r_pred = r_clf.predict(X_test)\n",
    "r_acc = accuracy_score(y_test, r_pred)\n",
    "accuracy_list.append(100*r_acc)"
   ]
  },
  {
   "cell_type": "code",
   "execution_count": 18,
   "id": "81de8cb9",
   "metadata": {},
   "outputs": [
    {
     "name": "stdout",
     "output_type": "stream",
     "text": [
      "\u001b[32mAccuracy of Random Forest Classifier is :  97.94%\n"
     ]
    }
   ],
   "source": [
    "print(Fore.GREEN + \"Accuracy of Random Forest Classifier is : \", \"{:.2f}%\".format(100* r_acc))"
   ]
  },
  {
   "cell_type": "code",
   "execution_count": 19,
   "id": "d5427370",
   "metadata": {},
   "outputs": [
    {
     "data": {
      "text/plain": [
       "<Figure size 640x480 with 0 Axes>"
      ]
     },
     "metadata": {},
     "output_type": "display_data"
    },
    {
     "data": {
      "image/png": "[encoded data removed]",
      "text/plain": [
       "<Figure size 300x300 with 1 Axes>"
      ]
     },
     "metadata": {},
     "output_type": "display_data"
    }
   ],
   "source": [
    "cm = confusion_matrix(y_test, r_pred)\n",
    "plt.figure()\n",
    "plot_confusion_matrix(cm, figsize=(3,3), hide_ticks=True, cmap=plt.cm.Greens)\n",
    "plt.title(\"Random Forest Model - Confusion Matrix\")\n",
    "plt.xticks(range(2), [\"Heart Not Failed\",\"Heart Fail\"], fontsize=10)\n",
    "plt.yticks(range(2), [\"Heart Not Failed\",\"Heart Fail\"], fontsize=10)\n",
    "plt.show();"
   ]
  },
  {
   "cell_type": "code",
   "execution_count": 20,
   "id": "bfc705a1",
   "metadata": {},
   "outputs": [
    {
     "name": "stdout",
     "output_type": "stream",
     "text": [
      "              precision    recall  f1-score   support\n",
      "\n",
      "           0       0.98      1.00      0.99      1375\n",
      "           1       1.00      0.89      0.94       320\n",
      "\n",
      "    accuracy                           0.98      1695\n",
      "   macro avg       0.99      0.95      0.96      1695\n",
      "weighted avg       0.98      0.98      0.98      1695\n",
      "\n"
     ]
    }
   ],
   "source": [
    "print(classification_report(y_test,r_pred))"
   ]
  },
  {
   "cell_type": "markdown",
   "id": "c6c160d3",
   "metadata": {},
   "source": [
    "### 2. Logistic regression"
   ]
  },
  {
   "cell_type": "code",
   "execution_count": 21,
   "id": "87859485",
   "metadata": {},
   "outputs": [],
   "source": [
    "log_reg = LogisticRegression(max_iter=100)\n",
    "log_reg.fit(X_train, y_train)\n",
    "log_reg_pred = log_reg.predict(X_test)\n",
    "log_reg_acc = accuracy_score(y_test, log_reg_pred)\n",
    "accuracy_list.append(100*log_reg_acc)"
   ]
  },
  {
   "cell_type": "code",
   "execution_count": 22,
   "id": "ec94a52d",
   "metadata": {},
   "outputs": [
    {
     "name": "stdout",
     "output_type": "stream",
     "text": [
      "\u001b[34mAccuracy of Logistic Regression is :  84.01%\n"
     ]
    }
   ],
   "source": [
    "print(Fore.BLUE + \"Accuracy of Logistic Regression is : \", \"{:.2f}%\".format(100* log_reg_acc))"
   ]
  },
  {
   "cell_type": "code",
   "execution_count": 23,
   "id": "a82af863",
   "metadata": {},
   "outputs": [
    {
     "data": {
      "text/plain": [
       "<Figure size 640x480 with 0 Axes>"
      ]
     },
     "metadata": {},
     "output_type": "display_data"
    },
    {
     "data": {
      "image/png": "[encoded data removed]",
      "text/plain": [
       "<Figure size 300x300 with 1 Axes>"
      ]
     },
     "metadata": {},
     "output_type": "display_data"
    }
   ],
   "source": [
    "cm = confusion_matrix(y_test, log_reg_pred)\n",
    "plt.figure()\n",
    "plot_confusion_matrix(cm, figsize=(3,3), hide_ticks=True, cmap=plt.cm.Blues)\n",
    "plt.title(\"Logistic Regression Model - Confusion Matrix\")\n",
    "plt.xticks(range(2), [\"Not taken\",\"Taken Product\"], fontsize=10)\n",
    "plt.yticks(range(2), [\"Not taken\",\"Taken Product\"], fontsize=10)\n",
    "plt.show();"
   ]
  },
  {
   "cell_type": "code",
   "execution_count": 24,
   "id": "22e67221",
   "metadata": {},
   "outputs": [
    {
     "name": "stdout",
     "output_type": "stream",
     "text": [
      "              precision    recall  f1-score   support\n",
      "\n",
      "           0       0.85      0.98      0.91      1375\n",
      "           1       0.73      0.24      0.36       320\n",
      "\n",
      "    accuracy                           0.84      1695\n",
      "   macro avg       0.79      0.61      0.64      1695\n",
      "weighted avg       0.83      0.84      0.81      1695\n",
      "\n"
     ]
    }
   ],
   "source": [
    "print(classification_report(y_test,log_reg_pred))"
   ]
  },
  {
   "cell_type": "markdown",
   "id": "d4ba2882",
   "metadata": {},
   "source": [
    "### 3. Support Vector"
   ]
  },
  {
   "cell_type": "code",
   "execution_count": 25,
   "id": "6e062e82",
   "metadata": {},
   "outputs": [],
   "source": [
    "sv_clf = SVC()\n",
    "sv_clf.fit(X_train, y_train)\n",
    "sv_clf_pred = sv_clf.predict(X_test)\n",
    "sv_clf_acc = accuracy_score(y_test, sv_clf_pred)\n",
    "accuracy_list.append(100* sv_clf_acc)"
   ]
  },
  {
   "cell_type": "code",
   "execution_count": 26,
   "id": "8be3f0f1",
   "metadata": {},
   "outputs": [
    {
     "name": "stdout",
     "output_type": "stream",
     "text": [
      "\u001b[31mAccuracy of SVC is :  87.43%\n"
     ]
    }
   ],
   "source": [
    "print(Fore.RED + \"Accuracy of SVC is : \", \"{:.2f}%\".format(100* sv_clf_acc))"
   ]
  },
  {
   "cell_type": "code",
   "execution_count": 27,
   "id": "5e13108f",
   "metadata": {},
   "outputs": [
    {
     "data": {
      "text/plain": [
       "<Figure size 640x480 with 0 Axes>"
      ]
     },
     "metadata": {},
     "output_type": "display_data"
    },
    {
     "data": {
      "image/png": "[encoded data removed]",
      "text/plain": [
       "<Figure size 300x300 with 1 Axes>"
      ]
     },
     "metadata": {},
     "output_type": "display_data"
    }
   ],
   "source": [
    "cm = confusion_matrix(y_test, sv_clf_pred)\n",
    "plt.figure()\n",
    "plot_confusion_matrix(cm, figsize=(3,3), hide_ticks=True, cmap=plt.cm.Reds)\n",
    "plt.title(\"SVC Model - Confusion Matrix\")\n",
    "plt.xticks(range(2), [\"Not taken\",\"Taken Product\"], fontsize=10)\n",
    "plt.yticks(range(2), [\"Not taken\",\"Taken Product\"], fontsize=10)\n",
    "plt.show()"
   ]
  },
  {
   "cell_type": "code",
   "execution_count": 28,
   "id": "923b9d44",
   "metadata": {},
   "outputs": [
    {
     "name": "stdout",
     "output_type": "stream",
     "text": [
      "              precision    recall  f1-score   support\n",
      "\n",
      "           0       0.87      0.99      0.93      1375\n",
      "           1       0.93      0.36      0.52       320\n",
      "\n",
      "    accuracy                           0.87      1695\n",
      "   macro avg       0.90      0.68      0.72      1695\n",
      "weighted avg       0.88      0.87      0.85      1695\n",
      "\n"
     ]
    }
   ],
   "source": [
    "print(classification_report(y_test,sv_clf_pred))"
   ]
  },
  {
   "cell_type": "markdown",
   "id": "0004aba1",
   "metadata": {},
   "source": [
    "### 4. Decision Tree"
   ]
  },
  {
   "cell_type": "code",
   "execution_count": 29,
   "id": "29785c6e",
   "metadata": {},
   "outputs": [],
   "source": [
    "dt_clf = DecisionTreeClassifier(max_leaf_nodes=3, random_state=0, criterion='entropy')\n",
    "dt_clf.fit(X_train, y_train)\n",
    "dt_pred = dt_clf.predict(X_test)\n",
    "dt_acc = accuracy_score(y_test, dt_pred)\n",
    "accuracy_list.append(100*dt_acc)"
   ]
  },
  {
   "cell_type": "code",
   "execution_count": 30,
   "id": "c51cea75",
   "metadata": {},
   "outputs": [
    {
     "name": "stdout",
     "output_type": "stream",
     "text": [
      "\u001b[32mAccuracy of Decision Tree Classifier is :  82.48%\n"
     ]
    }
   ],
   "source": [
    "print(Fore.GREEN + \"Accuracy of Decision Tree Classifier is : \", \"{:.2f}%\".format(100* dt_acc))"
   ]
  },
  {
   "cell_type": "code",
   "execution_count": 31,
   "id": "65a6f4e5",
   "metadata": {},
   "outputs": [
    {
     "data": {
      "text/plain": [
       "<Figure size 640x480 with 0 Axes>"
      ]
     },
     "metadata": {},
     "output_type": "display_data"
    },
    {
     "data": {
      "image/png": "[encoded data removed]",
      "text/plain": [
       "<Figure size 300x300 with 1 Axes>"
      ]
     },
     "metadata": {},
     "output_type": "display_data"
    }
   ],
   "source": [
    "cm = confusion_matrix(y_test, dt_pred)\n",
    "plt.figure()\n",
    "plot_confusion_matrix(cm, figsize=(3,3), hide_ticks=True, cmap=plt.cm.GnBu)\n",
    "plt.title(\"Decision Tree Model - Confusion Matrix\")\n",
    "plt.xticks(range(2), [\"Not Taken\",\"Taken\"], fontsize=10)\n",
    "plt.yticks(range(2), [\"Not Taken\",\"Taken\"], fontsize=10)\n",
    "plt.show()"
   ]
  },
  {
   "cell_type": "code",
   "execution_count": 32,
   "id": "de08d333",
   "metadata": {},
   "outputs": [
    {
     "name": "stdout",
     "output_type": "stream",
     "text": [
      "              precision    recall  f1-score   support\n",
      "\n",
      "           0       0.85      0.95      0.90      1375\n",
      "           1       0.57      0.30      0.39       320\n",
      "\n",
      "    accuracy                           0.82      1695\n",
      "   macro avg       0.71      0.62      0.64      1695\n",
      "weighted avg       0.80      0.82      0.80      1695\n",
      "\n"
     ]
    }
   ],
   "source": [
    "print(classification_report(y_test,dt_pred))"
   ]
  },
  {
   "cell_type": "markdown",
   "id": "48bdeb79",
   "metadata": {},
   "source": [
    "### 5. KNN Classifier"
   ]
  },
  {
   "cell_type": "code",
   "execution_count": 33,
   "id": "e889a145",
   "metadata": {},
   "outputs": [
    {
     "name": "stderr",
     "output_type": "stream",
     "text": [
      "C:\\Users\\srshu\\anaconda3\\lib\\site-packages\\sklearn\\neighbors\\_classification.py:228: FutureWarning: Unlike other reduction functions (e.g. `skew`, `kurtosis`), the default behavior of `mode` typically preserves the axis it acts along. In SciPy 1.11.0, this behavior will change: the default value of `keepdims` will become False, the `axis` over which the statistic is taken will be eliminated, and the value None will no longer be accepted. Set `keepdims` to True or False to avoid this warning.\n",
      "  mode, _ = stats.mode(_y[neigh_ind, k], axis=1)\n"
     ]
    }
   ],
   "source": [
    "kn_clf = KNeighborsClassifier(n_neighbors=5)\n",
    "kn_clf.fit(X_train, y_train)\n",
    "kn_pred = kn_clf.predict(X_test)\n",
    "kn_acc = accuracy_score(y_test, kn_pred)\n",
    "accuracy_list.append(100*kn_acc)"
   ]
  },
  {
   "cell_type": "code",
   "execution_count": 34,
   "id": "f5748c69",
   "metadata": {},
   "outputs": [
    {
     "name": "stdout",
     "output_type": "stream",
     "text": [
      "\u001b[33mAccuracy of K Neighbors Classifier is :  92.98%\n"
     ]
    }
   ],
   "source": [
    "print(Fore.YELLOW + \"Accuracy of K Neighbors Classifier is : \", \"{:.2f}%\".format(100* kn_acc))"
   ]
  },
  {
   "cell_type": "code",
   "execution_count": 35,
   "id": "fea3f6b3",
   "metadata": {},
   "outputs": [
    {
     "data": {
      "text/plain": [
       "<Figure size 640x480 with 0 Axes>"
      ]
     },
     "metadata": {},
     "output_type": "display_data"
    },
    {
     "data": {
      "image/png": "[encoded data removed]",
      "text/plain": [
       "<Figure size 300x300 with 1 Axes>"
      ]
     },
     "metadata": {},
     "output_type": "display_data"
    }
   ],
   "source": [
    "cm = confusion_matrix(y_test, kn_pred)\n",
    "plt.figure()\n",
    "plot_confusion_matrix(cm, figsize=(3,3), hide_ticks=True, cmap=plt.cm.YlOrRd)\n",
    "plt.title(\"KNN classifier - Confusion Matrix\")\n",
    "plt.xticks(range(2), [\"Not Taken\",\"Taken\"], fontsize=10)\n",
    "plt.yticks(range(2), [\"Not Taken\",\"Taken\"], fontsize=10)\n",
    "plt.show();"
   ]
  },
  {
   "cell_type": "code",
   "execution_count": 36,
   "id": "8ea2776e",
   "metadata": {},
   "outputs": [
    {
     "name": "stdout",
     "output_type": "stream",
     "text": [
      "              precision    recall  f1-score   support\n",
      "\n",
      "           0       0.93      0.99      0.96      1375\n",
      "           1       0.93      0.68      0.79       320\n",
      "\n",
      "    accuracy                           0.93      1695\n",
      "   macro avg       0.93      0.83      0.87      1695\n",
      "weighted avg       0.93      0.93      0.93      1695\n",
      "\n"
     ]
    }
   ],
   "source": [
    "print(classification_report(y_test,kn_pred))"
   ]
  },
  {
   "cell_type": "markdown",
   "id": "38629e60",
   "metadata": {},
   "source": [
    "### 6. Gradient Boosting"
   ]
  },
  {
   "cell_type": "code",
   "execution_count": 37,
   "id": "c2e68bff",
   "metadata": {},
   "outputs": [],
   "source": [
    "gb_clf = GradientBoostingClassifier(max_depth=10, random_state=50)\n",
    "gb_clf.fit(X_train, y_train)\n",
    "gb_pred = gb_clf.predict(X_test)\n",
    "gb_acc = accuracy_score(y_test, gb_pred)\n",
    "accuracy_list.append(100*gb_acc)"
   ]
  },
  {
   "cell_type": "code",
   "execution_count": 38,
   "id": "9c10cd59",
   "metadata": {},
   "outputs": [
    {
     "name": "stdout",
     "output_type": "stream",
     "text": [
      "\u001b[96mAccuracy of Gradient Boosting is :  98.05%\n"
     ]
    }
   ],
   "source": [
    "print(Fore.LIGHTCYAN_EX + \"Accuracy of Gradient Boosting is : \", \"{:.2f}%\".format(100* gb_acc))"
   ]
  },
  {
   "cell_type": "code",
   "execution_count": 39,
   "id": "9537d339",
   "metadata": {},
   "outputs": [
    {
     "data": {
      "text/plain": [
       "<Figure size 640x480 with 0 Axes>"
      ]
     },
     "metadata": {},
     "output_type": "display_data"
    },
    {
     "data": {
      "image/png": "[encoded data removed]",
      "text/plain": [
       "<Figure size 300x300 with 1 Axes>"
      ]
     },
     "metadata": {},
     "output_type": "display_data"
    }
   ],
   "source": [
    "## confusion_matrix\n",
    "m = confusion_matrix(y_test, gb_pred)\n",
    "plt.figure()\n",
    "plot_confusion_matrix(cm, figsize=(3,3), hide_ticks=True, cmap=plt.cm.pink_r)\n",
    "plt.title(\"Gradient Boosying Model - Confusion Matrix\")\n",
    "plt.xticks(range(2), [\"Not Taken\",\"Taken\"], fontsize=10)\n",
    "plt.yticks(range(2), [\"Not Taken\",\"Taken\"], fontsize=10)\n",
    "plt.show()"
   ]
  },
  {
   "cell_type": "code",
   "execution_count": 40,
   "id": "df88060b",
   "metadata": {},
   "outputs": [
    {
     "name": "stdout",
     "output_type": "stream",
     "text": [
      "              precision    recall  f1-score   support\n",
      "\n",
      "           0       0.98      1.00      0.99      1375\n",
      "           1       0.99      0.91      0.95       320\n",
      "\n",
      "    accuracy                           0.98      1695\n",
      "   macro avg       0.98      0.95      0.97      1695\n",
      "weighted avg       0.98      0.98      0.98      1695\n",
      "\n"
     ]
    }
   ],
   "source": [
    "print(classification_report(y_test,gb_pred))"
   ]
  },
  {
   "cell_type": "markdown",
   "id": "3e531411",
   "metadata": {},
   "source": [
    "### 7. xgbrf Clasifier"
   ]
  },
  {
   "cell_type": "code",
   "execution_count": 41,
   "id": "32a8b98b",
   "metadata": {},
   "outputs": [],
   "source": [
    "xgb_clf = xgb.XGBRFClassifier(max_depth=20, random_state=50)\n",
    "xgb_clf.fit(X_train,y_train)\n",
    "xgb_pred = xgb_clf.predict(X_test)\n",
    "xgb_acc = accuracy_score(y_test, xgb_pred)\n",
    "accuracy_list.append(100*xgb_acc)"
   ]
  },
  {
   "cell_type": "code",
   "execution_count": 42,
   "id": "cbcc5a0f",
   "metadata": {},
   "outputs": [
    {
     "name": "stdout",
     "output_type": "stream",
     "text": [
      "\u001b[95mAccuracy of XGBRFClassifier is :  96.87%\n"
     ]
    }
   ],
   "source": [
    "print(Fore.LIGHTMAGENTA_EX + \"Accuracy of XGBRFClassifier is : \", \"{:.2f}%\".format(100* xgb_acc))"
   ]
  },
  {
   "cell_type": "code",
   "execution_count": 43,
   "id": "9143830f",
   "metadata": {},
   "outputs": [
    {
     "data": {
      "text/plain": [
       "<Figure size 640x480 with 0 Axes>"
      ]
     },
     "metadata": {},
     "output_type": "display_data"
    },
    {
     "data": {
      "image/png": "[encoded data removed]",
      "text/plain": [
       "<Figure size 300x300 with 1 Axes>"
      ]
     },
     "metadata": {},
     "output_type": "display_data"
    }
   ],
   "source": [
    "m = confusion_matrix(y_test, xgb_pred)\n",
    "plt.figure()\n",
    "plot_confusion_matrix(cm, figsize=(3,3), hide_ticks=True, cmap=plt.cm.pink_r)\n",
    "plt.title(\"XGBRFClassifier Model - Confusion Matrix\")\n",
    "plt.xticks(range(2), [\"Not Taken\",\"Taken\"], fontsize=10)\n",
    "plt.yticks(range(2), [\"Not Taken\",\"Taken\"], fontsize=10)\n",
    "plt.show()"
   ]
  },
  {
   "cell_type": "code",
   "execution_count": 44,
   "id": "e0d2aabd",
   "metadata": {},
   "outputs": [
    {
     "name": "stdout",
     "output_type": "stream",
     "text": [
      "              precision    recall  f1-score   support\n",
      "\n",
      "           0       0.96      1.00      0.98      1375\n",
      "           1       0.99      0.84      0.91       320\n",
      "\n",
      "    accuracy                           0.97      1695\n",
      "   macro avg       0.98      0.92      0.95      1695\n",
      "weighted avg       0.97      0.97      0.97      1695\n",
      "\n"
     ]
    }
   ],
   "source": [
    "print(classification_report(y_test,xgb_pred))"
   ]
  },
  {
   "cell_type": "markdown",
   "id": "6741f716",
   "metadata": {},
   "source": [
    "### 8. CatBoost Classifier"
   ]
  },
  {
   "cell_type": "code",
   "execution_count": 45,
   "id": "9865ae79",
   "metadata": {
    "scrolled": true
   },
   "outputs": [
    {
     "name": "stdout",
     "output_type": "stream",
     "text": [
      "Learning rate set to 0.018415\n",
      "0:\tlearn: 0.6769835\ttotal: 145ms\tremaining: 2m 24s\n",
      "1:\tlearn: 0.6617145\ttotal: 151ms\tremaining: 1m 15s\n",
      "2:\tlearn: 0.6477786\ttotal: 158ms\tremaining: 52.5s\n",
      "3:\tlearn: 0.6339260\ttotal: 164ms\tremaining: 40.8s\n",
      "4:\tlearn: 0.6227927\ttotal: 168ms\tremaining: 33.5s\n",
      "5:\tlearn: 0.6109670\ttotal: 175ms\tremaining: 28.9s\n",
      "6:\tlearn: 0.5983815\ttotal: 180ms\tremaining: 25.5s\n",
      "7:\tlearn: 0.5876031\ttotal: 185ms\tremaining: 23s\n",
      "8:\tlearn: 0.5773621\ttotal: 192ms\tremaining: 21.1s\n",
      "9:\tlearn: 0.5673586\ttotal: 197ms\tremaining: 19.5s\n",
      "10:\tlearn: 0.5581690\ttotal: 200ms\tremaining: 18s\n",
      "11:\tlearn: 0.5483964\ttotal: 203ms\tremaining: 16.7s\n",
      "12:\tlearn: 0.5403846\ttotal: 207ms\tremaining: 15.7s\n",
      "13:\tlearn: 0.5315841\ttotal: 210ms\tremaining: 14.8s\n",
      "14:\tlearn: 0.5245169\ttotal: 212ms\tremaining: 13.9s\n",
      "15:\tlearn: 0.5178708\ttotal: 214ms\tremaining: 13.2s\n",
      "16:\tlearn: 0.5103717\ttotal: 216ms\tremaining: 12.5s\n",
      "17:\tlearn: 0.5013798\ttotal: 218ms\tremaining: 11.9s\n",
      "18:\tlearn: 0.4952222\ttotal: 220ms\tremaining: 11.3s\n",
      "19:\tlearn: 0.4891026\ttotal: 222ms\tremaining: 10.9s\n",
      "20:\tlearn: 0.4830101\ttotal: 224ms\tremaining: 10.4s\n",
      "21:\tlearn: 0.4771225\ttotal: 226ms\tremaining: 10s\n",
      "22:\tlearn: 0.4712738\ttotal: 228ms\tremaining: 9.67s\n",
      "23:\tlearn: 0.4666838\ttotal: 230ms\tremaining: 9.34s\n",
      "24:\tlearn: 0.4604105\ttotal: 231ms\tremaining: 9.02s\n",
      "25:\tlearn: 0.4550754\ttotal: 233ms\tremaining: 8.73s\n",
      "26:\tlearn: 0.4520108\ttotal: 235ms\tremaining: 8.46s\n",
      "27:\tlearn: 0.4478043\ttotal: 237ms\tremaining: 8.22s\n",
      "28:\tlearn: 0.4434784\ttotal: 239ms\tremaining: 8s\n",
      "29:\tlearn: 0.4408555\ttotal: 240ms\tremaining: 7.76s\n",
      "30:\tlearn: 0.4370962\ttotal: 242ms\tremaining: 7.57s\n",
      "31:\tlearn: 0.4330070\ttotal: 244ms\tremaining: 7.38s\n",
      "32:\tlearn: 0.4289190\ttotal: 246ms\tremaining: 7.2s\n",
      "33:\tlearn: 0.4248752\ttotal: 248ms\tremaining: 7.04s\n",
      "34:\tlearn: 0.4203022\ttotal: 250ms\tremaining: 6.88s\n",
      "35:\tlearn: 0.4162777\ttotal: 252ms\tremaining: 6.74s\n",
      "36:\tlearn: 0.4134045\ttotal: 254ms\tremaining: 6.61s\n",
      "37:\tlearn: 0.4100269\ttotal: 256ms\tremaining: 6.47s\n",
      "38:\tlearn: 0.4064941\ttotal: 258ms\tremaining: 6.35s\n",
      "39:\tlearn: 0.4036060\ttotal: 259ms\tremaining: 6.22s\n",
      "40:\tlearn: 0.4002779\ttotal: 261ms\tremaining: 6.11s\n",
      "41:\tlearn: 0.3977390\ttotal: 263ms\tremaining: 6s\n",
      "42:\tlearn: 0.3947279\ttotal: 265ms\tremaining: 5.9s\n",
      "43:\tlearn: 0.3916092\ttotal: 267ms\tremaining: 5.8s\n",
      "44:\tlearn: 0.3892997\ttotal: 269ms\tremaining: 5.71s\n",
      "45:\tlearn: 0.3870812\ttotal: 271ms\tremaining: 5.62s\n",
      "46:\tlearn: 0.3853471\ttotal: 273ms\tremaining: 5.53s\n",
      "47:\tlearn: 0.3826990\ttotal: 275ms\tremaining: 5.45s\n",
      "48:\tlearn: 0.3805132\ttotal: 277ms\tremaining: 5.37s\n",
      "49:\tlearn: 0.3784068\ttotal: 279ms\tremaining: 5.3s\n",
      "50:\tlearn: 0.3763686\ttotal: 281ms\tremaining: 5.22s\n",
      "51:\tlearn: 0.3742846\ttotal: 283ms\tremaining: 5.15s\n",
      "52:\tlearn: 0.3724097\ttotal: 285ms\tremaining: 5.08s\n",
      "53:\tlearn: 0.3704196\ttotal: 287ms\tremaining: 5.02s\n",
      "54:\tlearn: 0.3690933\ttotal: 289ms\tremaining: 4.96s\n",
      "55:\tlearn: 0.3672199\ttotal: 290ms\tremaining: 4.9s\n",
      "56:\tlearn: 0.3653816\ttotal: 292ms\tremaining: 4.84s\n",
      "57:\tlearn: 0.3638741\ttotal: 294ms\tremaining: 4.78s\n",
      "58:\tlearn: 0.3616093\ttotal: 296ms\tremaining: 4.72s\n",
      "59:\tlearn: 0.3599254\ttotal: 298ms\tremaining: 4.67s\n",
      "60:\tlearn: 0.3578139\ttotal: 300ms\tremaining: 4.62s\n",
      "61:\tlearn: 0.3562093\ttotal: 302ms\tremaining: 4.57s\n",
      "62:\tlearn: 0.3545752\ttotal: 304ms\tremaining: 4.53s\n",
      "63:\tlearn: 0.3517011\ttotal: 306ms\tremaining: 4.48s\n",
      "64:\tlearn: 0.3502418\ttotal: 308ms\tremaining: 4.43s\n",
      "65:\tlearn: 0.3487376\ttotal: 310ms\tremaining: 4.39s\n",
      "66:\tlearn: 0.3473173\ttotal: 312ms\tremaining: 4.34s\n",
      "67:\tlearn: 0.3459308\ttotal: 314ms\tremaining: 4.3s\n",
      "68:\tlearn: 0.3444654\ttotal: 316ms\tremaining: 4.27s\n",
      "69:\tlearn: 0.3434383\ttotal: 318ms\tremaining: 4.23s\n",
      "70:\tlearn: 0.3419644\ttotal: 321ms\tremaining: 4.19s\n",
      "71:\tlearn: 0.3402835\ttotal: 323ms\tremaining: 4.16s\n",
      "72:\tlearn: 0.3392952\ttotal: 325ms\tremaining: 4.12s\n",
      "73:\tlearn: 0.3378756\ttotal: 327ms\tremaining: 4.09s\n",
      "74:\tlearn: 0.3360243\ttotal: 329ms\tremaining: 4.05s\n",
      "75:\tlearn: 0.3353391\ttotal: 331ms\tremaining: 4.02s\n",
      "76:\tlearn: 0.3340850\ttotal: 333ms\tremaining: 3.99s\n",
      "77:\tlearn: 0.3331134\ttotal: 335ms\tremaining: 3.96s\n",
      "78:\tlearn: 0.3322703\ttotal: 337ms\tremaining: 3.92s\n",
      "79:\tlearn: 0.3308311\ttotal: 339ms\tremaining: 3.89s\n",
      "80:\tlearn: 0.3298500\ttotal: 341ms\tremaining: 3.87s\n",
      "81:\tlearn: 0.3290859\ttotal: 343ms\tremaining: 3.84s\n",
      "82:\tlearn: 0.3277105\ttotal: 345ms\tremaining: 3.81s\n",
      "83:\tlearn: 0.3266324\ttotal: 347ms\tremaining: 3.79s\n",
      "84:\tlearn: 0.3253693\ttotal: 350ms\tremaining: 3.76s\n",
      "85:\tlearn: 0.3243949\ttotal: 352ms\tremaining: 3.74s\n",
      "86:\tlearn: 0.3233522\ttotal: 354ms\tremaining: 3.72s\n",
      "87:\tlearn: 0.3217711\ttotal: 357ms\tremaining: 3.7s\n",
      "88:\tlearn: 0.3209989\ttotal: 359ms\tremaining: 3.68s\n",
      "89:\tlearn: 0.3202296\ttotal: 361ms\tremaining: 3.65s\n",
      "90:\tlearn: 0.3188287\ttotal: 363ms\tremaining: 3.63s\n",
      "91:\tlearn: 0.3180940\ttotal: 366ms\tremaining: 3.61s\n",
      "92:\tlearn: 0.3173789\ttotal: 368ms\tremaining: 3.59s\n",
      "93:\tlearn: 0.3163117\ttotal: 370ms\tremaining: 3.56s\n",
      "94:\tlearn: 0.3147345\ttotal: 372ms\tremaining: 3.54s\n",
      "95:\tlearn: 0.3133785\ttotal: 374ms\tremaining: 3.52s\n",
      "96:\tlearn: 0.3126712\ttotal: 376ms\tremaining: 3.5s\n",
      "97:\tlearn: 0.3117454\ttotal: 377ms\tremaining: 3.47s\n",
      "98:\tlearn: 0.3101080\ttotal: 380ms\tremaining: 3.46s\n",
      "99:\tlearn: 0.3091101\ttotal: 382ms\tremaining: 3.44s\n",
      "100:\tlearn: 0.3077061\ttotal: 385ms\tremaining: 3.42s\n",
      "101:\tlearn: 0.3072083\ttotal: 387ms\tremaining: 3.4s\n",
      "102:\tlearn: 0.3055023\ttotal: 389ms\tremaining: 3.39s\n",
      "103:\tlearn: 0.3045441\ttotal: 392ms\tremaining: 3.38s\n",
      "104:\tlearn: 0.3035550\ttotal: 394ms\tremaining: 3.36s\n",
      "105:\tlearn: 0.3015315\ttotal: 396ms\tremaining: 3.34s\n",
      "106:\tlearn: 0.3005499\ttotal: 398ms\tremaining: 3.32s\n",
      "107:\tlearn: 0.2997761\ttotal: 400ms\tremaining: 3.3s\n",
      "108:\tlearn: 0.2988214\ttotal: 402ms\tremaining: 3.29s\n",
      "109:\tlearn: 0.2978904\ttotal: 404ms\tremaining: 3.27s\n",
      "110:\tlearn: 0.2969108\ttotal: 406ms\tremaining: 3.25s\n",
      "111:\tlearn: 0.2959345\ttotal: 408ms\tremaining: 3.23s\n",
      "112:\tlearn: 0.2954595\ttotal: 410ms\tremaining: 3.21s\n",
      "113:\tlearn: 0.2945202\ttotal: 412ms\tremaining: 3.2s\n",
      "114:\tlearn: 0.2938167\ttotal: 414ms\tremaining: 3.18s\n",
      "115:\tlearn: 0.2932296\ttotal: 416ms\tremaining: 3.17s\n",
      "116:\tlearn: 0.2924101\ttotal: 418ms\tremaining: 3.15s\n",
      "117:\tlearn: 0.2914042\ttotal: 419ms\tremaining: 3.13s\n",
      "118:\tlearn: 0.2903440\ttotal: 421ms\tremaining: 3.12s\n",
      "119:\tlearn: 0.2896190\ttotal: 423ms\tremaining: 3.1s\n",
      "120:\tlearn: 0.2883331\ttotal: 425ms\tremaining: 3.09s\n",
      "121:\tlearn: 0.2878616\ttotal: 427ms\tremaining: 3.07s\n",
      "122:\tlearn: 0.2871160\ttotal: 429ms\tremaining: 3.06s\n",
      "123:\tlearn: 0.2864793\ttotal: 431ms\tremaining: 3.05s\n",
      "124:\tlearn: 0.2858251\ttotal: 433ms\tremaining: 3.03s\n",
      "125:\tlearn: 0.2848837\ttotal: 435ms\tremaining: 3.02s\n",
      "126:\tlearn: 0.2838499\ttotal: 437ms\tremaining: 3s\n",
      "127:\tlearn: 0.2828485\ttotal: 439ms\tremaining: 2.99s\n",
      "128:\tlearn: 0.2820641\ttotal: 441ms\tremaining: 2.98s\n",
      "129:\tlearn: 0.2816649\ttotal: 443ms\tremaining: 2.96s\n",
      "130:\tlearn: 0.2810855\ttotal: 445ms\tremaining: 2.95s\n",
      "131:\tlearn: 0.2806284\ttotal: 448ms\tremaining: 2.94s\n",
      "132:\tlearn: 0.2796733\ttotal: 450ms\tremaining: 2.93s\n",
      "133:\tlearn: 0.2789602\ttotal: 452ms\tremaining: 2.92s\n",
      "134:\tlearn: 0.2777283\ttotal: 454ms\tremaining: 2.91s\n",
      "135:\tlearn: 0.2769431\ttotal: 456ms\tremaining: 2.9s\n",
      "136:\tlearn: 0.2762137\ttotal: 458ms\tremaining: 2.88s\n",
      "137:\tlearn: 0.2754644\ttotal: 460ms\tremaining: 2.88s\n",
      "138:\tlearn: 0.2746880\ttotal: 462ms\tremaining: 2.86s\n",
      "139:\tlearn: 0.2740755\ttotal: 464ms\tremaining: 2.85s\n",
      "140:\tlearn: 0.2735699\ttotal: 466ms\tremaining: 2.84s\n",
      "141:\tlearn: 0.2728130\ttotal: 468ms\tremaining: 2.83s\n",
      "142:\tlearn: 0.2724175\ttotal: 470ms\tremaining: 2.82s\n",
      "143:\tlearn: 0.2718025\ttotal: 472ms\tremaining: 2.81s\n",
      "144:\tlearn: 0.2713245\ttotal: 474ms\tremaining: 2.8s\n",
      "145:\tlearn: 0.2707862\ttotal: 476ms\tremaining: 2.79s\n",
      "146:\tlearn: 0.2700966\ttotal: 478ms\tremaining: 2.77s\n",
      "147:\tlearn: 0.2692963\ttotal: 480ms\tremaining: 2.76s\n",
      "148:\tlearn: 0.2684832\ttotal: 482ms\tremaining: 2.75s\n",
      "149:\tlearn: 0.2678840\ttotal: 484ms\tremaining: 2.74s\n",
      "150:\tlearn: 0.2672971\ttotal: 486ms\tremaining: 2.73s\n",
      "151:\tlearn: 0.2666774\ttotal: 488ms\tremaining: 2.72s\n",
      "152:\tlearn: 0.2660231\ttotal: 490ms\tremaining: 2.71s\n",
      "153:\tlearn: 0.2654328\ttotal: 492ms\tremaining: 2.7s\n",
      "154:\tlearn: 0.2651649\ttotal: 494ms\tremaining: 2.69s\n",
      "155:\tlearn: 0.2643701\ttotal: 496ms\tremaining: 2.69s\n",
      "156:\tlearn: 0.2640540\ttotal: 498ms\tremaining: 2.68s\n",
      "157:\tlearn: 0.2634336\ttotal: 501ms\tremaining: 2.67s\n",
      "158:\tlearn: 0.2629266\ttotal: 503ms\tremaining: 2.66s\n",
      "159:\tlearn: 0.2621388\ttotal: 504ms\tremaining: 2.65s\n",
      "160:\tlearn: 0.2616563\ttotal: 506ms\tremaining: 2.64s\n",
      "161:\tlearn: 0.2610479\ttotal: 508ms\tremaining: 2.63s\n",
      "162:\tlearn: 0.2606786\ttotal: 510ms\tremaining: 2.62s\n",
      "163:\tlearn: 0.2602434\ttotal: 512ms\tremaining: 2.61s\n",
      "164:\tlearn: 0.2596390\ttotal: 514ms\tremaining: 2.6s\n",
      "165:\tlearn: 0.2587618\ttotal: 516ms\tremaining: 2.59s\n",
      "166:\tlearn: 0.2584111\ttotal: 518ms\tremaining: 2.58s\n",
      "167:\tlearn: 0.2572352\ttotal: 520ms\tremaining: 2.58s\n",
      "168:\tlearn: 0.2562615\ttotal: 522ms\tremaining: 2.57s\n",
      "169:\tlearn: 0.2556986\ttotal: 524ms\tremaining: 2.56s\n",
      "170:\tlearn: 0.2552173\ttotal: 527ms\tremaining: 2.55s\n",
      "171:\tlearn: 0.2547914\ttotal: 528ms\tremaining: 2.54s\n",
      "172:\tlearn: 0.2544258\ttotal: 530ms\tremaining: 2.53s\n",
      "173:\tlearn: 0.2538506\ttotal: 532ms\tremaining: 2.52s\n",
      "174:\tlearn: 0.2531040\ttotal: 534ms\tremaining: 2.52s\n"
     ]
    },
    {
     "name": "stdout",
     "output_type": "stream",
     "text": [
      "175:\tlearn: 0.2525513\ttotal: 536ms\tremaining: 2.51s\n",
      "176:\tlearn: 0.2516853\ttotal: 538ms\tremaining: 2.5s\n",
      "177:\tlearn: 0.2512818\ttotal: 540ms\tremaining: 2.5s\n",
      "178:\tlearn: 0.2505600\ttotal: 543ms\tremaining: 2.49s\n",
      "179:\tlearn: 0.2500443\ttotal: 545ms\tremaining: 2.48s\n",
      "180:\tlearn: 0.2496893\ttotal: 547ms\tremaining: 2.48s\n",
      "181:\tlearn: 0.2488026\ttotal: 550ms\tremaining: 2.47s\n",
      "182:\tlearn: 0.2481652\ttotal: 552ms\tremaining: 2.46s\n",
      "183:\tlearn: 0.2476160\ttotal: 554ms\tremaining: 2.46s\n",
      "184:\tlearn: 0.2468087\ttotal: 556ms\tremaining: 2.45s\n",
      "185:\tlearn: 0.2461304\ttotal: 558ms\tremaining: 2.44s\n",
      "186:\tlearn: 0.2452796\ttotal: 560ms\tremaining: 2.44s\n",
      "187:\tlearn: 0.2444506\ttotal: 562ms\tremaining: 2.43s\n",
      "188:\tlearn: 0.2438741\ttotal: 564ms\tremaining: 2.42s\n",
      "189:\tlearn: 0.2435147\ttotal: 566ms\tremaining: 2.41s\n",
      "190:\tlearn: 0.2428462\ttotal: 568ms\tremaining: 2.41s\n",
      "191:\tlearn: 0.2423819\ttotal: 570ms\tremaining: 2.4s\n",
      "192:\tlearn: 0.2419081\ttotal: 572ms\tremaining: 2.39s\n",
      "193:\tlearn: 0.2414208\ttotal: 574ms\tremaining: 2.38s\n",
      "194:\tlearn: 0.2409565\ttotal: 576ms\tremaining: 2.38s\n",
      "195:\tlearn: 0.2405950\ttotal: 578ms\tremaining: 2.37s\n",
      "196:\tlearn: 0.2398529\ttotal: 580ms\tremaining: 2.36s\n",
      "197:\tlearn: 0.2393649\ttotal: 582ms\tremaining: 2.36s\n",
      "198:\tlearn: 0.2390439\ttotal: 584ms\tremaining: 2.35s\n",
      "199:\tlearn: 0.2385543\ttotal: 586ms\tremaining: 2.34s\n",
      "200:\tlearn: 0.2381588\ttotal: 587ms\tremaining: 2.33s\n",
      "201:\tlearn: 0.2373533\ttotal: 589ms\tremaining: 2.33s\n",
      "202:\tlearn: 0.2367156\ttotal: 591ms\tremaining: 2.32s\n",
      "203:\tlearn: 0.2361436\ttotal: 593ms\tremaining: 2.31s\n",
      "204:\tlearn: 0.2356872\ttotal: 595ms\tremaining: 2.31s\n",
      "205:\tlearn: 0.2350428\ttotal: 597ms\tremaining: 2.3s\n",
      "206:\tlearn: 0.2346972\ttotal: 599ms\tremaining: 2.3s\n",
      "207:\tlearn: 0.2342446\ttotal: 601ms\tremaining: 2.29s\n",
      "208:\tlearn: 0.2337365\ttotal: 604ms\tremaining: 2.28s\n",
      "209:\tlearn: 0.2332636\ttotal: 606ms\tremaining: 2.28s\n",
      "210:\tlearn: 0.2328935\ttotal: 608ms\tremaining: 2.27s\n",
      "211:\tlearn: 0.2323628\ttotal: 610ms\tremaining: 2.27s\n",
      "212:\tlearn: 0.2319890\ttotal: 612ms\tremaining: 2.26s\n",
      "213:\tlearn: 0.2317533\ttotal: 614ms\tremaining: 2.26s\n",
      "214:\tlearn: 0.2312115\ttotal: 616ms\tremaining: 2.25s\n",
      "215:\tlearn: 0.2306109\ttotal: 618ms\tremaining: 2.24s\n",
      "216:\tlearn: 0.2302105\ttotal: 620ms\tremaining: 2.24s\n",
      "217:\tlearn: 0.2295741\ttotal: 623ms\tremaining: 2.23s\n",
      "218:\tlearn: 0.2290781\ttotal: 624ms\tremaining: 2.23s\n",
      "219:\tlearn: 0.2287392\ttotal: 626ms\tremaining: 2.22s\n",
      "220:\tlearn: 0.2280726\ttotal: 628ms\tremaining: 2.21s\n",
      "221:\tlearn: 0.2275251\ttotal: 630ms\tremaining: 2.21s\n",
      "222:\tlearn: 0.2266859\ttotal: 632ms\tremaining: 2.2s\n",
      "223:\tlearn: 0.2259656\ttotal: 634ms\tremaining: 2.2s\n",
      "224:\tlearn: 0.2255596\ttotal: 636ms\tremaining: 2.19s\n",
      "225:\tlearn: 0.2248854\ttotal: 638ms\tremaining: 2.19s\n",
      "226:\tlearn: 0.2243753\ttotal: 641ms\tremaining: 2.18s\n",
      "227:\tlearn: 0.2236762\ttotal: 643ms\tremaining: 2.17s\n",
      "228:\tlearn: 0.2231279\ttotal: 645ms\tremaining: 2.17s\n",
      "229:\tlearn: 0.2226248\ttotal: 646ms\tremaining: 2.16s\n",
      "230:\tlearn: 0.2222068\ttotal: 648ms\tremaining: 2.16s\n",
      "231:\tlearn: 0.2215296\ttotal: 650ms\tremaining: 2.15s\n",
      "232:\tlearn: 0.2208208\ttotal: 653ms\tremaining: 2.15s\n",
      "233:\tlearn: 0.2204043\ttotal: 654ms\tremaining: 2.14s\n",
      "234:\tlearn: 0.2197517\ttotal: 656ms\tremaining: 2.14s\n",
      "235:\tlearn: 0.2193320\ttotal: 659ms\tremaining: 2.13s\n",
      "236:\tlearn: 0.2188897\ttotal: 660ms\tremaining: 2.13s\n",
      "237:\tlearn: 0.2185449\ttotal: 662ms\tremaining: 2.12s\n",
      "238:\tlearn: 0.2182253\ttotal: 664ms\tremaining: 2.11s\n",
      "239:\tlearn: 0.2175591\ttotal: 666ms\tremaining: 2.11s\n",
      "240:\tlearn: 0.2172501\ttotal: 668ms\tremaining: 2.1s\n",
      "241:\tlearn: 0.2169659\ttotal: 670ms\tremaining: 2.1s\n",
      "242:\tlearn: 0.2165391\ttotal: 672ms\tremaining: 2.09s\n",
      "243:\tlearn: 0.2158106\ttotal: 674ms\tremaining: 2.09s\n",
      "244:\tlearn: 0.2153377\ttotal: 676ms\tremaining: 2.08s\n",
      "245:\tlearn: 0.2150378\ttotal: 678ms\tremaining: 2.08s\n",
      "246:\tlearn: 0.2145502\ttotal: 680ms\tremaining: 2.07s\n",
      "247:\tlearn: 0.2140058\ttotal: 682ms\tremaining: 2.07s\n",
      "248:\tlearn: 0.2136462\ttotal: 684ms\tremaining: 2.06s\n",
      "249:\tlearn: 0.2131099\ttotal: 686ms\tremaining: 2.06s\n",
      "250:\tlearn: 0.2127320\ttotal: 688ms\tremaining: 2.05s\n",
      "251:\tlearn: 0.2123025\ttotal: 690ms\tremaining: 2.05s\n",
      "252:\tlearn: 0.2119050\ttotal: 692ms\tremaining: 2.04s\n",
      "253:\tlearn: 0.2115742\ttotal: 694ms\tremaining: 2.04s\n",
      "254:\tlearn: 0.2111118\ttotal: 696ms\tremaining: 2.03s\n",
      "255:\tlearn: 0.2104231\ttotal: 698ms\tremaining: 2.03s\n",
      "256:\tlearn: 0.2098105\ttotal: 700ms\tremaining: 2.02s\n",
      "257:\tlearn: 0.2094744\ttotal: 702ms\tremaining: 2.02s\n",
      "258:\tlearn: 0.2091181\ttotal: 704ms\tremaining: 2.01s\n",
      "259:\tlearn: 0.2088627\ttotal: 706ms\tremaining: 2.01s\n",
      "260:\tlearn: 0.2085498\ttotal: 708ms\tremaining: 2s\n",
      "261:\tlearn: 0.2082037\ttotal: 710ms\tremaining: 2s\n",
      "262:\tlearn: 0.2079357\ttotal: 712ms\tremaining: 2s\n",
      "263:\tlearn: 0.2075679\ttotal: 715ms\tremaining: 1.99s\n",
      "264:\tlearn: 0.2071894\ttotal: 717ms\tremaining: 1.99s\n",
      "265:\tlearn: 0.2069337\ttotal: 719ms\tremaining: 1.98s\n",
      "266:\tlearn: 0.2064849\ttotal: 721ms\tremaining: 1.98s\n",
      "267:\tlearn: 0.2061565\ttotal: 723ms\tremaining: 1.98s\n",
      "268:\tlearn: 0.2058041\ttotal: 725ms\tremaining: 1.97s\n",
      "269:\tlearn: 0.2055664\ttotal: 727ms\tremaining: 1.97s\n",
      "270:\tlearn: 0.2053178\ttotal: 730ms\tremaining: 1.96s\n",
      "271:\tlearn: 0.2048665\ttotal: 732ms\tremaining: 1.96s\n",
      "272:\tlearn: 0.2045686\ttotal: 734ms\tremaining: 1.96s\n",
      "273:\tlearn: 0.2042913\ttotal: 737ms\tremaining: 1.95s\n",
      "274:\tlearn: 0.2039214\ttotal: 739ms\tremaining: 1.95s\n",
      "275:\tlearn: 0.2035650\ttotal: 741ms\tremaining: 1.94s\n",
      "276:\tlearn: 0.2031033\ttotal: 743ms\tremaining: 1.94s\n",
      "277:\tlearn: 0.2027569\ttotal: 745ms\tremaining: 1.93s\n",
      "278:\tlearn: 0.2022389\ttotal: 746ms\tremaining: 1.93s\n",
      "279:\tlearn: 0.2019210\ttotal: 749ms\tremaining: 1.93s\n",
      "280:\tlearn: 0.2014952\ttotal: 751ms\tremaining: 1.92s\n",
      "281:\tlearn: 0.2011293\ttotal: 753ms\tremaining: 1.92s\n",
      "282:\tlearn: 0.2007578\ttotal: 755ms\tremaining: 1.91s\n",
      "283:\tlearn: 0.2003887\ttotal: 756ms\tremaining: 1.91s\n",
      "284:\tlearn: 0.2001175\ttotal: 759ms\tremaining: 1.9s\n",
      "285:\tlearn: 0.1996862\ttotal: 761ms\tremaining: 1.9s\n",
      "286:\tlearn: 0.1992105\ttotal: 763ms\tremaining: 1.9s\n",
      "287:\tlearn: 0.1984174\ttotal: 765ms\tremaining: 1.89s\n",
      "288:\tlearn: 0.1981366\ttotal: 768ms\tremaining: 1.89s\n",
      "289:\tlearn: 0.1977249\ttotal: 770ms\tremaining: 1.88s\n",
      "290:\tlearn: 0.1971207\ttotal: 772ms\tremaining: 1.88s\n",
      "291:\tlearn: 0.1966980\ttotal: 774ms\tremaining: 1.88s\n",
      "292:\tlearn: 0.1963772\ttotal: 776ms\tremaining: 1.87s\n",
      "293:\tlearn: 0.1959565\ttotal: 778ms\tremaining: 1.87s\n",
      "294:\tlearn: 0.1957612\ttotal: 780ms\tremaining: 1.86s\n",
      "295:\tlearn: 0.1954210\ttotal: 783ms\tremaining: 1.86s\n",
      "296:\tlearn: 0.1950692\ttotal: 785ms\tremaining: 1.86s\n",
      "297:\tlearn: 0.1947251\ttotal: 787ms\tremaining: 1.85s\n",
      "298:\tlearn: 0.1943305\ttotal: 789ms\tremaining: 1.85s\n",
      "299:\tlearn: 0.1937834\ttotal: 791ms\tremaining: 1.84s\n",
      "300:\tlearn: 0.1935463\ttotal: 793ms\tremaining: 1.84s\n",
      "301:\tlearn: 0.1932869\ttotal: 795ms\tremaining: 1.84s\n",
      "302:\tlearn: 0.1929251\ttotal: 797ms\tremaining: 1.83s\n",
      "303:\tlearn: 0.1924671\ttotal: 799ms\tremaining: 1.83s\n",
      "304:\tlearn: 0.1920279\ttotal: 801ms\tremaining: 1.83s\n",
      "305:\tlearn: 0.1916955\ttotal: 803ms\tremaining: 1.82s\n",
      "306:\tlearn: 0.1913175\ttotal: 805ms\tremaining: 1.82s\n",
      "307:\tlearn: 0.1908150\ttotal: 807ms\tremaining: 1.81s\n",
      "308:\tlearn: 0.1904685\ttotal: 809ms\tremaining: 1.81s\n",
      "309:\tlearn: 0.1901483\ttotal: 811ms\tremaining: 1.8s\n",
      "310:\tlearn: 0.1898339\ttotal: 813ms\tremaining: 1.8s\n",
      "311:\tlearn: 0.1894083\ttotal: 815ms\tremaining: 1.8s\n",
      "312:\tlearn: 0.1891465\ttotal: 817ms\tremaining: 1.79s\n",
      "313:\tlearn: 0.1888090\ttotal: 819ms\tremaining: 1.79s\n",
      "314:\tlearn: 0.1883897\ttotal: 821ms\tremaining: 1.78s\n",
      "315:\tlearn: 0.1881108\ttotal: 823ms\tremaining: 1.78s\n",
      "316:\tlearn: 0.1878895\ttotal: 824ms\tremaining: 1.78s\n",
      "317:\tlearn: 0.1875991\ttotal: 826ms\tremaining: 1.77s\n",
      "318:\tlearn: 0.1871170\ttotal: 829ms\tremaining: 1.77s\n",
      "319:\tlearn: 0.1867271\ttotal: 831ms\tremaining: 1.76s\n",
      "320:\tlearn: 0.1863357\ttotal: 833ms\tremaining: 1.76s\n",
      "321:\tlearn: 0.1860228\ttotal: 834ms\tremaining: 1.76s\n",
      "322:\tlearn: 0.1857056\ttotal: 836ms\tremaining: 1.75s\n",
      "323:\tlearn: 0.1855561\ttotal: 838ms\tremaining: 1.75s\n",
      "324:\tlearn: 0.1852667\ttotal: 840ms\tremaining: 1.74s\n",
      "325:\tlearn: 0.1850049\ttotal: 842ms\tremaining: 1.74s\n",
      "326:\tlearn: 0.1846312\ttotal: 844ms\tremaining: 1.74s\n",
      "327:\tlearn: 0.1844696\ttotal: 846ms\tremaining: 1.73s\n",
      "328:\tlearn: 0.1840797\ttotal: 848ms\tremaining: 1.73s\n",
      "329:\tlearn: 0.1838445\ttotal: 850ms\tremaining: 1.73s\n",
      "330:\tlearn: 0.1835314\ttotal: 852ms\tremaining: 1.72s\n",
      "331:\tlearn: 0.1830843\ttotal: 854ms\tremaining: 1.72s\n",
      "332:\tlearn: 0.1828550\ttotal: 856ms\tremaining: 1.71s\n",
      "333:\tlearn: 0.1824587\ttotal: 858ms\tremaining: 1.71s\n",
      "334:\tlearn: 0.1821479\ttotal: 860ms\tremaining: 1.71s\n",
      "335:\tlearn: 0.1818582\ttotal: 862ms\tremaining: 1.7s\n",
      "336:\tlearn: 0.1816159\ttotal: 864ms\tremaining: 1.7s\n",
      "337:\tlearn: 0.1811387\ttotal: 866ms\tremaining: 1.7s\n",
      "338:\tlearn: 0.1807168\ttotal: 868ms\tremaining: 1.69s\n",
      "339:\tlearn: 0.1803444\ttotal: 870ms\tremaining: 1.69s\n",
      "340:\tlearn: 0.1800739\ttotal: 872ms\tremaining: 1.68s\n",
      "341:\tlearn: 0.1797887\ttotal: 874ms\tremaining: 1.68s\n",
      "342:\tlearn: 0.1793776\ttotal: 876ms\tremaining: 1.68s\n",
      "343:\tlearn: 0.1790289\ttotal: 878ms\tremaining: 1.67s\n",
      "344:\tlearn: 0.1787853\ttotal: 880ms\tremaining: 1.67s\n",
      "345:\tlearn: 0.1785664\ttotal: 881ms\tremaining: 1.67s\n",
      "346:\tlearn: 0.1782895\ttotal: 883ms\tremaining: 1.66s\n",
      "347:\tlearn: 0.1779111\ttotal: 885ms\tremaining: 1.66s\n",
      "348:\tlearn: 0.1777017\ttotal: 887ms\tremaining: 1.65s\n",
      "349:\tlearn: 0.1772918\ttotal: 889ms\tremaining: 1.65s\n",
      "350:\tlearn: 0.1771097\ttotal: 891ms\tremaining: 1.65s\n",
      "351:\tlearn: 0.1769130\ttotal: 893ms\tremaining: 1.64s\n",
      "352:\tlearn: 0.1766140\ttotal: 895ms\tremaining: 1.64s\n",
      "353:\tlearn: 0.1761642\ttotal: 897ms\tremaining: 1.64s\n",
      "354:\tlearn: 0.1758111\ttotal: 899ms\tremaining: 1.63s\n",
      "355:\tlearn: 0.1755583\ttotal: 901ms\tremaining: 1.63s\n",
      "356:\tlearn: 0.1753494\ttotal: 903ms\tremaining: 1.63s\n",
      "357:\tlearn: 0.1750170\ttotal: 905ms\tremaining: 1.62s\n",
      "358:\tlearn: 0.1748745\ttotal: 907ms\tremaining: 1.62s\n",
      "359:\tlearn: 0.1746230\ttotal: 909ms\tremaining: 1.62s\n",
      "360:\tlearn: 0.1744069\ttotal: 911ms\tremaining: 1.61s\n",
      "361:\tlearn: 0.1742765\ttotal: 913ms\tremaining: 1.61s\n",
      "362:\tlearn: 0.1739345\ttotal: 915ms\tremaining: 1.61s\n",
      "363:\tlearn: 0.1735786\ttotal: 917ms\tremaining: 1.6s\n",
      "364:\tlearn: 0.1732402\ttotal: 919ms\tremaining: 1.6s\n",
      "365:\tlearn: 0.1728967\ttotal: 921ms\tremaining: 1.6s\n",
      "366:\tlearn: 0.1726759\ttotal: 923ms\tremaining: 1.59s\n",
      "367:\tlearn: 0.1724426\ttotal: 926ms\tremaining: 1.59s\n",
      "368:\tlearn: 0.1721815\ttotal: 928ms\tremaining: 1.59s\n",
      "369:\tlearn: 0.1719057\ttotal: 930ms\tremaining: 1.58s\n",
      "370:\tlearn: 0.1715910\ttotal: 931ms\tremaining: 1.58s\n"
     ]
    },
    {
     "name": "stdout",
     "output_type": "stream",
     "text": [
      "371:\tlearn: 0.1713573\ttotal: 934ms\tremaining: 1.58s\n",
      "372:\tlearn: 0.1711463\ttotal: 936ms\tremaining: 1.57s\n",
      "373:\tlearn: 0.1709715\ttotal: 938ms\tremaining: 1.57s\n",
      "374:\tlearn: 0.1707466\ttotal: 940ms\tremaining: 1.57s\n",
      "375:\tlearn: 0.1705835\ttotal: 942ms\tremaining: 1.56s\n",
      "376:\tlearn: 0.1702290\ttotal: 944ms\tremaining: 1.56s\n",
      "377:\tlearn: 0.1697406\ttotal: 946ms\tremaining: 1.55s\n",
      "378:\tlearn: 0.1693761\ttotal: 948ms\tremaining: 1.55s\n",
      "379:\tlearn: 0.1690442\ttotal: 950ms\tremaining: 1.55s\n",
      "380:\tlearn: 0.1686680\ttotal: 952ms\tremaining: 1.55s\n",
      "381:\tlearn: 0.1683715\ttotal: 954ms\tremaining: 1.54s\n",
      "382:\tlearn: 0.1681745\ttotal: 956ms\tremaining: 1.54s\n",
      "383:\tlearn: 0.1679383\ttotal: 958ms\tremaining: 1.54s\n",
      "384:\tlearn: 0.1676266\ttotal: 960ms\tremaining: 1.53s\n",
      "385:\tlearn: 0.1671586\ttotal: 963ms\tremaining: 1.53s\n",
      "386:\tlearn: 0.1670569\ttotal: 965ms\tremaining: 1.53s\n",
      "387:\tlearn: 0.1667351\ttotal: 967ms\tremaining: 1.52s\n",
      "388:\tlearn: 0.1662615\ttotal: 969ms\tremaining: 1.52s\n",
      "389:\tlearn: 0.1660886\ttotal: 971ms\tremaining: 1.52s\n",
      "390:\tlearn: 0.1657784\ttotal: 973ms\tremaining: 1.51s\n",
      "391:\tlearn: 0.1654274\ttotal: 975ms\tremaining: 1.51s\n",
      "392:\tlearn: 0.1651293\ttotal: 977ms\tremaining: 1.51s\n",
      "393:\tlearn: 0.1647760\ttotal: 980ms\tremaining: 1.51s\n",
      "394:\tlearn: 0.1644994\ttotal: 982ms\tremaining: 1.5s\n",
      "395:\tlearn: 0.1642997\ttotal: 985ms\tremaining: 1.5s\n",
      "396:\tlearn: 0.1641049\ttotal: 987ms\tremaining: 1.5s\n",
      "397:\tlearn: 0.1637193\ttotal: 989ms\tremaining: 1.5s\n",
      "398:\tlearn: 0.1634966\ttotal: 991ms\tremaining: 1.49s\n",
      "399:\tlearn: 0.1632774\ttotal: 993ms\tremaining: 1.49s\n",
      "400:\tlearn: 0.1629396\ttotal: 995ms\tremaining: 1.49s\n",
      "401:\tlearn: 0.1627371\ttotal: 997ms\tremaining: 1.48s\n",
      "402:\tlearn: 0.1622906\ttotal: 999ms\tremaining: 1.48s\n",
      "403:\tlearn: 0.1620706\ttotal: 1s\tremaining: 1.48s\n",
      "404:\tlearn: 0.1616092\ttotal: 1s\tremaining: 1.47s\n",
      "405:\tlearn: 0.1613356\ttotal: 1s\tremaining: 1.47s\n",
      "406:\tlearn: 0.1609407\ttotal: 1.01s\tremaining: 1.47s\n",
      "407:\tlearn: 0.1606368\ttotal: 1.01s\tremaining: 1.46s\n",
      "408:\tlearn: 0.1603997\ttotal: 1.01s\tremaining: 1.46s\n",
      "409:\tlearn: 0.1602646\ttotal: 1.01s\tremaining: 1.46s\n",
      "410:\tlearn: 0.1600282\ttotal: 1.01s\tremaining: 1.46s\n",
      "411:\tlearn: 0.1598180\ttotal: 1.02s\tremaining: 1.45s\n",
      "412:\tlearn: 0.1595015\ttotal: 1.02s\tremaining: 1.45s\n",
      "413:\tlearn: 0.1592587\ttotal: 1.02s\tremaining: 1.45s\n",
      "414:\tlearn: 0.1590642\ttotal: 1.02s\tremaining: 1.44s\n",
      "415:\tlearn: 0.1589824\ttotal: 1.02s\tremaining: 1.44s\n",
      "416:\tlearn: 0.1586918\ttotal: 1.03s\tremaining: 1.44s\n",
      "417:\tlearn: 0.1583716\ttotal: 1.03s\tremaining: 1.43s\n",
      "418:\tlearn: 0.1577084\ttotal: 1.03s\tremaining: 1.43s\n",
      "419:\tlearn: 0.1573820\ttotal: 1.03s\tremaining: 1.43s\n",
      "420:\tlearn: 0.1570003\ttotal: 1.03s\tremaining: 1.42s\n",
      "421:\tlearn: 0.1566160\ttotal: 1.04s\tremaining: 1.42s\n",
      "422:\tlearn: 0.1563622\ttotal: 1.04s\tremaining: 1.42s\n",
      "423:\tlearn: 0.1560830\ttotal: 1.04s\tremaining: 1.42s\n",
      "424:\tlearn: 0.1558005\ttotal: 1.04s\tremaining: 1.41s\n",
      "425:\tlearn: 0.1555968\ttotal: 1.04s\tremaining: 1.41s\n",
      "426:\tlearn: 0.1553376\ttotal: 1.05s\tremaining: 1.41s\n",
      "427:\tlearn: 0.1550378\ttotal: 1.05s\tremaining: 1.4s\n",
      "428:\tlearn: 0.1548524\ttotal: 1.05s\tremaining: 1.4s\n",
      "429:\tlearn: 0.1545797\ttotal: 1.05s\tremaining: 1.4s\n",
      "430:\tlearn: 0.1545075\ttotal: 1.05s\tremaining: 1.39s\n",
      "431:\tlearn: 0.1542014\ttotal: 1.06s\tremaining: 1.39s\n",
      "432:\tlearn: 0.1539460\ttotal: 1.06s\tremaining: 1.39s\n",
      "433:\tlearn: 0.1537567\ttotal: 1.06s\tremaining: 1.38s\n",
      "434:\tlearn: 0.1535169\ttotal: 1.06s\tremaining: 1.38s\n",
      "435:\tlearn: 0.1531716\ttotal: 1.06s\tremaining: 1.38s\n",
      "436:\tlearn: 0.1528516\ttotal: 1.07s\tremaining: 1.38s\n",
      "437:\tlearn: 0.1525400\ttotal: 1.07s\tremaining: 1.37s\n",
      "438:\tlearn: 0.1522997\ttotal: 1.07s\tremaining: 1.37s\n",
      "439:\tlearn: 0.1519855\ttotal: 1.07s\tremaining: 1.37s\n",
      "440:\tlearn: 0.1518519\ttotal: 1.07s\tremaining: 1.36s\n",
      "441:\tlearn: 0.1515756\ttotal: 1.08s\tremaining: 1.36s\n",
      "442:\tlearn: 0.1512912\ttotal: 1.08s\tremaining: 1.36s\n",
      "443:\tlearn: 0.1511072\ttotal: 1.08s\tremaining: 1.35s\n",
      "444:\tlearn: 0.1508082\ttotal: 1.08s\tremaining: 1.35s\n",
      "445:\tlearn: 0.1505162\ttotal: 1.08s\tremaining: 1.35s\n",
      "446:\tlearn: 0.1502684\ttotal: 1.09s\tremaining: 1.34s\n",
      "447:\tlearn: 0.1499820\ttotal: 1.09s\tremaining: 1.34s\n",
      "448:\tlearn: 0.1497461\ttotal: 1.09s\tremaining: 1.34s\n",
      "449:\tlearn: 0.1494292\ttotal: 1.09s\tremaining: 1.34s\n",
      "450:\tlearn: 0.1493169\ttotal: 1.09s\tremaining: 1.33s\n",
      "451:\tlearn: 0.1491175\ttotal: 1.1s\tremaining: 1.33s\n",
      "452:\tlearn: 0.1486887\ttotal: 1.1s\tremaining: 1.33s\n",
      "453:\tlearn: 0.1484750\ttotal: 1.1s\tremaining: 1.32s\n",
      "454:\tlearn: 0.1482783\ttotal: 1.1s\tremaining: 1.32s\n",
      "455:\tlearn: 0.1479967\ttotal: 1.11s\tremaining: 1.32s\n",
      "456:\tlearn: 0.1476557\ttotal: 1.11s\tremaining: 1.32s\n",
      "457:\tlearn: 0.1474225\ttotal: 1.11s\tremaining: 1.31s\n",
      "458:\tlearn: 0.1472002\ttotal: 1.11s\tremaining: 1.31s\n",
      "459:\tlearn: 0.1469615\ttotal: 1.11s\tremaining: 1.31s\n",
      "460:\tlearn: 0.1467342\ttotal: 1.11s\tremaining: 1.3s\n",
      "461:\tlearn: 0.1466392\ttotal: 1.12s\tremaining: 1.3s\n",
      "462:\tlearn: 0.1464272\ttotal: 1.12s\tremaining: 1.3s\n",
      "463:\tlearn: 0.1462270\ttotal: 1.12s\tremaining: 1.29s\n",
      "464:\tlearn: 0.1458641\ttotal: 1.12s\tremaining: 1.29s\n",
      "465:\tlearn: 0.1456450\ttotal: 1.12s\tremaining: 1.29s\n",
      "466:\tlearn: 0.1453005\ttotal: 1.13s\tremaining: 1.29s\n",
      "467:\tlearn: 0.1450026\ttotal: 1.13s\tremaining: 1.28s\n",
      "468:\tlearn: 0.1447394\ttotal: 1.13s\tremaining: 1.28s\n",
      "469:\tlearn: 0.1444171\ttotal: 1.13s\tremaining: 1.28s\n",
      "470:\tlearn: 0.1440834\ttotal: 1.14s\tremaining: 1.27s\n",
      "471:\tlearn: 0.1439665\ttotal: 1.14s\tremaining: 1.27s\n",
      "472:\tlearn: 0.1435907\ttotal: 1.14s\tremaining: 1.27s\n",
      "473:\tlearn: 0.1433598\ttotal: 1.14s\tremaining: 1.27s\n",
      "474:\tlearn: 0.1430716\ttotal: 1.14s\tremaining: 1.26s\n",
      "475:\tlearn: 0.1428695\ttotal: 1.15s\tremaining: 1.26s\n",
      "476:\tlearn: 0.1425374\ttotal: 1.15s\tremaining: 1.26s\n",
      "477:\tlearn: 0.1421439\ttotal: 1.15s\tremaining: 1.25s\n",
      "478:\tlearn: 0.1419371\ttotal: 1.15s\tremaining: 1.25s\n",
      "479:\tlearn: 0.1417285\ttotal: 1.15s\tremaining: 1.25s\n",
      "480:\tlearn: 0.1415542\ttotal: 1.16s\tremaining: 1.25s\n",
      "481:\tlearn: 0.1413288\ttotal: 1.16s\tremaining: 1.25s\n",
      "482:\tlearn: 0.1412037\ttotal: 1.16s\tremaining: 1.24s\n",
      "483:\tlearn: 0.1409438\ttotal: 1.16s\tremaining: 1.24s\n",
      "484:\tlearn: 0.1407682\ttotal: 1.16s\tremaining: 1.24s\n",
      "485:\tlearn: 0.1405052\ttotal: 1.17s\tremaining: 1.23s\n",
      "486:\tlearn: 0.1403010\ttotal: 1.17s\tremaining: 1.23s\n",
      "487:\tlearn: 0.1401613\ttotal: 1.17s\tremaining: 1.23s\n",
      "488:\tlearn: 0.1399368\ttotal: 1.17s\tremaining: 1.23s\n",
      "489:\tlearn: 0.1396269\ttotal: 1.18s\tremaining: 1.22s\n",
      "490:\tlearn: 0.1393553\ttotal: 1.18s\tremaining: 1.22s\n",
      "491:\tlearn: 0.1390368\ttotal: 1.18s\tremaining: 1.22s\n",
      "492:\tlearn: 0.1387739\ttotal: 1.18s\tremaining: 1.21s\n",
      "493:\tlearn: 0.1385833\ttotal: 1.18s\tremaining: 1.21s\n",
      "494:\tlearn: 0.1382072\ttotal: 1.19s\tremaining: 1.21s\n",
      "495:\tlearn: 0.1379170\ttotal: 1.19s\tremaining: 1.21s\n",
      "496:\tlearn: 0.1377445\ttotal: 1.19s\tremaining: 1.2s\n",
      "497:\tlearn: 0.1374050\ttotal: 1.19s\tremaining: 1.2s\n",
      "498:\tlearn: 0.1371057\ttotal: 1.19s\tremaining: 1.2s\n",
      "499:\tlearn: 0.1369481\ttotal: 1.2s\tremaining: 1.2s\n",
      "500:\tlearn: 0.1367664\ttotal: 1.2s\tremaining: 1.19s\n",
      "501:\tlearn: 0.1364171\ttotal: 1.2s\tremaining: 1.19s\n",
      "502:\tlearn: 0.1362288\ttotal: 1.2s\tremaining: 1.19s\n",
      "503:\tlearn: 0.1358847\ttotal: 1.2s\tremaining: 1.19s\n",
      "504:\tlearn: 0.1357627\ttotal: 1.21s\tremaining: 1.18s\n",
      "505:\tlearn: 0.1355355\ttotal: 1.21s\tremaining: 1.18s\n",
      "506:\tlearn: 0.1353006\ttotal: 1.21s\tremaining: 1.18s\n",
      "507:\tlearn: 0.1350262\ttotal: 1.21s\tremaining: 1.17s\n",
      "508:\tlearn: 0.1348267\ttotal: 1.21s\tremaining: 1.17s\n",
      "509:\tlearn: 0.1345350\ttotal: 1.22s\tremaining: 1.17s\n",
      "510:\tlearn: 0.1341929\ttotal: 1.22s\tremaining: 1.17s\n",
      "511:\tlearn: 0.1337883\ttotal: 1.22s\tremaining: 1.16s\n",
      "512:\tlearn: 0.1335841\ttotal: 1.22s\tremaining: 1.16s\n",
      "513:\tlearn: 0.1332898\ttotal: 1.22s\tremaining: 1.16s\n",
      "514:\tlearn: 0.1329713\ttotal: 1.23s\tremaining: 1.16s\n",
      "515:\tlearn: 0.1327923\ttotal: 1.23s\tremaining: 1.15s\n",
      "516:\tlearn: 0.1325400\ttotal: 1.23s\tremaining: 1.15s\n",
      "517:\tlearn: 0.1322978\ttotal: 1.24s\tremaining: 1.15s\n",
      "518:\tlearn: 0.1320329\ttotal: 1.24s\tremaining: 1.15s\n",
      "519:\tlearn: 0.1317339\ttotal: 1.25s\tremaining: 1.15s\n",
      "520:\tlearn: 0.1315677\ttotal: 1.25s\tremaining: 1.15s\n",
      "521:\tlearn: 0.1314366\ttotal: 1.25s\tremaining: 1.15s\n",
      "522:\tlearn: 0.1312361\ttotal: 1.26s\tremaining: 1.15s\n",
      "523:\tlearn: 0.1309313\ttotal: 1.26s\tremaining: 1.15s\n",
      "524:\tlearn: 0.1306383\ttotal: 1.26s\tremaining: 1.15s\n",
      "525:\tlearn: 0.1304349\ttotal: 1.27s\tremaining: 1.14s\n",
      "526:\tlearn: 0.1302180\ttotal: 1.27s\tremaining: 1.14s\n",
      "527:\tlearn: 0.1298673\ttotal: 1.28s\tremaining: 1.14s\n",
      "528:\tlearn: 0.1295983\ttotal: 1.28s\tremaining: 1.14s\n",
      "529:\tlearn: 0.1294572\ttotal: 1.28s\tremaining: 1.14s\n",
      "530:\tlearn: 0.1291611\ttotal: 1.29s\tremaining: 1.14s\n",
      "531:\tlearn: 0.1289042\ttotal: 1.29s\tremaining: 1.14s\n",
      "532:\tlearn: 0.1286766\ttotal: 1.29s\tremaining: 1.13s\n",
      "533:\tlearn: 0.1282955\ttotal: 1.3s\tremaining: 1.13s\n",
      "534:\tlearn: 0.1281368\ttotal: 1.3s\tremaining: 1.13s\n",
      "535:\tlearn: 0.1279227\ttotal: 1.3s\tremaining: 1.13s\n",
      "536:\tlearn: 0.1277370\ttotal: 1.31s\tremaining: 1.13s\n",
      "537:\tlearn: 0.1275600\ttotal: 1.31s\tremaining: 1.13s\n",
      "538:\tlearn: 0.1272393\ttotal: 1.31s\tremaining: 1.12s\n",
      "539:\tlearn: 0.1269885\ttotal: 1.32s\tremaining: 1.12s\n"
     ]
    },
    {
     "name": "stdout",
     "output_type": "stream",
     "text": [
      "540:\tlearn: 0.1267977\ttotal: 1.32s\tremaining: 1.12s\n",
      "541:\tlearn: 0.1266716\ttotal: 1.32s\tremaining: 1.12s\n",
      "542:\tlearn: 0.1265456\ttotal: 1.33s\tremaining: 1.12s\n",
      "543:\tlearn: 0.1263185\ttotal: 1.33s\tremaining: 1.12s\n",
      "544:\tlearn: 0.1261041\ttotal: 1.33s\tremaining: 1.11s\n",
      "545:\tlearn: 0.1259427\ttotal: 1.34s\tremaining: 1.11s\n",
      "546:\tlearn: 0.1258272\ttotal: 1.34s\tremaining: 1.11s\n",
      "547:\tlearn: 0.1256772\ttotal: 1.34s\tremaining: 1.11s\n",
      "548:\tlearn: 0.1254599\ttotal: 1.35s\tremaining: 1.11s\n",
      "549:\tlearn: 0.1252330\ttotal: 1.35s\tremaining: 1.11s\n",
      "550:\tlearn: 0.1250951\ttotal: 1.35s\tremaining: 1.1s\n",
      "551:\tlearn: 0.1248231\ttotal: 1.36s\tremaining: 1.1s\n",
      "552:\tlearn: 0.1246984\ttotal: 1.36s\tremaining: 1.1s\n",
      "553:\tlearn: 0.1245620\ttotal: 1.36s\tremaining: 1.1s\n",
      "554:\tlearn: 0.1243243\ttotal: 1.37s\tremaining: 1.1s\n",
      "555:\tlearn: 0.1240776\ttotal: 1.37s\tremaining: 1.1s\n",
      "556:\tlearn: 0.1239569\ttotal: 1.38s\tremaining: 1.09s\n",
      "557:\tlearn: 0.1237324\ttotal: 1.38s\tremaining: 1.09s\n",
      "558:\tlearn: 0.1235543\ttotal: 1.38s\tremaining: 1.09s\n",
      "559:\tlearn: 0.1233939\ttotal: 1.39s\tremaining: 1.09s\n",
      "560:\tlearn: 0.1232173\ttotal: 1.39s\tremaining: 1.09s\n",
      "561:\tlearn: 0.1229371\ttotal: 1.39s\tremaining: 1.09s\n",
      "562:\tlearn: 0.1228414\ttotal: 1.4s\tremaining: 1.08s\n",
      "563:\tlearn: 0.1226651\ttotal: 1.4s\tremaining: 1.08s\n",
      "564:\tlearn: 0.1224991\ttotal: 1.4s\tremaining: 1.08s\n",
      "565:\tlearn: 0.1223388\ttotal: 1.41s\tremaining: 1.08s\n",
      "566:\tlearn: 0.1221152\ttotal: 1.41s\tremaining: 1.08s\n",
      "567:\tlearn: 0.1219870\ttotal: 1.41s\tremaining: 1.07s\n",
      "568:\tlearn: 0.1218699\ttotal: 1.42s\tremaining: 1.07s\n",
      "569:\tlearn: 0.1216476\ttotal: 1.42s\tremaining: 1.07s\n",
      "570:\tlearn: 0.1214171\ttotal: 1.43s\tremaining: 1.07s\n",
      "571:\tlearn: 0.1212782\ttotal: 1.43s\tremaining: 1.07s\n",
      "572:\tlearn: 0.1210726\ttotal: 1.43s\tremaining: 1.07s\n",
      "573:\tlearn: 0.1209222\ttotal: 1.44s\tremaining: 1.06s\n",
      "574:\tlearn: 0.1207247\ttotal: 1.44s\tremaining: 1.06s\n",
      "575:\tlearn: 0.1205641\ttotal: 1.44s\tremaining: 1.06s\n",
      "576:\tlearn: 0.1204016\ttotal: 1.45s\tremaining: 1.06s\n",
      "577:\tlearn: 0.1200599\ttotal: 1.45s\tremaining: 1.06s\n",
      "578:\tlearn: 0.1199061\ttotal: 1.45s\tremaining: 1.06s\n",
      "579:\tlearn: 0.1197483\ttotal: 1.46s\tremaining: 1.05s\n",
      "580:\tlearn: 0.1195332\ttotal: 1.46s\tremaining: 1.05s\n",
      "581:\tlearn: 0.1193461\ttotal: 1.46s\tremaining: 1.05s\n",
      "582:\tlearn: 0.1191130\ttotal: 1.47s\tremaining: 1.05s\n",
      "583:\tlearn: 0.1187688\ttotal: 1.47s\tremaining: 1.05s\n",
      "584:\tlearn: 0.1185100\ttotal: 1.48s\tremaining: 1.05s\n",
      "585:\tlearn: 0.1183487\ttotal: 1.48s\tremaining: 1.04s\n",
      "586:\tlearn: 0.1181826\ttotal: 1.48s\tremaining: 1.04s\n",
      "587:\tlearn: 0.1179155\ttotal: 1.49s\tremaining: 1.04s\n",
      "588:\tlearn: 0.1176457\ttotal: 1.49s\tremaining: 1.04s\n",
      "589:\tlearn: 0.1174061\ttotal: 1.49s\tremaining: 1.04s\n",
      "590:\tlearn: 0.1172101\ttotal: 1.5s\tremaining: 1.03s\n",
      "591:\tlearn: 0.1170488\ttotal: 1.5s\tremaining: 1.03s\n",
      "592:\tlearn: 0.1169230\ttotal: 1.5s\tremaining: 1.03s\n",
      "593:\tlearn: 0.1168039\ttotal: 1.51s\tremaining: 1.03s\n",
      "594:\tlearn: 0.1166925\ttotal: 1.51s\tremaining: 1.03s\n",
      "595:\tlearn: 0.1165405\ttotal: 1.51s\tremaining: 1.03s\n",
      "596:\tlearn: 0.1163351\ttotal: 1.52s\tremaining: 1.02s\n",
      "597:\tlearn: 0.1161613\ttotal: 1.52s\tremaining: 1.02s\n",
      "598:\tlearn: 0.1159934\ttotal: 1.52s\tremaining: 1.02s\n",
      "599:\tlearn: 0.1158342\ttotal: 1.53s\tremaining: 1.02s\n",
      "600:\tlearn: 0.1155943\ttotal: 1.53s\tremaining: 1.02s\n",
      "601:\tlearn: 0.1154459\ttotal: 1.53s\tremaining: 1.01s\n",
      "602:\tlearn: 0.1152233\ttotal: 1.54s\tremaining: 1.01s\n",
      "603:\tlearn: 0.1150514\ttotal: 1.54s\tremaining: 1.01s\n",
      "604:\tlearn: 0.1148792\ttotal: 1.55s\tremaining: 1.01s\n",
      "605:\tlearn: 0.1146303\ttotal: 1.55s\tremaining: 1.01s\n",
      "606:\tlearn: 0.1145267\ttotal: 1.55s\tremaining: 1s\n",
      "607:\tlearn: 0.1142360\ttotal: 1.56s\tremaining: 1s\n",
      "608:\tlearn: 0.1141377\ttotal: 1.56s\tremaining: 1s\n",
      "609:\tlearn: 0.1139818\ttotal: 1.56s\tremaining: 1000ms\n",
      "610:\tlearn: 0.1137031\ttotal: 1.57s\tremaining: 998ms\n",
      "611:\tlearn: 0.1135036\ttotal: 1.57s\tremaining: 996ms\n",
      "612:\tlearn: 0.1133399\ttotal: 1.57s\tremaining: 994ms\n",
      "613:\tlearn: 0.1132193\ttotal: 1.58s\tremaining: 992ms\n",
      "614:\tlearn: 0.1129455\ttotal: 1.58s\tremaining: 990ms\n",
      "615:\tlearn: 0.1128176\ttotal: 1.58s\tremaining: 988ms\n",
      "616:\tlearn: 0.1126034\ttotal: 1.59s\tremaining: 986ms\n",
      "617:\tlearn: 0.1124921\ttotal: 1.59s\tremaining: 984ms\n",
      "618:\tlearn: 0.1123439\ttotal: 1.59s\tremaining: 982ms\n",
      "619:\tlearn: 0.1121643\ttotal: 1.6s\tremaining: 980ms\n",
      "620:\tlearn: 0.1120599\ttotal: 1.6s\tremaining: 978ms\n",
      "621:\tlearn: 0.1118712\ttotal: 1.6s\tremaining: 975ms\n",
      "622:\tlearn: 0.1116083\ttotal: 1.61s\tremaining: 973ms\n",
      "623:\tlearn: 0.1113831\ttotal: 1.61s\tremaining: 971ms\n",
      "624:\tlearn: 0.1112404\ttotal: 1.61s\tremaining: 969ms\n",
      "625:\tlearn: 0.1111161\ttotal: 1.62s\tremaining: 967ms\n",
      "626:\tlearn: 0.1109174\ttotal: 1.62s\tremaining: 965ms\n",
      "627:\tlearn: 0.1107796\ttotal: 1.63s\tremaining: 963ms\n",
      "628:\tlearn: 0.1105717\ttotal: 1.63s\tremaining: 961ms\n",
      "629:\tlearn: 0.1105028\ttotal: 1.63s\tremaining: 959ms\n",
      "630:\tlearn: 0.1102438\ttotal: 1.64s\tremaining: 957ms\n",
      "631:\tlearn: 0.1100873\ttotal: 1.64s\tremaining: 955ms\n",
      "632:\tlearn: 0.1099794\ttotal: 1.64s\tremaining: 952ms\n",
      "633:\tlearn: 0.1097521\ttotal: 1.65s\tremaining: 950ms\n",
      "634:\tlearn: 0.1096119\ttotal: 1.65s\tremaining: 948ms\n",
      "635:\tlearn: 0.1094404\ttotal: 1.65s\tremaining: 946ms\n",
      "636:\tlearn: 0.1091633\ttotal: 1.66s\tremaining: 944ms\n",
      "637:\tlearn: 0.1090623\ttotal: 1.66s\tremaining: 942ms\n",
      "638:\tlearn: 0.1088426\ttotal: 1.66s\tremaining: 939ms\n",
      "639:\tlearn: 0.1086746\ttotal: 1.67s\tremaining: 937ms\n",
      "640:\tlearn: 0.1085721\ttotal: 1.67s\tremaining: 935ms\n",
      "641:\tlearn: 0.1082992\ttotal: 1.67s\tremaining: 933ms\n",
      "642:\tlearn: 0.1082494\ttotal: 1.68s\tremaining: 931ms\n",
      "643:\tlearn: 0.1080282\ttotal: 1.68s\tremaining: 928ms\n",
      "644:\tlearn: 0.1077716\ttotal: 1.68s\tremaining: 926ms\n",
      "645:\tlearn: 0.1076054\ttotal: 1.69s\tremaining: 924ms\n",
      "646:\tlearn: 0.1073861\ttotal: 1.69s\tremaining: 922ms\n",
      "647:\tlearn: 0.1071242\ttotal: 1.69s\tremaining: 920ms\n",
      "648:\tlearn: 0.1069108\ttotal: 1.7s\tremaining: 918ms\n",
      "649:\tlearn: 0.1066997\ttotal: 1.7s\tremaining: 916ms\n",
      "650:\tlearn: 0.1065850\ttotal: 1.7s\tremaining: 914ms\n",
      "651:\tlearn: 0.1063372\ttotal: 1.71s\tremaining: 911ms\n",
      "652:\tlearn: 0.1061370\ttotal: 1.71s\tremaining: 909ms\n",
      "653:\tlearn: 0.1059212\ttotal: 1.71s\tremaining: 907ms\n",
      "654:\tlearn: 0.1057303\ttotal: 1.72s\tremaining: 905ms\n",
      "655:\tlearn: 0.1055659\ttotal: 1.72s\tremaining: 903ms\n",
      "656:\tlearn: 0.1054109\ttotal: 1.72s\tremaining: 900ms\n",
      "657:\tlearn: 0.1052432\ttotal: 1.73s\tremaining: 898ms\n",
      "658:\tlearn: 0.1051393\ttotal: 1.73s\tremaining: 896ms\n",
      "659:\tlearn: 0.1049462\ttotal: 1.74s\tremaining: 894ms\n",
      "660:\tlearn: 0.1047395\ttotal: 1.74s\tremaining: 892ms\n",
      "661:\tlearn: 0.1045999\ttotal: 1.74s\tremaining: 890ms\n",
      "662:\tlearn: 0.1044776\ttotal: 1.75s\tremaining: 887ms\n",
      "663:\tlearn: 0.1042562\ttotal: 1.75s\tremaining: 885ms\n",
      "664:\tlearn: 0.1041225\ttotal: 1.75s\tremaining: 883ms\n",
      "665:\tlearn: 0.1039970\ttotal: 1.75s\tremaining: 881ms\n",
      "666:\tlearn: 0.1038146\ttotal: 1.76s\tremaining: 878ms\n",
      "667:\tlearn: 0.1035781\ttotal: 1.76s\tremaining: 876ms\n",
      "668:\tlearn: 0.1033761\ttotal: 1.77s\tremaining: 874ms\n",
      "669:\tlearn: 0.1031821\ttotal: 1.77s\tremaining: 872ms\n",
      "670:\tlearn: 0.1030243\ttotal: 1.77s\tremaining: 870ms\n",
      "671:\tlearn: 0.1029612\ttotal: 1.78s\tremaining: 867ms\n",
      "672:\tlearn: 0.1027829\ttotal: 1.78s\tremaining: 865ms\n",
      "673:\tlearn: 0.1027083\ttotal: 1.78s\tremaining: 863ms\n",
      "674:\tlearn: 0.1025538\ttotal: 1.79s\tremaining: 861ms\n",
      "675:\tlearn: 0.1024485\ttotal: 1.79s\tremaining: 858ms\n",
      "676:\tlearn: 0.1023229\ttotal: 1.79s\tremaining: 856ms\n",
      "677:\tlearn: 0.1022612\ttotal: 1.8s\tremaining: 854ms\n",
      "678:\tlearn: 0.1021668\ttotal: 1.8s\tremaining: 852ms\n",
      "679:\tlearn: 0.1020854\ttotal: 1.8s\tremaining: 850ms\n",
      "680:\tlearn: 0.1018448\ttotal: 1.81s\tremaining: 847ms\n",
      "681:\tlearn: 0.1017200\ttotal: 1.81s\tremaining: 845ms\n",
      "682:\tlearn: 0.1015573\ttotal: 1.81s\tremaining: 842ms\n",
      "683:\tlearn: 0.1014816\ttotal: 1.82s\tremaining: 840ms\n",
      "684:\tlearn: 0.1012881\ttotal: 1.82s\tremaining: 838ms\n",
      "685:\tlearn: 0.1010472\ttotal: 1.82s\tremaining: 835ms\n",
      "686:\tlearn: 0.1008234\ttotal: 1.83s\tremaining: 833ms\n",
      "687:\tlearn: 0.1007255\ttotal: 1.83s\tremaining: 831ms\n",
      "688:\tlearn: 0.1006070\ttotal: 1.83s\tremaining: 829ms\n",
      "689:\tlearn: 0.1004429\ttotal: 1.84s\tremaining: 826ms\n",
      "690:\tlearn: 0.1002559\ttotal: 1.84s\tremaining: 824ms\n",
      "691:\tlearn: 0.1001151\ttotal: 1.85s\tremaining: 822ms\n",
      "692:\tlearn: 0.0999890\ttotal: 1.85s\tremaining: 820ms\n",
      "693:\tlearn: 0.0998708\ttotal: 1.85s\tremaining: 817ms\n",
      "694:\tlearn: 0.0997217\ttotal: 1.86s\tremaining: 815ms\n",
      "695:\tlearn: 0.0996569\ttotal: 1.86s\tremaining: 813ms\n",
      "696:\tlearn: 0.0993087\ttotal: 1.86s\tremaining: 810ms\n",
      "697:\tlearn: 0.0991998\ttotal: 1.87s\tremaining: 808ms\n",
      "698:\tlearn: 0.0990926\ttotal: 1.87s\tremaining: 806ms\n",
      "699:\tlearn: 0.0988801\ttotal: 1.87s\tremaining: 803ms\n",
      "700:\tlearn: 0.0987355\ttotal: 1.88s\tremaining: 801ms\n",
      "701:\tlearn: 0.0985314\ttotal: 1.88s\tremaining: 799ms\n",
      "702:\tlearn: 0.0983881\ttotal: 1.88s\tremaining: 796ms\n",
      "703:\tlearn: 0.0982265\ttotal: 1.89s\tremaining: 794ms\n",
      "704:\tlearn: 0.0979996\ttotal: 1.89s\tremaining: 792ms\n",
      "705:\tlearn: 0.0978450\ttotal: 1.9s\tremaining: 789ms\n",
      "706:\tlearn: 0.0977264\ttotal: 1.9s\tremaining: 787ms\n",
      "707:\tlearn: 0.0976095\ttotal: 1.9s\tremaining: 784ms\n",
      "708:\tlearn: 0.0975511\ttotal: 1.91s\tremaining: 782ms\n",
      "709:\tlearn: 0.0974319\ttotal: 1.91s\tremaining: 780ms\n",
      "710:\tlearn: 0.0972691\ttotal: 1.91s\tremaining: 777ms\n",
      "711:\tlearn: 0.0971191\ttotal: 1.92s\tremaining: 775ms\n",
      "712:\tlearn: 0.0969586\ttotal: 1.92s\tremaining: 773ms\n",
      "713:\tlearn: 0.0968354\ttotal: 1.92s\tremaining: 770ms\n",
      "714:\tlearn: 0.0967472\ttotal: 1.93s\tremaining: 768ms\n"
     ]
    },
    {
     "name": "stdout",
     "output_type": "stream",
     "text": [
      "715:\tlearn: 0.0966619\ttotal: 1.93s\tremaining: 766ms\n",
      "716:\tlearn: 0.0965363\ttotal: 1.93s\tremaining: 763ms\n",
      "717:\tlearn: 0.0964914\ttotal: 1.94s\tremaining: 761ms\n",
      "718:\tlearn: 0.0963756\ttotal: 1.94s\tremaining: 758ms\n",
      "719:\tlearn: 0.0961808\ttotal: 1.94s\tremaining: 756ms\n",
      "720:\tlearn: 0.0961312\ttotal: 1.95s\tremaining: 754ms\n",
      "721:\tlearn: 0.0959785\ttotal: 1.95s\tremaining: 751ms\n",
      "722:\tlearn: 0.0958537\ttotal: 1.95s\tremaining: 749ms\n",
      "723:\tlearn: 0.0957286\ttotal: 1.96s\tremaining: 746ms\n",
      "724:\tlearn: 0.0956001\ttotal: 1.96s\tremaining: 744ms\n",
      "725:\tlearn: 0.0954722\ttotal: 1.96s\tremaining: 742ms\n",
      "726:\tlearn: 0.0953699\ttotal: 1.97s\tremaining: 739ms\n",
      "727:\tlearn: 0.0952017\ttotal: 1.97s\tremaining: 737ms\n",
      "728:\tlearn: 0.0950022\ttotal: 1.98s\tremaining: 734ms\n",
      "729:\tlearn: 0.0948814\ttotal: 1.98s\tremaining: 732ms\n",
      "730:\tlearn: 0.0947519\ttotal: 1.98s\tremaining: 730ms\n",
      "731:\tlearn: 0.0945740\ttotal: 1.99s\tremaining: 727ms\n",
      "732:\tlearn: 0.0943856\ttotal: 1.99s\tremaining: 725ms\n",
      "733:\tlearn: 0.0942493\ttotal: 1.99s\tremaining: 722ms\n",
      "734:\tlearn: 0.0940241\ttotal: 2s\tremaining: 720ms\n",
      "735:\tlearn: 0.0939821\ttotal: 2s\tremaining: 717ms\n",
      "736:\tlearn: 0.0938652\ttotal: 2s\tremaining: 715ms\n",
      "737:\tlearn: 0.0936904\ttotal: 2.01s\tremaining: 712ms\n",
      "738:\tlearn: 0.0935671\ttotal: 2.01s\tremaining: 710ms\n",
      "739:\tlearn: 0.0934214\ttotal: 2.01s\tremaining: 707ms\n",
      "740:\tlearn: 0.0933909\ttotal: 2.02s\tremaining: 705ms\n",
      "741:\tlearn: 0.0933117\ttotal: 2.02s\tremaining: 702ms\n",
      "742:\tlearn: 0.0931650\ttotal: 2.02s\tremaining: 700ms\n",
      "743:\tlearn: 0.0929987\ttotal: 2.03s\tremaining: 698ms\n",
      "744:\tlearn: 0.0928477\ttotal: 2.03s\tremaining: 695ms\n",
      "745:\tlearn: 0.0927359\ttotal: 2.03s\tremaining: 692ms\n",
      "746:\tlearn: 0.0926642\ttotal: 2.04s\tremaining: 690ms\n",
      "747:\tlearn: 0.0925523\ttotal: 2.04s\tremaining: 687ms\n",
      "748:\tlearn: 0.0924010\ttotal: 2.04s\tremaining: 685ms\n",
      "749:\tlearn: 0.0922352\ttotal: 2.05s\tremaining: 683ms\n",
      "750:\tlearn: 0.0921319\ttotal: 2.05s\tremaining: 680ms\n",
      "751:\tlearn: 0.0919721\ttotal: 2.05s\tremaining: 678ms\n",
      "752:\tlearn: 0.0918757\ttotal: 2.06s\tremaining: 675ms\n",
      "753:\tlearn: 0.0917609\ttotal: 2.06s\tremaining: 673ms\n",
      "754:\tlearn: 0.0916166\ttotal: 2.06s\tremaining: 670ms\n",
      "755:\tlearn: 0.0914987\ttotal: 2.07s\tremaining: 668ms\n",
      "756:\tlearn: 0.0914597\ttotal: 2.07s\tremaining: 665ms\n",
      "757:\tlearn: 0.0913391\ttotal: 2.08s\tremaining: 663ms\n",
      "758:\tlearn: 0.0912416\ttotal: 2.08s\tremaining: 660ms\n",
      "759:\tlearn: 0.0911043\ttotal: 2.08s\tremaining: 658ms\n",
      "760:\tlearn: 0.0909780\ttotal: 2.09s\tremaining: 655ms\n",
      "761:\tlearn: 0.0907914\ttotal: 2.09s\tremaining: 653ms\n",
      "762:\tlearn: 0.0906603\ttotal: 2.09s\tremaining: 650ms\n",
      "763:\tlearn: 0.0905659\ttotal: 2.1s\tremaining: 648ms\n",
      "764:\tlearn: 0.0904209\ttotal: 2.1s\tremaining: 645ms\n",
      "765:\tlearn: 0.0902197\ttotal: 2.1s\tremaining: 643ms\n",
      "766:\tlearn: 0.0900252\ttotal: 2.11s\tremaining: 640ms\n",
      "767:\tlearn: 0.0899548\ttotal: 2.11s\tremaining: 638ms\n",
      "768:\tlearn: 0.0898590\ttotal: 2.12s\tremaining: 635ms\n",
      "769:\tlearn: 0.0897634\ttotal: 2.12s\tremaining: 633ms\n",
      "770:\tlearn: 0.0896106\ttotal: 2.12s\tremaining: 631ms\n",
      "771:\tlearn: 0.0895110\ttotal: 2.13s\tremaining: 628ms\n",
      "772:\tlearn: 0.0893289\ttotal: 2.13s\tremaining: 626ms\n",
      "773:\tlearn: 0.0891470\ttotal: 2.13s\tremaining: 623ms\n",
      "774:\tlearn: 0.0890327\ttotal: 2.14s\tremaining: 620ms\n",
      "775:\tlearn: 0.0888099\ttotal: 2.14s\tremaining: 618ms\n",
      "776:\tlearn: 0.0886439\ttotal: 2.14s\tremaining: 615ms\n",
      "777:\tlearn: 0.0884520\ttotal: 2.15s\tremaining: 613ms\n",
      "778:\tlearn: 0.0883668\ttotal: 2.15s\tremaining: 610ms\n",
      "779:\tlearn: 0.0881784\ttotal: 2.15s\tremaining: 608ms\n",
      "780:\tlearn: 0.0880956\ttotal: 2.16s\tremaining: 605ms\n",
      "781:\tlearn: 0.0879918\ttotal: 2.16s\tremaining: 603ms\n",
      "782:\tlearn: 0.0878844\ttotal: 2.16s\tremaining: 600ms\n",
      "783:\tlearn: 0.0877633\ttotal: 2.17s\tremaining: 597ms\n",
      "784:\tlearn: 0.0876241\ttotal: 2.17s\tremaining: 595ms\n",
      "785:\tlearn: 0.0874871\ttotal: 2.17s\tremaining: 592ms\n",
      "786:\tlearn: 0.0873246\ttotal: 2.18s\tremaining: 590ms\n",
      "787:\tlearn: 0.0872162\ttotal: 2.18s\tremaining: 587ms\n",
      "788:\tlearn: 0.0870985\ttotal: 2.19s\tremaining: 584ms\n",
      "789:\tlearn: 0.0869882\ttotal: 2.19s\tremaining: 582ms\n",
      "790:\tlearn: 0.0868616\ttotal: 2.19s\tremaining: 579ms\n",
      "791:\tlearn: 0.0867726\ttotal: 2.2s\tremaining: 577ms\n",
      "792:\tlearn: 0.0865890\ttotal: 2.2s\tremaining: 574ms\n",
      "793:\tlearn: 0.0864512\ttotal: 2.2s\tremaining: 572ms\n",
      "794:\tlearn: 0.0861625\ttotal: 2.21s\tremaining: 569ms\n",
      "795:\tlearn: 0.0860783\ttotal: 2.21s\tremaining: 567ms\n",
      "796:\tlearn: 0.0859844\ttotal: 2.21s\tremaining: 564ms\n",
      "797:\tlearn: 0.0858145\ttotal: 2.22s\tremaining: 561ms\n",
      "798:\tlearn: 0.0856202\ttotal: 2.22s\tremaining: 559ms\n",
      "799:\tlearn: 0.0854638\ttotal: 2.22s\tremaining: 556ms\n",
      "800:\tlearn: 0.0853563\ttotal: 2.23s\tremaining: 554ms\n",
      "801:\tlearn: 0.0852678\ttotal: 2.23s\tremaining: 551ms\n",
      "802:\tlearn: 0.0851478\ttotal: 2.23s\tremaining: 548ms\n",
      "803:\tlearn: 0.0850803\ttotal: 2.24s\tremaining: 546ms\n",
      "804:\tlearn: 0.0850050\ttotal: 2.24s\tremaining: 543ms\n",
      "805:\tlearn: 0.0849023\ttotal: 2.24s\tremaining: 540ms\n",
      "806:\tlearn: 0.0848405\ttotal: 2.25s\tremaining: 538ms\n",
      "807:\tlearn: 0.0847423\ttotal: 2.25s\tremaining: 535ms\n",
      "808:\tlearn: 0.0846397\ttotal: 2.25s\tremaining: 532ms\n",
      "809:\tlearn: 0.0845994\ttotal: 2.26s\tremaining: 530ms\n",
      "810:\tlearn: 0.0844653\ttotal: 2.26s\tremaining: 527ms\n",
      "811:\tlearn: 0.0844063\ttotal: 2.27s\tremaining: 524ms\n",
      "812:\tlearn: 0.0842936\ttotal: 2.27s\tremaining: 522ms\n",
      "813:\tlearn: 0.0841032\ttotal: 2.27s\tremaining: 519ms\n",
      "814:\tlearn: 0.0840135\ttotal: 2.27s\tremaining: 517ms\n",
      "815:\tlearn: 0.0838958\ttotal: 2.28s\tremaining: 514ms\n",
      "816:\tlearn: 0.0837489\ttotal: 2.28s\tremaining: 511ms\n",
      "817:\tlearn: 0.0836215\ttotal: 2.29s\tremaining: 509ms\n",
      "818:\tlearn: 0.0835229\ttotal: 2.29s\tremaining: 506ms\n",
      "819:\tlearn: 0.0833747\ttotal: 2.29s\tremaining: 503ms\n",
      "820:\tlearn: 0.0832403\ttotal: 2.3s\tremaining: 501ms\n",
      "821:\tlearn: 0.0831002\ttotal: 2.3s\tremaining: 498ms\n",
      "822:\tlearn: 0.0829906\ttotal: 2.3s\tremaining: 496ms\n",
      "823:\tlearn: 0.0827761\ttotal: 2.31s\tremaining: 493ms\n",
      "824:\tlearn: 0.0826355\ttotal: 2.31s\tremaining: 490ms\n",
      "825:\tlearn: 0.0825354\ttotal: 2.31s\tremaining: 488ms\n",
      "826:\tlearn: 0.0824557\ttotal: 2.32s\tremaining: 485ms\n",
      "827:\tlearn: 0.0823599\ttotal: 2.32s\tremaining: 482ms\n",
      "828:\tlearn: 0.0822108\ttotal: 2.32s\tremaining: 479ms\n",
      "829:\tlearn: 0.0820844\ttotal: 2.33s\tremaining: 477ms\n",
      "830:\tlearn: 0.0819952\ttotal: 2.33s\tremaining: 474ms\n",
      "831:\tlearn: 0.0818924\ttotal: 2.33s\tremaining: 472ms\n",
      "832:\tlearn: 0.0817677\ttotal: 2.34s\tremaining: 469ms\n",
      "833:\tlearn: 0.0816999\ttotal: 2.34s\tremaining: 466ms\n",
      "834:\tlearn: 0.0815982\ttotal: 2.35s\tremaining: 463ms\n",
      "835:\tlearn: 0.0814992\ttotal: 2.35s\tremaining: 461ms\n",
      "836:\tlearn: 0.0814153\ttotal: 2.35s\tremaining: 458ms\n",
      "837:\tlearn: 0.0813214\ttotal: 2.35s\tremaining: 455ms\n",
      "838:\tlearn: 0.0812673\ttotal: 2.36s\tremaining: 453ms\n",
      "839:\tlearn: 0.0811430\ttotal: 2.36s\tremaining: 450ms\n",
      "840:\tlearn: 0.0810039\ttotal: 2.37s\tremaining: 447ms\n",
      "841:\tlearn: 0.0808555\ttotal: 2.37s\tremaining: 445ms\n",
      "842:\tlearn: 0.0807761\ttotal: 2.37s\tremaining: 442ms\n",
      "843:\tlearn: 0.0806002\ttotal: 2.38s\tremaining: 439ms\n",
      "844:\tlearn: 0.0804118\ttotal: 2.38s\tremaining: 437ms\n",
      "845:\tlearn: 0.0803365\ttotal: 2.38s\tremaining: 434ms\n",
      "846:\tlearn: 0.0801956\ttotal: 2.39s\tremaining: 431ms\n",
      "847:\tlearn: 0.0800922\ttotal: 2.39s\tremaining: 429ms\n",
      "848:\tlearn: 0.0799997\ttotal: 2.39s\tremaining: 426ms\n",
      "849:\tlearn: 0.0798803\ttotal: 2.4s\tremaining: 423ms\n",
      "850:\tlearn: 0.0798079\ttotal: 2.4s\tremaining: 421ms\n",
      "851:\tlearn: 0.0797161\ttotal: 2.4s\tremaining: 418ms\n",
      "852:\tlearn: 0.0796193\ttotal: 2.41s\tremaining: 415ms\n",
      "853:\tlearn: 0.0795011\ttotal: 2.41s\tremaining: 412ms\n",
      "854:\tlearn: 0.0794394\ttotal: 2.42s\tremaining: 410ms\n",
      "855:\tlearn: 0.0793833\ttotal: 2.42s\tremaining: 407ms\n",
      "856:\tlearn: 0.0793243\ttotal: 2.42s\tremaining: 404ms\n",
      "857:\tlearn: 0.0791974\ttotal: 2.42s\tremaining: 401ms\n",
      "858:\tlearn: 0.0790815\ttotal: 2.43s\tremaining: 399ms\n",
      "859:\tlearn: 0.0789913\ttotal: 2.43s\tremaining: 396ms\n",
      "860:\tlearn: 0.0789204\ttotal: 2.44s\tremaining: 393ms\n",
      "861:\tlearn: 0.0788014\ttotal: 2.44s\tremaining: 391ms\n",
      "862:\tlearn: 0.0787452\ttotal: 2.44s\tremaining: 388ms\n",
      "863:\tlearn: 0.0786387\ttotal: 2.45s\tremaining: 385ms\n",
      "864:\tlearn: 0.0785707\ttotal: 2.45s\tremaining: 382ms\n",
      "865:\tlearn: 0.0784264\ttotal: 2.45s\tremaining: 380ms\n",
      "866:\tlearn: 0.0782621\ttotal: 2.46s\tremaining: 377ms\n",
      "867:\tlearn: 0.0780864\ttotal: 2.46s\tremaining: 374ms\n",
      "868:\tlearn: 0.0780223\ttotal: 2.46s\tremaining: 372ms\n",
      "869:\tlearn: 0.0779358\ttotal: 2.47s\tremaining: 369ms\n",
      "870:\tlearn: 0.0778818\ttotal: 2.47s\tremaining: 366ms\n",
      "871:\tlearn: 0.0778261\ttotal: 2.47s\tremaining: 363ms\n",
      "872:\tlearn: 0.0777019\ttotal: 2.48s\tremaining: 360ms\n",
      "873:\tlearn: 0.0776104\ttotal: 2.48s\tremaining: 358ms\n",
      "874:\tlearn: 0.0775188\ttotal: 2.48s\tremaining: 355ms\n",
      "875:\tlearn: 0.0773979\ttotal: 2.49s\tremaining: 352ms\n",
      "876:\tlearn: 0.0772574\ttotal: 2.49s\tremaining: 349ms\n",
      "877:\tlearn: 0.0771367\ttotal: 2.49s\tremaining: 347ms\n",
      "878:\tlearn: 0.0770019\ttotal: 2.5s\tremaining: 344ms\n",
      "879:\tlearn: 0.0769294\ttotal: 2.5s\tremaining: 341ms\n",
      "880:\tlearn: 0.0767809\ttotal: 2.5s\tremaining: 338ms\n",
      "881:\tlearn: 0.0766227\ttotal: 2.51s\tremaining: 336ms\n",
      "882:\tlearn: 0.0765290\ttotal: 2.51s\tremaining: 333ms\n",
      "883:\tlearn: 0.0763483\ttotal: 2.52s\tremaining: 330ms\n",
      "884:\tlearn: 0.0762326\ttotal: 2.52s\tremaining: 327ms\n",
      "885:\tlearn: 0.0761596\ttotal: 2.52s\tremaining: 325ms\n",
      "886:\tlearn: 0.0760517\ttotal: 2.53s\tremaining: 322ms\n",
      "887:\tlearn: 0.0759537\ttotal: 2.53s\tremaining: 319ms\n"
     ]
    },
    {
     "name": "stdout",
     "output_type": "stream",
     "text": [
      "888:\tlearn: 0.0758636\ttotal: 2.53s\tremaining: 316ms\n",
      "889:\tlearn: 0.0757801\ttotal: 2.54s\tremaining: 314ms\n",
      "890:\tlearn: 0.0756766\ttotal: 2.54s\tremaining: 311ms\n",
      "891:\tlearn: 0.0755536\ttotal: 2.54s\tremaining: 308ms\n",
      "892:\tlearn: 0.0754337\ttotal: 2.55s\tremaining: 305ms\n",
      "893:\tlearn: 0.0753292\ttotal: 2.55s\tremaining: 302ms\n",
      "894:\tlearn: 0.0752016\ttotal: 2.55s\tremaining: 300ms\n",
      "895:\tlearn: 0.0750802\ttotal: 2.56s\tremaining: 297ms\n",
      "896:\tlearn: 0.0749704\ttotal: 2.56s\tremaining: 294ms\n",
      "897:\tlearn: 0.0749023\ttotal: 2.56s\tremaining: 291ms\n",
      "898:\tlearn: 0.0746717\ttotal: 2.57s\tremaining: 288ms\n",
      "899:\tlearn: 0.0745184\ttotal: 2.57s\tremaining: 286ms\n",
      "900:\tlearn: 0.0744179\ttotal: 2.57s\tremaining: 283ms\n",
      "901:\tlearn: 0.0743565\ttotal: 2.58s\tremaining: 280ms\n",
      "902:\tlearn: 0.0742597\ttotal: 2.58s\tremaining: 277ms\n",
      "903:\tlearn: 0.0742015\ttotal: 2.58s\tremaining: 275ms\n",
      "904:\tlearn: 0.0741004\ttotal: 2.59s\tremaining: 272ms\n",
      "905:\tlearn: 0.0740476\ttotal: 2.59s\tremaining: 269ms\n",
      "906:\tlearn: 0.0739715\ttotal: 2.6s\tremaining: 266ms\n",
      "907:\tlearn: 0.0738168\ttotal: 2.6s\tremaining: 263ms\n",
      "908:\tlearn: 0.0736872\ttotal: 2.6s\tremaining: 261ms\n",
      "909:\tlearn: 0.0736316\ttotal: 2.6s\tremaining: 258ms\n",
      "910:\tlearn: 0.0734692\ttotal: 2.61s\tremaining: 255ms\n",
      "911:\tlearn: 0.0732279\ttotal: 2.61s\tremaining: 252ms\n",
      "912:\tlearn: 0.0730014\ttotal: 2.62s\tremaining: 249ms\n",
      "913:\tlearn: 0.0729196\ttotal: 2.62s\tremaining: 247ms\n",
      "914:\tlearn: 0.0728733\ttotal: 2.62s\tremaining: 244ms\n",
      "915:\tlearn: 0.0727432\ttotal: 2.63s\tremaining: 241ms\n",
      "916:\tlearn: 0.0726336\ttotal: 2.63s\tremaining: 238ms\n",
      "917:\tlearn: 0.0726064\ttotal: 2.63s\tremaining: 235ms\n",
      "918:\tlearn: 0.0724869\ttotal: 2.64s\tremaining: 232ms\n",
      "919:\tlearn: 0.0723857\ttotal: 2.64s\tremaining: 230ms\n",
      "920:\tlearn: 0.0723033\ttotal: 2.64s\tremaining: 227ms\n",
      "921:\tlearn: 0.0722288\ttotal: 2.65s\tremaining: 224ms\n",
      "922:\tlearn: 0.0721213\ttotal: 2.65s\tremaining: 221ms\n",
      "923:\tlearn: 0.0719601\ttotal: 2.65s\tremaining: 218ms\n",
      "924:\tlearn: 0.0718755\ttotal: 2.66s\tremaining: 216ms\n",
      "925:\tlearn: 0.0717838\ttotal: 2.66s\tremaining: 213ms\n",
      "926:\tlearn: 0.0715582\ttotal: 2.67s\tremaining: 210ms\n",
      "927:\tlearn: 0.0713587\ttotal: 2.67s\tremaining: 207ms\n",
      "928:\tlearn: 0.0713295\ttotal: 2.67s\tremaining: 204ms\n",
      "929:\tlearn: 0.0711924\ttotal: 2.67s\tremaining: 201ms\n",
      "930:\tlearn: 0.0710549\ttotal: 2.68s\tremaining: 199ms\n",
      "931:\tlearn: 0.0709041\ttotal: 2.68s\tremaining: 196ms\n",
      "932:\tlearn: 0.0707619\ttotal: 2.69s\tremaining: 193ms\n",
      "933:\tlearn: 0.0706487\ttotal: 2.69s\tremaining: 190ms\n",
      "934:\tlearn: 0.0705889\ttotal: 2.69s\tremaining: 187ms\n",
      "935:\tlearn: 0.0703834\ttotal: 2.7s\tremaining: 184ms\n",
      "936:\tlearn: 0.0702814\ttotal: 2.7s\tremaining: 182ms\n",
      "937:\tlearn: 0.0702110\ttotal: 2.7s\tremaining: 179ms\n",
      "938:\tlearn: 0.0701413\ttotal: 2.71s\tremaining: 176ms\n",
      "939:\tlearn: 0.0701068\ttotal: 2.71s\tremaining: 173ms\n",
      "940:\tlearn: 0.0700433\ttotal: 2.71s\tremaining: 170ms\n",
      "941:\tlearn: 0.0700129\ttotal: 2.72s\tremaining: 167ms\n",
      "942:\tlearn: 0.0699443\ttotal: 2.72s\tremaining: 165ms\n",
      "943:\tlearn: 0.0698782\ttotal: 2.73s\tremaining: 162ms\n",
      "944:\tlearn: 0.0697891\ttotal: 2.73s\tremaining: 159ms\n",
      "945:\tlearn: 0.0697251\ttotal: 2.73s\tremaining: 156ms\n",
      "946:\tlearn: 0.0696538\ttotal: 2.73s\tremaining: 153ms\n",
      "947:\tlearn: 0.0695732\ttotal: 2.74s\tremaining: 150ms\n",
      "948:\tlearn: 0.0694729\ttotal: 2.74s\tremaining: 147ms\n",
      "949:\tlearn: 0.0693630\ttotal: 2.75s\tremaining: 145ms\n",
      "950:\tlearn: 0.0692762\ttotal: 2.75s\tremaining: 142ms\n",
      "951:\tlearn: 0.0690862\ttotal: 2.75s\tremaining: 139ms\n",
      "952:\tlearn: 0.0690362\ttotal: 2.75s\tremaining: 136ms\n",
      "953:\tlearn: 0.0689656\ttotal: 2.76s\tremaining: 133ms\n",
      "954:\tlearn: 0.0688746\ttotal: 2.76s\tremaining: 130ms\n",
      "955:\tlearn: 0.0688006\ttotal: 2.77s\tremaining: 127ms\n",
      "956:\tlearn: 0.0686722\ttotal: 2.77s\tremaining: 124ms\n",
      "957:\tlearn: 0.0686299\ttotal: 2.77s\tremaining: 122ms\n",
      "958:\tlearn: 0.0685564\ttotal: 2.78s\tremaining: 119ms\n",
      "959:\tlearn: 0.0684854\ttotal: 2.78s\tremaining: 116ms\n",
      "960:\tlearn: 0.0683045\ttotal: 2.78s\tremaining: 113ms\n",
      "961:\tlearn: 0.0682440\ttotal: 2.79s\tremaining: 110ms\n",
      "962:\tlearn: 0.0681400\ttotal: 2.79s\tremaining: 107ms\n",
      "963:\tlearn: 0.0680412\ttotal: 2.79s\tremaining: 104ms\n",
      "964:\tlearn: 0.0679406\ttotal: 2.8s\tremaining: 101ms\n",
      "965:\tlearn: 0.0678683\ttotal: 2.8s\tremaining: 98.6ms\n",
      "966:\tlearn: 0.0677986\ttotal: 2.81s\tremaining: 95.7ms\n",
      "967:\tlearn: 0.0677358\ttotal: 2.81s\tremaining: 92.8ms\n",
      "968:\tlearn: 0.0675945\ttotal: 2.81s\tremaining: 90ms\n",
      "969:\tlearn: 0.0674836\ttotal: 2.81s\tremaining: 87.1ms\n",
      "970:\tlearn: 0.0673985\ttotal: 2.82s\tremaining: 84.2ms\n",
      "971:\tlearn: 0.0673250\ttotal: 2.82s\tremaining: 81.3ms\n",
      "972:\tlearn: 0.0671978\ttotal: 2.83s\tremaining: 78.5ms\n",
      "973:\tlearn: 0.0671490\ttotal: 2.83s\tremaining: 75.6ms\n",
      "974:\tlearn: 0.0670287\ttotal: 2.83s\tremaining: 72.7ms\n",
      "975:\tlearn: 0.0669218\ttotal: 2.84s\tremaining: 69.8ms\n",
      "976:\tlearn: 0.0668383\ttotal: 2.84s\tremaining: 66.9ms\n",
      "977:\tlearn: 0.0666946\ttotal: 2.85s\tremaining: 64ms\n",
      "978:\tlearn: 0.0666171\ttotal: 2.85s\tremaining: 61.1ms\n",
      "979:\tlearn: 0.0665701\ttotal: 2.85s\tremaining: 58.2ms\n",
      "980:\tlearn: 0.0664903\ttotal: 2.85s\tremaining: 55.3ms\n",
      "981:\tlearn: 0.0664447\ttotal: 2.86s\tremaining: 52.4ms\n",
      "982:\tlearn: 0.0663555\ttotal: 2.86s\tremaining: 49.5ms\n",
      "983:\tlearn: 0.0663039\ttotal: 2.87s\tremaining: 46.6ms\n",
      "984:\tlearn: 0.0662227\ttotal: 2.87s\tremaining: 43.7ms\n",
      "985:\tlearn: 0.0661840\ttotal: 2.87s\tremaining: 40.8ms\n",
      "986:\tlearn: 0.0661059\ttotal: 2.88s\tremaining: 37.9ms\n",
      "987:\tlearn: 0.0659982\ttotal: 2.88s\tremaining: 35ms\n",
      "988:\tlearn: 0.0659430\ttotal: 2.88s\tremaining: 32.1ms\n",
      "989:\tlearn: 0.0658493\ttotal: 2.89s\tremaining: 29.2ms\n",
      "990:\tlearn: 0.0656533\ttotal: 2.89s\tremaining: 26.2ms\n",
      "991:\tlearn: 0.0655998\ttotal: 2.89s\tremaining: 23.3ms\n",
      "992:\tlearn: 0.0654685\ttotal: 2.9s\tremaining: 20.4ms\n",
      "993:\tlearn: 0.0653418\ttotal: 2.9s\tremaining: 17.5ms\n",
      "994:\tlearn: 0.0652227\ttotal: 2.9s\tremaining: 14.6ms\n",
      "995:\tlearn: 0.0651170\ttotal: 2.91s\tremaining: 11.7ms\n",
      "996:\tlearn: 0.0650115\ttotal: 2.91s\tremaining: 8.76ms\n",
      "997:\tlearn: 0.0649087\ttotal: 2.91s\tremaining: 5.84ms\n",
      "998:\tlearn: 0.0648226\ttotal: 2.92s\tremaining: 2.92ms\n",
      "999:\tlearn: 0.0647388\ttotal: 2.92s\tremaining: 0us\n"
     ]
    }
   ],
   "source": [
    "cat_clf = CatBoostClassifier()\n",
    "cat_clf.fit(X_train,y_train)\n",
    "cat_pred = cat_clf.predict(X_test)\n",
    "cat_acc = accuracy_score(y_test, cat_pred)\n",
    "accuracy_list.append(100*cat_acc)"
   ]
  },
  {
   "cell_type": "code",
   "execution_count": 46,
   "id": "36d085ed",
   "metadata": {},
   "outputs": [
    {
     "name": "stdout",
     "output_type": "stream",
     "text": [
      "\u001b[32mAccuracy of CatBoostClassifier is :  96.76%\n"
     ]
    }
   ],
   "source": [
    "print(Fore.GREEN + \"Accuracy of CatBoostClassifier is : \",\"{:.2f}%\".format(100* cat_acc))"
   ]
  },
  {
   "cell_type": "code",
   "execution_count": 47,
   "id": "febea219",
   "metadata": {},
   "outputs": [
    {
     "data": {
      "text/plain": [
       "<Figure size 640x480 with 0 Axes>"
      ]
     },
     "metadata": {},
     "output_type": "display_data"
    },
    {
     "data": {
      "image/png": "[encoded data removed]",
      "text/plain": [
       "<Figure size 300x300 with 1 Axes>"
      ]
     },
     "metadata": {},
     "output_type": "display_data"
    }
   ],
   "source": [
    "m = confusion_matrix(y_test, cat_pred)\n",
    "plt.figure()\n",
    "plot_confusion_matrix(cm, figsize=(3,3), hide_ticks=True, cmap=plt.cm.gray_r)\n",
    "plt.title(\"XGBRFClassifier Model - Confusion Matrix\")\n",
    "plt.xticks(range(2), [\"Not Taken\",\"Taken\"], fontsize=10)\n",
    "plt.yticks(range(2), [\"Not Taken\",\"Taken\"], fontsize=10)\n",
    "plt.show()"
   ]
  },
  {
   "cell_type": "code",
   "execution_count": 48,
   "id": "313bcc68",
   "metadata": {},
   "outputs": [
    {
     "name": "stdout",
     "output_type": "stream",
     "text": [
      "              precision    recall  f1-score   support\n",
      "\n",
      "           0       0.96      1.00      0.98      1375\n",
      "           1       1.00      0.83      0.91       320\n",
      "\n",
      "    accuracy                           0.97      1695\n",
      "   macro avg       0.98      0.92      0.94      1695\n",
      "weighted avg       0.97      0.97      0.97      1695\n",
      "\n"
     ]
    }
   ],
   "source": [
    "print(classification_report(y_test,cat_pred))"
   ]
  },
  {
   "cell_type": "code",
   "execution_count": 49,
   "id": "0ef28e2d",
   "metadata": {},
   "outputs": [],
   "source": [
    "model_list = ['Random Forest','Logistic regression','SVM','Decision Tree','KNN Classifier','Gradient Boosting',\n",
    "              'xgbrf Clasifier','Cat Boost Classifier']"
   ]
  },
  {
   "cell_type": "code",
   "execution_count": 50,
   "id": "534cf09a",
   "metadata": {},
   "outputs": [
    {
     "data": {
      "text/plain": [
       "[97.93510324483776,\n",
       " 84.0117994100295,\n",
       " 87.43362831858407,\n",
       " 82.47787610619469,\n",
       " 92.97935103244838,\n",
       " 98.05309734513274,\n",
       " 96.87315634218288,\n",
       " 96.7551622418879]"
      ]
     },
     "execution_count": 50,
     "metadata": {},
     "output_type": "execute_result"
    }
   ],
   "source": [
    "accuracy_list"
   ]
  },
  {
   "cell_type": "code",
   "execution_count": 51,
   "id": "37d592f8",
   "metadata": {
    "scrolled": false
   },
   "outputs": [
    {
     "data": {
      "image/png": "[encoded data removed]",
      "text/plain": [
       "<Figure size 2500x1000 with 1 Axes>"
      ]
     },
     "metadata": {},
     "output_type": "display_data"
    }
   ],
   "source": [
    "plt.rcParams['figure.figsize']=25,10\n",
    "sns.set_style('darkgrid')\n",
    "\n",
    "# Sort the data in descending order\n",
    "sorted_indices = sorted(range(len(accuracy_list)), key=lambda k: accuracy_list[k], reverse=True)\n",
    "sorted_model_list = [model_list[i] for i in sorted_indices]\n",
    "sorted_accuracy_list = [accuracy_list[i] for i in sorted_indices]\n",
    "\n",
    "ax = sns.barplot(x=sorted_model_list, y=sorted_accuracy_list, palette = \"husl\", saturation=2.0)\n",
    "plt.xlabel('\\nClassifier Models', fontsize = 30 )\n",
    "plt.ylabel('% of Accuracy', fontsize = 30)\n",
    "plt.title('Accuracy of different Classifier Models\\n\\n', fontsize = 35)\n",
    "plt.xticks(fontsize = 18, horizontalalignment = 'center', rotation =0)\n",
    "plt.yticks(fontsize = 15)\n",
    "\n",
    "for i in ax.patches:\n",
    "    width, height = i.get_width(), i.get_height()\n",
    "    x, y = i.get_xy() \n",
    "    ax.annotate(f'{round(height,2)}%', (x + width/2, y + height*1.02), ha='center', fontsize = 'x-large')\n",
    "plt.show()"
   ]
  },
  {
   "cell_type": "markdown",
   "id": "6bc89ff7",
   "metadata": {},
   "source": [
    "## Model Accuracy\n",
    "\n",
    "* Gradient Boosting - 98.05%\n",
    "* Random Forest - 97.94%\n",
    "* xgbrf Clasifier - 96.87%\n",
    "* Cat Boost Classifier - 96.76%\n",
    "* KNN Classifier - 92.98%\n",
    "* SVM - 87.43%\n",
    "* Logistic regression - 84.48%\n",
    "* Decision Tree - 82.48%"
   ]
  },
  {
   "cell_type": "markdown",
   "id": "26d7e0a9",
   "metadata": {},
   "source": [
    "## Conclusion:\n",
    "\n",
    "* Some of the models performed better after scaling down the values using **StandardScaler()** but some models showed a decrease in its accuracy."
   ]
  }
 ],
 "metadata": {
  "kernelspec": {
   "display_name": "Python 3 (ipykernel)",
   "language": "python",
   "name": "python3"
  },
  "language_info": {
   "codemirror_mode": {
    "name": "ipython",
    "version": 3
   },
   "file_extension": ".py",
   "mimetype": "text/x-python",
   "name": "python",
   "nbconvert_exporter": "python",
   "pygments_lexer": "ipython3",
   "version": "3.9.13"
  }
 },
 "nbformat": 4,
 "nbformat_minor": 5
}
